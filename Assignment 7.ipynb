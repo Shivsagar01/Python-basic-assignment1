{
 "cells": [
  {
   "cell_type": "markdown",
   "id": "cdcc012c",
   "metadata": {},
   "source": [
    "# Assignment 7"
   ]
  },
  {
   "cell_type": "markdown",
   "id": "6b8e9929",
   "metadata": {},
   "source": [
    "# Python Basic - 2"
   ]
  },
  {
   "cell_type": "markdown",
   "id": "e78355d5",
   "metadata": {},
   "source": [
    "**Q.1. Create two int type variables, apply addition, subtraction, division and multiplications\n",
    "and store the results in variables. Then print the data in the following format by calling the\n",
    "variables:**<br>\n",
    "**First variable is __ & second variable is __.**<br>\n",
    "**Addition: __ + __ = __**<br>\n",
    "**Subtraction: __ - __ = __**<br>\n",
    "**Multiplication: __ * __ = __**<br>\n",
    "**Division: __ / __ = __**<br>\n",
    "\n",
    "**Answer:**"
   ]
  },
  {
   "cell_type": "code",
   "execution_count": 17,
   "id": "907d51ea",
   "metadata": {
    "ExecuteTime": {
     "end_time": "2023-06-23T08:55:58.611541Z",
     "start_time": "2023-06-23T08:55:44.055077Z"
    }
   },
   "outputs": [
    {
     "name": "stdout",
     "output_type": "stream",
     "text": [
      "First variable is A & second variable is B\n",
      "Enter Two Numbers: 45\n",
      "5\n",
      "\n",
      "Addition:45 + 5 = 50\n",
      "Subtraction: 45 - 5 = 40\n",
      "Multiplication: 45 * 5 = 225\n",
      "Division: 45 / 5 = 9.0\n"
     ]
    }
   ],
   "source": [
    "print(\"First variable is A &\", end=\"\")\n",
    "print(\" second variable is B\")\n",
    "print(\"Enter Two Numbers: \", end=\"\")\n",
    "A = int(input())\n",
    "B = int(input())\n",
    "print(\"\\n\" \"Addition:\"+str(A)+ \" + \" +str(B)+ \" = \" +str(A+ B))\n",
    "print(\"Subtraction:\" ,str(A)+ \" - \" +str(B)+ \" = \" +str(A - B))\n",
    "print(\"Multiplication:\" ,str(A)+ \" * \" +str(B)+ \" = \" +str(A * B))\n",
    "print(\"Division:\" ,str(A)+ \" / \" +str(B)+ \" = \" +str(A / B))"
   ]
  },
  {
   "cell_type": "markdown",
   "id": "fa8d2d55",
   "metadata": {},
   "source": [
    "**Q.2. What is the difference between the following operators:**<br>\n",
    "(i) ‘/’ & ‘//’<br>\n",
    "(ii) ‘**’ & ‘^’<br>\n",
    "\n",
    "**Answer:** \n",
    "\n",
    "/' is the division operator.<br>\n",
    "\n",
    "'//' is the floor division operator.<br>\n",
    "\n",
    "Explanation:<br>\n",
    "\n",
    "Python supports different types of operators:<br>\n",
    "\n",
    "They are arithmetic operators, logical operators, assignment operators, etc.<br>\n",
    "\n",
    "'/' and '//' belong to the arithmetic operators.<br>\n",
    "\n",
    "'/' is used for the normal division of two numbers.<br>\n",
    "\n",
    "'//' is used to obtain the smallest integer nearest to the quotient obtained by dividing two numbers.<br>\n",
    "\n",
    "Let us see an example to understand this.<br>\n",
    "\n",
    "x = 15<br>\n",
    "\n",
    "y = 3<br>\n",
    "\n",
    "print(x / y)   #This prints output as 5<br>\n",
    "\n",
    "print(x // y)  #This prints output as 5<br>\n",
    "\n",
    "a = 19<br>\n",
    "\n",
    "b = 4<br>\n",
    "\n",
    "print(a // b)  #This prints output as 4<br>\n",
    "\n",
    "print(a / b)  #This prints output as 4.75<br>\n",
    "\n",
    "So, if the quotient obtained by dividing two numbers is not an integer, then operators '/' and '//' will return different answers.<br>\n",
    "\n",
    "\n",
    "'**' : is a exponent operator.\n",
    "'^'  : Bitwise XOR operator.\n",
    "\n",
    "Explanation:\n",
    "'**' : is a exponent operator. calculates exponential power value."
   ]
  },
  {
   "cell_type": "code",
   "execution_count": 2,
   "id": "ea56dc06",
   "metadata": {
    "ExecuteTime": {
     "end_time": "2023-06-23T13:29:13.188685Z",
     "start_time": "2023-06-23T13:29:13.158301Z"
    }
   },
   "outputs": [
    {
     "data": {
      "text/plain": [
       "25"
      ]
     },
     "execution_count": 2,
     "metadata": {},
     "output_type": "execute_result"
    }
   ],
   "source": [
    "# a**b gives the value of a to the power of b.\n",
    "a = 5\n",
    "b = 2\n",
    "a**b"
   ]
  },
  {
   "cell_type": "markdown",
   "id": "d0e95084",
   "metadata": {},
   "source": [
    "**'^'  : Bitwise XOR operator.**\n",
    "This operator exclusive or (XOR) operation on the bits of numbers. yhe symbol is ^, which is called cap, carat, or circumflex sysmbol."
   ]
  },
  {
   "cell_type": "code",
   "execution_count": 4,
   "id": "18aaffa6",
   "metadata": {
    "ExecuteTime": {
     "end_time": "2023-06-23T13:35:42.691254Z",
     "start_time": "2023-06-23T13:35:42.678490Z"
    }
   },
   "outputs": [
    {
     "data": {
      "text/plain": [
       "1"
      ]
     },
     "execution_count": 4,
     "metadata": {},
     "output_type": "execute_result"
    }
   ],
   "source": [
    "x = 10\n",
    "y = 11\n",
    "x^y"
   ]
  },
  {
   "cell_type": "markdown",
   "id": "c785eda2",
   "metadata": {},
   "source": [
    "**Q.3. List the logical operators.**\n",
    "\n",
    "**Answer:**\n",
    "\n",
    "|Operator|Description|Example|Output|\n",
    "|--------|-----------|-------|------|\n",
    "|and|Returns True if both statements are true|x < 5 and  x < 10|True|\t\n",
    "|or|Returns True if one of the statements is true|x < 5 or x < 4|True|\t\n",
    "|not|Reverse the result, returns False if the result is true|not(x < 5 and x < 10)|False|"
   ]
  },
  {
   "cell_type": "code",
   "execution_count": 5,
   "id": "5a2813a7",
   "metadata": {
    "ExecuteTime": {
     "end_time": "2023-06-23T13:45:35.142188Z",
     "start_time": "2023-06-23T13:45:35.127579Z"
    }
   },
   "outputs": [
    {
     "name": "stdout",
     "output_type": "stream",
     "text": [
      "True\n"
     ]
    }
   ],
   "source": [
    "x = 5\n",
    "\n",
    "print(x > 3 and x < 10)\n",
    "\n",
    "# returns True because 5 is greater than 3 AND 5 is less than 10"
   ]
  },
  {
   "cell_type": "code",
   "execution_count": 6,
   "id": "e425c564",
   "metadata": {
    "ExecuteTime": {
     "end_time": "2023-06-23T13:46:02.716960Z",
     "start_time": "2023-06-23T13:46:02.705182Z"
    }
   },
   "outputs": [
    {
     "name": "stdout",
     "output_type": "stream",
     "text": [
      "True\n"
     ]
    }
   ],
   "source": [
    "x = 5\n",
    "\n",
    "print(x > 3 or x < 4)\n",
    "\n",
    "# returns True because one of the conditions are true (5 is greater than 3, but 5 is not less than 4)"
   ]
  },
  {
   "cell_type": "code",
   "execution_count": 7,
   "id": "bdbde5f0",
   "metadata": {
    "ExecuteTime": {
     "end_time": "2023-06-23T13:46:25.965101Z",
     "start_time": "2023-06-23T13:46:25.952682Z"
    }
   },
   "outputs": [
    {
     "name": "stdout",
     "output_type": "stream",
     "text": [
      "False\n"
     ]
    }
   ],
   "source": [
    "x = 5\n",
    "\n",
    "print(not(x > 3 and x < 10))\n",
    "\n",
    "# returns False because not is used to reverse the result"
   ]
  },
  {
   "cell_type": "markdown",
   "id": "52c7acfb",
   "metadata": {},
   "source": [
    "**Q.4. Explain right shift operator and left shift operator with examples.**\n",
    "\n",
    "**Answer:**\n",
    "\n",
    "**Right shift operator:**\n",
    "Bitwise Right shift operator >> is used to shift the binary sequence to right side by specified position."
   ]
  },
  {
   "cell_type": "code",
   "execution_count": 8,
   "id": "71c18391",
   "metadata": {
    "ExecuteTime": {
     "end_time": "2023-06-23T13:56:42.713419Z",
     "start_time": "2023-06-23T13:56:42.696102Z"
    }
   },
   "outputs": [
    {
     "name": "stdout",
     "output_type": "stream",
     "text": [
      "var    =  128\n",
      "var/2  =  64\n",
      "var/4  =  32\n",
      "var/8  =  16\n",
      "var/16 =  8\n",
      "var/32 =  4\n"
     ]
    }
   ],
   "source": [
    "#Bitwise Right Shift operator in python\n",
    "\n",
    "var = 128;\n",
    "\n",
    "print(\"var    = \", var>>0) #same value\n",
    "print(\"var/2  = \", var>>1) #1 position to right\n",
    "print(\"var/4  = \", var>>2) #2 position to right\n",
    "print(\"var/8  = \", var>>3) #3 position to right\n",
    "print(\"var/16 = \", var>>4) #4 position to right\n",
    "print(\"var/32 = \", var>>5) #5 position to right"
   ]
  },
  {
   "cell_type": "markdown",
   "id": "d473960d",
   "metadata": {},
   "source": [
    "**left shift operator:**\n",
    "Bitwise Left shift operator is used to shift the binary sequence to the left side by specified position."
   ]
  },
  {
   "cell_type": "code",
   "execution_count": 9,
   "id": "547ac0df",
   "metadata": {
    "ExecuteTime": {
     "end_time": "2023-06-23T13:58:36.332700Z",
     "start_time": "2023-06-23T13:58:36.313509Z"
    }
   },
   "outputs": [
    {
     "name": "stdout",
     "output_type": "stream",
     "text": [
      "var      =  2\n",
      "var * 2  =  4\n",
      "var * 4  =  8\n",
      "var * 8  =  16\n",
      "var * 16 =  32\n",
      "var * 32 =  64\n"
     ]
    }
   ],
   "source": [
    "#Bitwise left shift operator in python\n",
    "\n",
    "var = 2;\n",
    "\n",
    "print(\"var      = \", var<<0)  #same number\n",
    "print(\"var * 2  = \", var<<1) #1 position to the left\n",
    "print(\"var * 4  = \", var<<2) #2 position to the left\n",
    "print(\"var * 8  = \", var<<3) #3 position to the left\n",
    "print(\"var * 16 = \", var<<4) #4 position to the left\n",
    "print(\"var * 32 = \", var<<5) #5 position to the left"
   ]
  },
  {
   "cell_type": "markdown",
   "id": "31f9a0ed",
   "metadata": {},
   "source": [
    "**Q.5. Create a list containing int type data of length 15. Then write a code to check if 10 is\n",
    "present in the list or not.**\n",
    "\n",
    "**Answer:**"
   ]
  },
  {
   "cell_type": "code",
   "execution_count": 16,
   "id": "77aa8092",
   "metadata": {
    "ExecuteTime": {
     "end_time": "2023-06-23T14:17:08.770962Z",
     "start_time": "2023-06-23T14:17:08.753949Z"
    }
   },
   "outputs": [
    {
     "data": {
      "text/plain": [
       "[1, 2, 3, 4, 5, 6, 7, 8, 9, 10, 11, 12, 13, 14]"
      ]
     },
     "execution_count": 16,
     "metadata": {},
     "output_type": "execute_result"
    }
   ],
   "source": [
    "lst = list(range(1, 15, 1))\n",
    "lst"
   ]
  },
  {
   "cell_type": "code",
   "execution_count": 17,
   "id": "1ff706b4",
   "metadata": {
    "ExecuteTime": {
     "end_time": "2023-06-23T14:17:13.883245Z",
     "start_time": "2023-06-23T14:17:13.872703Z"
    }
   },
   "outputs": [
    {
     "name": "stdout",
     "output_type": "stream",
     "text": [
      "exist\n"
     ]
    }
   ],
   "source": [
    "#checking if element 10 is present\n",
    "# in the given list or not\n",
    "i = 10\n",
    "# if element present then return\n",
    "# exist otherwise not exist\n",
    "if i in lst:\n",
    "    print(\"exist\")\n",
    "else:\n",
    "    print(\"not exist\")"
   ]
  },
  {
   "cell_type": "code",
   "execution_count": 19,
   "id": "11eabe33",
   "metadata": {
    "ExecuteTime": {
     "end_time": "2023-06-23T14:18:14.421945Z",
     "start_time": "2023-06-23T14:18:14.401195Z"
    }
   },
   "outputs": [
    {
     "name": "stdout",
     "output_type": "stream",
     "text": [
      "Element Exists\n"
     ]
    }
   ],
   "source": [
    "# Checking if 10 exists in list\n",
    "for i in lst:\n",
    "    if(i == 10):\n",
    "        print(\"Element Exists\")"
   ]
  },
  {
   "cell_type": "code",
   "execution_count": 20,
   "id": "767cefb7",
   "metadata": {
    "ExecuteTime": {
     "end_time": "2023-06-23T14:19:04.448929Z",
     "start_time": "2023-06-23T14:19:04.434173Z"
    }
   },
   "outputs": [
    {
     "name": "stdout",
     "output_type": "stream",
     "text": [
      "Element Exists\n"
     ]
    }
   ],
   "source": [
    "if (10 in lst):\n",
    "    print(\"Element Exists\")"
   ]
  }
 ],
 "metadata": {
  "hide_input": false,
  "kernelspec": {
   "display_name": "Python 3",
   "language": "python",
   "name": "python3"
  },
  "language_info": {
   "codemirror_mode": {
    "name": "ipython",
    "version": 3
   },
   "file_extension": ".py",
   "mimetype": "text/x-python",
   "name": "python",
   "nbconvert_exporter": "python",
   "pygments_lexer": "ipython3",
   "version": "3.8.5"
  },
  "latex_envs": {
   "LaTeX_envs_menu_present": true,
   "autoclose": false,
   "autocomplete": true,
   "bibliofile": "biblio.bib",
   "cite_by": "apalike",
   "current_citInitial": 1,
   "eqLabelWithNumbers": true,
   "eqNumInitial": 1,
   "hotkeys": {
    "equation": "Ctrl-E",
    "itemize": "Ctrl-I"
   },
   "labels_anchors": false,
   "latex_user_defs": false,
   "report_style_numbering": false,
   "user_envs_cfg": false
  },
  "nbTranslate": {
   "displayLangs": [
    "*"
   ],
   "hotkey": "alt-t",
   "langInMainMenu": true,
   "sourceLang": "en",
   "targetLang": "fr",
   "useGoogleTranslate": true
  },
  "varInspector": {
   "cols": {
    "lenName": 16,
    "lenType": 16,
    "lenVar": 40
   },
   "kernels_config": {
    "python": {
     "delete_cmd_postfix": "",
     "delete_cmd_prefix": "del ",
     "library": "var_list.py",
     "varRefreshCmd": "print(var_dic_list())"
    },
    "r": {
     "delete_cmd_postfix": ") ",
     "delete_cmd_prefix": "rm(",
     "library": "var_list.r",
     "varRefreshCmd": "cat(var_dic_list()) "
    }
   },
   "types_to_exclude": [
    "module",
    "function",
    "builtin_function_or_method",
    "instance",
    "_Feature"
   ],
   "window_display": false
  }
 },
 "nbformat": 4,
 "nbformat_minor": 5
}
