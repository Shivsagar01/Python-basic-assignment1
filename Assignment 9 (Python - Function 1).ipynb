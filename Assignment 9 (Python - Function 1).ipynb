{
 "cells": [
  {
   "cell_type": "markdown",
   "id": "3617bb6f",
   "metadata": {},
   "source": [
    "# Assignment 9 "
   ]
  },
  {
   "cell_type": "markdown",
   "id": "b3b166c1",
   "metadata": {},
   "source": [
    "# Python Function Assignment -1"
   ]
  },
  {
   "cell_type": "markdown",
   "id": "0298d841",
   "metadata": {},
   "source": [
    "**Q.1. What is a lambda function in Python, and how does it differ from a regular function?**\n",
    "\n",
    "**Answer:** A function without a name is called **'anonymous function'**. So far, the functions we wrote were defined using the keyword 'def'. But anonymous function are not defined using 'def'. They are defined using the keyword **lambda** and hence they are also called **'Lambda Functions'**. Let's take a normal function that returns square value."
   ]
  },
  {
   "cell_type": "code",
   "execution_count": 14,
   "id": "fcdd6edf",
   "metadata": {
    "ExecuteTime": {
     "end_time": "2023-07-03T07:44:50.749008Z",
     "start_time": "2023-07-03T07:44:50.728958Z"
    },
    "run_control": {
     "marked": false
    }
   },
   "outputs": [],
   "source": [
    "def square_def(x):\n",
    "    return x*x"
   ]
  },
  {
   "cell_type": "markdown",
   "id": "c6102412",
   "metadata": {},
   "source": [
    "The same function can be written as anonymous function as:"
   ]
  },
  {
   "cell_type": "code",
   "execution_count": null,
   "id": "6855e88b",
   "metadata": {},
   "outputs": [],
   "source": [
    "lambda x: x*x"
   ]
  },
  {
   "cell_type": "markdown",
   "id": "325bcc90",
   "metadata": {},
   "source": [
    "Observe the keyword 'lambda'. This represents that an anonymous function is being created. After that, we have written an argument of function, i.e. 'x'. Then colon (:) represents the beginning of the function that contains an expression x*x. Please observe that we did not use any name for the function here. So, the format of lambda functions is:"
   ]
  },
  {
   "cell_type": "code",
   "execution_count": null,
   "id": "d129887e",
   "metadata": {},
   "outputs": [],
   "source": [
    "lambda argument_list: expression"
   ]
  },
  {
   "cell_type": "markdown",
   "id": "5955bab0",
   "metadata": {},
   "source": [
    "Normally, if a function returns some value, we assign that value to a variable as:"
   ]
  },
  {
   "cell_type": "code",
   "execution_count": null,
   "id": "d99970f1",
   "metadata": {},
   "outputs": [],
   "source": [
    "y = square(5)"
   ]
  },
  {
   "cell_type": "markdown",
   "id": "c2954761",
   "metadata": {},
   "source": [
    "but, lambda functions return a function and hence they should be assigned to a function as:"
   ]
  },
  {
   "cell_type": "code",
   "execution_count": null,
   "id": "3847f84c",
   "metadata": {},
   "outputs": [],
   "source": [
    "f = lambda x: x*x"
   ]
  },
  {
   "cell_type": "markdown",
   "id": "5e4592bb",
   "metadata": {},
   "source": [
    "Here, 'f' is the function name to which the lambda expression is assigned. Now, if we call the function f() as:"
   ]
  },
  {
   "cell_type": "code",
   "execution_count": null,
   "id": "b5d7cb31",
   "metadata": {},
   "outputs": [],
   "source": [
    "value = f(5)"
   ]
  },
  {
   "cell_type": "markdown",
   "id": "2c5c8b6b",
   "metadata": {},
   "source": [
    "Now, 'value' contains the square value of, i.e. 25."
   ]
  },
  {
   "cell_type": "code",
   "execution_count": 6,
   "id": "f7b6f536",
   "metadata": {
    "ExecuteTime": {
     "end_time": "2023-07-03T07:00:52.681117Z",
     "start_time": "2023-07-03T07:00:52.664123Z"
    }
   },
   "outputs": [
    {
     "name": "stdout",
     "output_type": "stream",
     "text": [
      "Square of 5 =  25\n"
     ]
    }
   ],
   "source": [
    "# a lambda function to calculate square value\n",
    "f = lambda x: x*x # write lambda function\n",
    "value = f(5) # call lambda function\n",
    "print('Square of 5 = ', value) # display reult"
   ]
  },
  {
   "cell_type": "markdown",
   "id": "8f578b60",
   "metadata": {},
   "source": [
    "|def defined functions|lambda functions|\n",
    "|---------------------|----------------|\n",
    "|1.Easy to interpret|1.nterpretation might be tricky|\n",
    "|2.Can consists of any number of execution statements inside the function definition.|2.The limited operation can be performed using lambda functions.|\n",
    "|3.To return an object from the function, return should be explicitly defined.|3.No need of using the return statement.|\n",
    "|4.Execution time is relatively slower for the same operation performed using lambda functions.|4.Execution time of the program is fast for the same operation.|\n",
    "|5.Defined using the keyword def and holds a function name in the local namespace.|5.Defined using the keyword lambda and does not compulsorily hold a function name in the local namespace.|"
   ]
  },
  {
   "cell_type": "markdown",
   "id": "cca4cf7b",
   "metadata": {},
   "source": [
    "**Q.2.Can a lambda function in Python have multiple arguments? If yes, how can you define and use\n",
    "them?**\n",
    "\n",
    "**Answer:** Yes, lambda function have multiple arguments. Python lambda can be used with multiple arguments and these arguments are used in evaluating an expression to return a single value. A Python lambda function is used to execute an anonymous function, an anonymous meaning function without a name.\n",
    "\n",
    "Here, we can create a lambda function with multiple arguments in Python, let’s see an example with two arguments, add them and return the result. Here, I have created a add variable and assigned a lambda function to it."
   ]
  },
  {
   "cell_type": "code",
   "execution_count": 8,
   "id": "6cf1c15a",
   "metadata": {
    "ExecuteTime": {
     "end_time": "2023-07-03T07:21:57.995819Z",
     "start_time": "2023-07-03T07:21:57.983818Z"
    }
   },
   "outputs": [
    {
     "name": "stdout",
     "output_type": "stream",
     "text": [
      "30\n"
     ]
    }
   ],
   "source": [
    "# Lambda example with two arguments\n",
    "add = lambda x, y : x + y\n",
    "print(add(10, 20)) "
   ]
  },
  {
   "cell_type": "markdown",
   "id": "62421fee",
   "metadata": {},
   "source": [
    "Alternatively, you can also write the statement as follows. This is called inline execution. For inline invocation, we surround the lambda function with parentheses and place the values for the arguments next to it enclosed within parentheses."
   ]
  },
  {
   "cell_type": "code",
   "execution_count": 9,
   "id": "2873fec8",
   "metadata": {
    "ExecuteTime": {
     "end_time": "2023-07-03T07:23:22.005000Z",
     "start_time": "2023-07-03T07:23:21.987987Z"
    }
   },
   "outputs": [
    {
     "name": "stdout",
     "output_type": "stream",
     "text": [
      "30\n"
     ]
    }
   ],
   "source": [
    "result = (lambda x, y : x + y)(10,20)\n",
    "print(result)"
   ]
  },
  {
   "cell_type": "markdown",
   "id": "73d6653f",
   "metadata": {},
   "source": [
    "Let’s create a lambda function with **multiple arguments**, and take the values for these arguments from the list, To pass values to these arguments you need to use two iterables."
   ]
  },
  {
   "cell_type": "code",
   "execution_count": 10,
   "id": "f9f972e1",
   "metadata": {
    "ExecuteTime": {
     "end_time": "2023-07-03T07:27:45.206320Z",
     "start_time": "2023-07-03T07:27:45.195310Z"
    }
   },
   "outputs": [
    {
     "name": "stdout",
     "output_type": "stream",
     "text": [
      "[3, 7, 7, 8, 7]\n"
     ]
    }
   ],
   "source": [
    "# Create two lists with numbers \n",
    "numbers1 = [2, 4, 5, 6, 3]\n",
    "numbers2 = [1, 3, 2, 2, 4]\n",
    "\n",
    "# Create lambda function that takes two arguments\n",
    "add_fun = lambda x, y: x+y\n",
    "\n",
    "# Use lambda with map() function\n",
    "add_result = list(map(add_fun, numbers1, numbers2))\n",
    "print(add_result) "
   ]
  },
  {
   "cell_type": "markdown",
   "id": "22b5160a",
   "metadata": {},
   "source": [
    "Here, the python lambda takes multiple arguments x, y and adds their values. The map() function applies this lambda function to each item of the numbers1 & numbers2 lists, and the result is a new iterator containing the sum of both numbers element-wise."
   ]
  },
  {
   "cell_type": "code",
   "execution_count": 11,
   "id": "b6e383bb",
   "metadata": {
    "ExecuteTime": {
     "end_time": "2023-07-03T07:30:13.845040Z",
     "start_time": "2023-07-03T07:30:13.833034Z"
    }
   },
   "outputs": [
    {
     "name": "stdout",
     "output_type": "stream",
     "text": [
      "myStrings1: ['A', 'B', 'C', 'D']\n",
      "myStrings2: ['a', 'b', 'c', 'd']\n",
      "Result: ['Aa', 'Bb', 'Cc', 'Dd']\n"
     ]
    }
   ],
   "source": [
    "# Create string list\n",
    "myStrings1 = [\"A\",\"B\",\"C\",\"D\"]\n",
    "myStrings2 = [\"a\",\"b\",\"c\",\"d\"]\n",
    "print(\"myStrings1:\",myStrings1)\n",
    "print(\"myStrings2:\",myStrings2)\n",
    "\n",
    "# Use lower() function\n",
    "lower_result = list(map(lambda x,y: x + y, myStrings1, myStrings2))\n",
    "print(\"Result:\",lower_result)"
   ]
  },
  {
   "cell_type": "markdown",
   "id": "5a19aead",
   "metadata": {},
   "source": [
    "**Q.3. How are lambda functions typically used in Python? Provide an example use case?**\n",
    "\n",
    "**Answer:**<br> \n",
    "In Python, an anonymous function may be a function that’s defined without a reputation. While defining normal functions, we are using the def keyword in Python, but while defining anonymous functions we are using the lambda keyword.\n",
    "Syntax of Lambda Function in Python:<br>\n",
    "**lambda arguments: expression**<br>\n",
    "Notice, there can be any number of arguments but can contain only a single expression. There is no return statement which is usually present in the def function syntax. The function will simply return the expression value even when there is no return statement."
   ]
  },
  {
   "cell_type": "code",
   "execution_count": 12,
   "id": "2e0c5abb",
   "metadata": {
    "ExecuteTime": {
     "end_time": "2023-07-03T07:43:24.381078Z",
     "start_time": "2023-07-03T07:43:24.373743Z"
    }
   },
   "outputs": [
    {
     "name": "stdout",
     "output_type": "stream",
     "text": [
      "Using lambda:  25\n"
     ]
    }
   ],
   "source": [
    "# calculate squares using lambda\n",
    "squares = lambda x: x*x\n",
    "print('Using lambda: ', squares(5))"
   ]
  },
  {
   "cell_type": "markdown",
   "id": "faafe2a5",
   "metadata": {},
   "source": [
    "**Need for Lambda Functions**<br>\n",
    "**There are at least 3 reasons:**<br>\n",
    "1.Lambda functions reduce the number of lines of code when compared to normal python function defined using def keyword. But this is not exactly true because, even functions defined with def can be defined in one single line. But generally, def functions are written in more than 1 line.\n",
    "\n",
    "2.They are generally used when a function is needed temporarily for a short period of time, often to be used inside another function such as filter, map and reduce.\n",
    "\n",
    "3.Using lambda function, you can define a function and call it immediately at the end of definition. This can’t be done with def functions.\n",
    "\n",
    "**When Should You Use a Lambda Function?**<br>\n",
    "You should use the lambda function to create simple expressions. For example, expressions that do not include complex structures such as if-else, for-loops, and so on.<br>\n",
    "So, for example, if you want to create a function with a for-loop, you should use a user-defined function.\n",
    "\n",
    "**The following scenario is suitable for lambda expressions:**<br>\n",
    "1.What you need to do is unimportant: functions don’t need a name.<br>\n",
    "2.Using lambda expressions makes the code more easier to understand than the function name which you can think of.<br>\n",
    "3.You’re pretty sure that there’s not a function that meets your needs.<br>\n",
    "4.Everyone on your team knows lambda expressions and agrees to use it.<br>\n",
    "But lambda is not recommended unless you know what you’re doing. "
   ]
  },
  {
   "cell_type": "markdown",
   "id": "b6442049",
   "metadata": {},
   "source": [
    "**Q.4. What are the advantages and limitations of lambda functions compared to regular functions in\n",
    "Python?**\n",
    "\n",
    "**Answer:**\n",
    "**Lambda Advantages:**<br>\n",
    "1.The code is simple and clear.<br>\n",
    "2.No additional variables are added.<br>\n",
    "\n",
    "**Lambda Disadvantages:**<br>\n",
    "1.Lambda expressions are a strange and unfamiliar syntax to many Python programmers.<br>\n",
    "2.Lambda functions themselves lack names and documentation, meaning that the only way to know what they do is to read the code.<br>\n",
    "3.Lambda expressions can only contain one statement, so some readable language features, such as tuple unpacking, cannot be used with them.<br>\n",
    "4.Lambda functions can often be replaced with existing functions in the standard library or Python built-in functions.<br>\n",
    "\n",
    "**Major Differences Between Lambda Expressions And Regular Functions:**<br>\n",
    "1.Can be passed immediately (without variables).<br>\n",
    "2.Only one line of code can be included internally.<br>\n",
    "3.Automatic return of results.<br>\n",
    "4.There is neither a document string nor a name.<br>"
   ]
  },
  {
   "cell_type": "markdown",
   "id": "4a4f6f08",
   "metadata": {},
   "source": [
    "**Q.5. Are lambda functions in Python able to access variables defined outside of their own scope?\n",
    "Explain with an example.**\n",
    "\n",
    "**Answer:**"
   ]
  },
  {
   "cell_type": "markdown",
   "id": "faab9e32",
   "metadata": {},
   "source": [
    "Yes, lambda functions in Python can access variables defined outside of their own scope. This is achieved through a feature called **\"lexical scoping\"** or **\"closure\"** in Python. A closure is a function object that remembers values in the enclosing scope even if they are not present in memory.<br>\n",
    "Here's an example to illustrate how a lambda function can access variables from its outer scope:"
   ]
  },
  {
   "cell_type": "code",
   "execution_count": 16,
   "id": "0685fbe8",
   "metadata": {
    "ExecuteTime": {
     "end_time": "2023-07-03T08:24:12.969754Z",
     "start_time": "2023-07-03T08:24:12.952760Z"
    }
   },
   "outputs": [
    {
     "name": "stdout",
     "output_type": "stream",
     "text": [
      "15\n"
     ]
    }
   ],
   "source": [
    "def outer_function():\n",
    "    x = 10\n",
    "    lambda_func = lambda y: x + y\n",
    "    return lambda_func\n",
    "\n",
    "closure = outer_function()\n",
    "result = closure(5)\n",
    "print(result)"
   ]
  },
  {
   "cell_type": "markdown",
   "id": "40acb0cf",
   "metadata": {},
   "source": [
    "In this example, the **outer_function** defines a local variable **x** with a value of 10. It also defines a lambda function **lambda_func** that takes a parameter **y** and returns the sum of **x** and **y**. The lambda function is then returned from the **outer_function**.<br>\n",
    "\n",
    "When we call **outer_function()** and assign the returned lambda function to the variable **closure**, the value of **x** (which is 10) is \"captured\" by the lambda function. This means that even after the **outer_function** has finished executing and **x** is no longer in its scope, the lambda function still has access to the value of **x**.<br>\n",
    "\n",
    "Finally, when we call **closure(5)**, it adds the captured value of **x** (which is 10) to the provided argument **5**, resulting in the output of **15**.<br>\n",
    "\n",
    "So, the lambda function can access the variable **x** defined in its outer scope, thanks to the concept of closures in Python."
   ]
  },
  {
   "cell_type": "markdown",
   "id": "908cbddf",
   "metadata": {},
   "source": [
    "**Q.6. Write a lambda function to calculate the square of a given number.**\n",
    "\n",
    "**Answer:**"
   ]
  },
  {
   "cell_type": "markdown",
   "id": "47cbe460",
   "metadata": {},
   "source": [
    "Certainly! Here's a lambda function that calculates the square of a given number:"
   ]
  },
  {
   "cell_type": "code",
   "execution_count": 17,
   "id": "34172120",
   "metadata": {
    "ExecuteTime": {
     "end_time": "2023-07-03T08:37:06.454110Z",
     "start_time": "2023-07-03T08:37:06.448099Z"
    }
   },
   "outputs": [],
   "source": [
    "square = lambda x: x ** 2"
   ]
  },
  {
   "cell_type": "markdown",
   "id": "05cc475a",
   "metadata": {},
   "source": [
    "In this lambda function, the parameter x represents the number for which we want to calculate the square. The expression x ** 2 calculates the square of x.<br>\n",
    "You can use this lambda function to calculate the square of a number as follows:"
   ]
  },
  {
   "cell_type": "code",
   "execution_count": 18,
   "id": "de470f62",
   "metadata": {
    "ExecuteTime": {
     "end_time": "2023-07-03T08:37:09.192102Z",
     "start_time": "2023-07-03T08:37:09.187155Z"
    }
   },
   "outputs": [
    {
     "name": "stdout",
     "output_type": "stream",
     "text": [
      "25\n"
     ]
    }
   ],
   "source": [
    "result = square(5)\n",
    "print(result) "
   ]
  },
  {
   "cell_type": "markdown",
   "id": "761cdba2",
   "metadata": {},
   "source": [
    "**Q.7. Create a lambda function to find the maximum value in a list of integers?**\n",
    "\n",
    "**Answer:**"
   ]
  },
  {
   "cell_type": "code",
   "execution_count": 21,
   "id": "73d1b10a",
   "metadata": {
    "ExecuteTime": {
     "end_time": "2023-07-03T08:43:34.425244Z",
     "start_time": "2023-07-03T08:43:34.419261Z"
    }
   },
   "outputs": [
    {
     "name": "stdout",
     "output_type": "stream",
     "text": [
      "85\n"
     ]
    }
   ],
   "source": [
    "find_max = lambda lst: max(lst)\n",
    "numbers = [5, 10, 1, 45, 8, 78, 85, 15, 65, 2, 12,]\n",
    "result = find_max(numbers)\n",
    "print(result)  "
   ]
  },
  {
   "cell_type": "markdown",
   "id": "b146bc0a",
   "metadata": {},
   "source": [
    "In this lambda function, the parameter lst represents the list of integers. The max(lst) function is used to find the maximum value in the list. Here I call the lambda function find_max with the list of integers numbers, and it returns the maximum value in the list, which is 85."
   ]
  },
  {
   "cell_type": "markdown",
   "id": "3acd2578",
   "metadata": {},
   "source": [
    "**Q.8. Implement a lambda function to filter out all the even numbers from a list of integers?**\n",
    "\n",
    "**Answer:**"
   ]
  },
  {
   "cell_type": "code",
   "execution_count": 22,
   "id": "fdc8f8e3",
   "metadata": {
    "ExecuteTime": {
     "end_time": "2023-07-03T08:52:04.667931Z",
     "start_time": "2023-07-03T08:52:04.658958Z"
    }
   },
   "outputs": [
    {
     "name": "stdout",
     "output_type": "stream",
     "text": [
      "[10, 46, 70, 82, 90]\n"
     ]
    }
   ],
   "source": [
    "# Using filter() to filter out even numbers.\n",
    "def is_even(x):\n",
    "    if x%2==0:\n",
    "        return True\n",
    "    else:\n",
    "        return False\n",
    "\n",
    "lst = [10,23,45,46,70,99,82,90,33,57]\n",
    "lst1 = list(filter(is_even, lst))\n",
    "print(lst1)"
   ]
  },
  {
   "cell_type": "markdown",
   "id": "fb6ddc6b",
   "metadata": {},
   "source": [
    "**Another Example:**"
   ]
  },
  {
   "cell_type": "code",
   "execution_count": 23,
   "id": "1efb14fe",
   "metadata": {
    "ExecuteTime": {
     "end_time": "2023-07-03T08:56:46.466749Z",
     "start_time": "2023-07-03T08:56:46.450747Z"
    }
   },
   "outputs": [
    {
     "name": "stdout",
     "output_type": "stream",
     "text": [
      "[10, 46, 70, 82, 90]\n"
     ]
    }
   ],
   "source": [
    "# Passing lambda function to filter() function is more elegent :\n",
    "lst = [10,23,45,46,70,99,82,90,33,57]\n",
    "lst1 = list(filter(lambda x: (x%2 == 0), lst))\n",
    "print(lst1)"
   ]
  },
  {
   "cell_type": "markdown",
   "id": "05cec38c",
   "metadata": {},
   "source": [
    "**Q.9.Write a lambda function to sort a list of strings in ascending order based on the length of each\n",
    "string?**\n",
    "\n",
    "**Answer:**"
   ]
  },
  {
   "cell_type": "code",
   "execution_count": 24,
   "id": "d6dafee2",
   "metadata": {
    "ExecuteTime": {
     "end_time": "2023-07-03T09:04:26.800724Z",
     "start_time": "2023-07-03T09:04:26.780768Z"
    }
   },
   "outputs": [
    {
     "name": "stdout",
     "output_type": "stream",
     "text": [
      "['pear', 'kiwi', 'apple', 'banana', 'orange']\n"
     ]
    }
   ],
   "source": [
    "sort_by_length = lambda lst: sorted(lst, key=lambda x: len(x))\n",
    "strings = [\"apple\", \"banana\", \"pear\", \"orange\", \"kiwi\"]\n",
    "result = sort_by_length(strings)\n",
    "print(result) \n"
   ]
  },
  {
   "cell_type": "markdown",
   "id": "ee15f62f",
   "metadata": {},
   "source": [
    "**Explanation:**\n",
    "In this lambda function, the parameter lst represents the list of strings. The sorted function is used to sort the list, and the key parameter is set to a lambda function **lambda x: len(x)**. This lambda function takes each string **x** from the list and returns its length, which is then used as the basis for sorting. Here,we call the lambda function **sort_by_length** with the list of strings words, and it returns a new list with the strings sorted in ascending order based on their lengths."
   ]
  },
  {
   "cell_type": "markdown",
   "id": "d9f987ea",
   "metadata": {},
   "source": [
    "**Q.10. Create a lambda function that takes two lists as input and returns a new list containing the\n",
    "common elements between the two lists?**\n",
    "\n",
    "**Answer:**"
   ]
  },
  {
   "cell_type": "code",
   "execution_count": 25,
   "id": "239d2e2c",
   "metadata": {
    "ExecuteTime": {
     "end_time": "2023-07-03T09:11:57.617167Z",
     "start_time": "2023-07-03T09:11:57.610146Z"
    }
   },
   "outputs": [
    {
     "name": "stdout",
     "output_type": "stream",
     "text": [
      "[4, 5]\n"
     ]
    }
   ],
   "source": [
    "find_common_elements = lambda lst1, lst2: list(filter(lambda x: x in lst2, lst1))\n",
    "list1 = [1, 2, 3, 4, 5]\n",
    "list2 = [4, 5, 6, 7, 8]\n",
    "common_elements = find_common_elements(list1, list2)\n",
    "print(common_elements)  "
   ]
  },
  {
   "cell_type": "markdown",
   "id": "6afc5981",
   "metadata": {},
   "source": [
    "**Explanation:**\n",
    "In above lambda function, the parameters **lst1 and lst2** represent the two input lists. The filter function is used to iterate over the elements of **lst1** and apply a lambda function **lambda x: x in lst2** to each element. This lambda function checks if the element **x** is present in **lst2**. If it is, the element is included in the result list.Here, We call the **lambda function find_common_elements** with the two lists **list1 and list2**, and it returns a new list containing the common elements between the two lists, which are [4, 5]."
   ]
  },
  {
   "cell_type": "markdown",
   "id": "98e17741",
   "metadata": {},
   "source": [
    "**Q.11. Write a recursive function to calculate the factorial of a given positive integer.?**\n",
    "\n",
    "**Answer:**"
   ]
  },
  {
   "cell_type": "code",
   "execution_count": 26,
   "id": "c44feb09",
   "metadata": {
    "ExecuteTime": {
     "end_time": "2023-07-03T09:22:23.753409Z",
     "start_time": "2023-07-03T09:22:23.748426Z"
    }
   },
   "outputs": [
    {
     "name": "stdout",
     "output_type": "stream",
     "text": [
      "120\n"
     ]
    }
   ],
   "source": [
    "def factorial(n):\n",
    "    if n == 0:\n",
    "        return 1\n",
    "    else:\n",
    "        return n * factorial(n - 1)\n",
    "result = factorial(5)\n",
    "print(result)  "
   ]
  },
  {
   "cell_type": "markdown",
   "id": "fd768f3a",
   "metadata": {},
   "source": [
    "**Explanation:**\n",
    "In this recursive function, the base case is when n is equal to 0, in which case the function returns 1. For any other positive value of n, the function recursively calls itself with n - 1 and multiplies the result by n. we call the factorial function with the argument 5, and it returns the factorial of 5, which is 120."
   ]
  },
  {
   "cell_type": "markdown",
   "id": "b2762f46",
   "metadata": {},
   "source": [
    "**Q.12. Implement a recursive function to compute the nth Fibonacci number?**\n",
    "\n",
    "**Answer:**"
   ]
  },
  {
   "cell_type": "code",
   "execution_count": 27,
   "id": "9fe1b950",
   "metadata": {
    "ExecuteTime": {
     "end_time": "2023-07-03T09:27:46.954997Z",
     "start_time": "2023-07-03T09:27:46.947018Z"
    }
   },
   "outputs": [
    {
     "name": "stdout",
     "output_type": "stream",
     "text": [
      "13\n"
     ]
    }
   ],
   "source": [
    "def fibonacci(n):\n",
    "    if n <= 0:\n",
    "        return None  # Invalid input\n",
    "    elif n == 1 or n == 2:\n",
    "        return 1\n",
    "    else:\n",
    "        return fibonacci(n - 1) + fibonacci(n - 2)\n",
    "result = fibonacci(7)\n",
    "print(result)  "
   ]
  },
  {
   "cell_type": "markdown",
   "id": "be65fba3",
   "metadata": {},
   "source": [
    "**Explanation:**\n",
    "In this recursive function, the base cases are when n is less than or equal to 0 (which is considered an invalid input) or when n is 1 or 2, in which case the function returns 1. For any other positive integer n, the function recursively calls itself with n - 1 and n - 2, and returns the sum of the results of those recursive calls.we call the fibonacci function with the argument 7, and it returns the 7th Fibonacci number, which is 13."
   ]
  },
  {
   "cell_type": "markdown",
   "id": "9ce6a60e",
   "metadata": {},
   "source": [
    "**Q.13. Create a recursive function to find the sum of all the elements in a given list?**\n",
    "\n",
    "**Answer:**"
   ]
  },
  {
   "cell_type": "code",
   "execution_count": 28,
   "id": "6f0c4fd7",
   "metadata": {
    "ExecuteTime": {
     "end_time": "2023-07-03T09:33:31.372755Z",
     "start_time": "2023-07-03T09:33:31.360787Z"
    }
   },
   "outputs": [
    {
     "name": "stdout",
     "output_type": "stream",
     "text": [
      "15\n"
     ]
    }
   ],
   "source": [
    "def sum_of_list_elements(lst):\n",
    "    if not lst:\n",
    "        return 0  # Base case: empty list\n",
    "    else:\n",
    "        return lst[0] + sum_of_list_elements(lst[1:])\n",
    "my_list = [1, 2, 3, 4, 5]\n",
    "result = sum_of_list_elements(my_list)\n",
    "print(result)  "
   ]
  },
  {
   "cell_type": "markdown",
   "id": "705820a1",
   "metadata": {},
   "source": [
    "**Explanation:**\n",
    "In this recursive function, the base case is when the input list lst is empty. In that case, the function returns 0.\n",
    "For any non-empty list, the function recursively calls itself with the sublist lst[1:], which represents all elements except the first one. It then adds the first element (lst[0]) to the sum of the remaining elements computed by the recursive call. call the sum_of_list_elements function with the list [1, 2, 3, 4, 5], and it returns the sum of all the elements in the list, which is 15."
   ]
  },
  {
   "cell_type": "markdown",
   "id": "0d6acfd2",
   "metadata": {},
   "source": [
    "**Q.14. Write a recursive function to determine whether a given string is a palindrome?**\n",
    "\n",
    "**Answer:**"
   ]
  },
  {
   "cell_type": "code",
   "execution_count": 29,
   "id": "4d11b49b",
   "metadata": {
    "ExecuteTime": {
     "end_time": "2023-07-03T09:37:43.853762Z",
     "start_time": "2023-07-03T09:37:43.833778Z"
    }
   },
   "outputs": [
    {
     "name": "stdout",
     "output_type": "stream",
     "text": [
      "True\n",
      "False\n"
     ]
    }
   ],
   "source": [
    "def is_palindrome(string):\n",
    "    if len(string) <= 1:\n",
    "        return True  # Base case: empty string or single character\n",
    "    elif string[0] != string[-1]:\n",
    "        return False  # Base case: first and last characters don't match\n",
    "    else:\n",
    "        return is_palindrome(string[1:-1])\n",
    "result = is_palindrome(\"racecar\")\n",
    "print(result)  \n",
    "\n",
    "result = is_palindrome(\"hello\")\n",
    "print(result)  "
   ]
  },
  {
   "cell_type": "markdown",
   "id": "f17eff3b",
   "metadata": {},
   "source": [
    "**Explanation:**\n",
    "In this recursive function, there are three base cases:<br>\n",
    "1.If the string is empty or contains a single character, it is considered a palindrome, so the function returns True.<br>\n",
    "2.If the first and last characters of the string don't match, it is not a palindrome, so the function returns False.<br>\n",
    "3.For any other string, the function recursively calls itself with the substring string[1:-1], which represents the string with the first and last characters removed.<br>\n",
    "\n",
    "In the first example, Here, I call the is_palindrome function with the string \"racecar\", and it returns True since \"racecar\" is a palindrome.\n",
    "\n",
    "In the second example, Here, I call the function with the string \"hello\", and it returns False since \"hello\" is not a palindrome."
   ]
  },
  {
   "cell_type": "markdown",
   "id": "c04371ac",
   "metadata": {},
   "source": [
    "**Q.15.Implement a recursive function to find the greatest common divisor (GCD) of two positive integers?**\n",
    "\n",
    "**Answer:**"
   ]
  },
  {
   "cell_type": "code",
   "execution_count": 30,
   "id": "b142533f",
   "metadata": {
    "ExecuteTime": {
     "end_time": "2023-07-03T09:43:49.690638Z",
     "start_time": "2023-07-03T09:43:49.671691Z"
    }
   },
   "outputs": [
    {
     "name": "stdout",
     "output_type": "stream",
     "text": [
      "12\n"
     ]
    }
   ],
   "source": [
    "def gcd(a, b):\n",
    "    if b == 0:\n",
    "        return a  # Base case: b is 0, so a is the GCD\n",
    "    else:\n",
    "        return gcd(b, a % b)\n",
    "result = gcd(24, 36)\n",
    "print(result)  "
   ]
  },
  {
   "cell_type": "code",
   "execution_count": 31,
   "id": "805bb54f",
   "metadata": {
    "ExecuteTime": {
     "end_time": "2023-07-03T09:43:54.950129Z",
     "start_time": "2023-07-03T09:43:54.934131Z"
    }
   },
   "outputs": [
    {
     "name": "stdout",
     "output_type": "stream",
     "text": [
      "7\n"
     ]
    }
   ],
   "source": [
    "result = gcd(49, 14)\n",
    "print(result)  "
   ]
  },
  {
   "cell_type": "markdown",
   "id": "730dcb24",
   "metadata": {},
   "source": [
    "**Explanation:**\n",
    "In this recursive function, the base case is when b is equal to 0. In this case, the function returns a as a is the GCD of the two numbers.\n",
    "\n",
    "For any other positive integers a and b, the function recursively calls itself with b and a % b, which represents the remainder when a is divided by b. The GCD remains the same, but the function swaps the values of a and b in each recursive call until the base case is reached.\n",
    "\n",
    "In the first example,Here, I call the gcd function with the two numbers 24 and 36, and it returns the GCD of the two numbers, which is 12.\n",
    "\n",
    "In the second example, Here, I call the function with the numbers 49 and 14, and it returns the GCD of the two numbers, which is 7."
   ]
  }
 ],
 "metadata": {
  "hide_input": false,
  "kernelspec": {
   "display_name": "Python 3",
   "language": "python",
   "name": "python3"
  },
  "language_info": {
   "codemirror_mode": {
    "name": "ipython",
    "version": 3
   },
   "file_extension": ".py",
   "mimetype": "text/x-python",
   "name": "python",
   "nbconvert_exporter": "python",
   "pygments_lexer": "ipython3",
   "version": "3.8.5"
  },
  "latex_envs": {
   "LaTeX_envs_menu_present": true,
   "autoclose": false,
   "autocomplete": true,
   "bibliofile": "biblio.bib",
   "cite_by": "apalike",
   "current_citInitial": 1,
   "eqLabelWithNumbers": true,
   "eqNumInitial": 1,
   "hotkeys": {
    "equation": "Ctrl-E",
    "itemize": "Ctrl-I"
   },
   "labels_anchors": false,
   "latex_user_defs": false,
   "report_style_numbering": false,
   "user_envs_cfg": false
  },
  "nbTranslate": {
   "displayLangs": [
    "*"
   ],
   "hotkey": "alt-t",
   "langInMainMenu": true,
   "sourceLang": "en",
   "targetLang": "fr",
   "useGoogleTranslate": true
  },
  "varInspector": {
   "cols": {
    "lenName": 16,
    "lenType": 16,
    "lenVar": 40
   },
   "kernels_config": {
    "python": {
     "delete_cmd_postfix": "",
     "delete_cmd_prefix": "del ",
     "library": "var_list.py",
     "varRefreshCmd": "print(var_dic_list())"
    },
    "r": {
     "delete_cmd_postfix": ") ",
     "delete_cmd_prefix": "rm(",
     "library": "var_list.r",
     "varRefreshCmd": "cat(var_dic_list()) "
    }
   },
   "types_to_exclude": [
    "module",
    "function",
    "builtin_function_or_method",
    "instance",
    "_Feature"
   ],
   "window_display": false
  }
 },
 "nbformat": 4,
 "nbformat_minor": 5
}
