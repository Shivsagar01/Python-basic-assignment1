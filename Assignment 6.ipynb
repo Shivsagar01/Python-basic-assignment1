{
 "cells": [
  {
   "cell_type": "markdown",
   "id": "1f04ac04",
   "metadata": {},
   "source": [
    "# Assignment 6"
   ]
  },
  {
   "cell_type": "markdown",
   "id": "acce5583",
   "metadata": {},
   "source": [
    "# Python Basic - 1"
   ]
  },
  {
   "cell_type": "markdown",
   "id": "e4f84864",
   "metadata": {},
   "source": [
    "**Q.1. What are keywords in python? Using the keyword library, print all the python keywords.**\n",
    "\n",
    "**Answer:** Keywords are the reserved words in Python. We cannot use a keyword as a variable name, function name or any other identifier.\n",
    "**1.Value Keywords:** True, False, None.\n",
    "**2.Operator Keywords:** and, or, not, in, is.\n",
    "**3.Control Flow Keywords:** if, elif, else.\n",
    "**4.Iteration Keywords:** for, while, break, continue, else.\n",
    "**5.Structure Keywords:** def, class, with, as, pass, lambda.\n",
    "**6.Returning Keywords:** return, yield.\n",
    "**7.Import Keywords:** import, from, as."
   ]
  },
  {
   "cell_type": "code",
   "execution_count": 1,
   "id": "79b5b001",
   "metadata": {
    "ExecuteTime": {
     "end_time": "2023-06-20T13:32:14.744458Z",
     "start_time": "2023-06-20T13:32:14.718771Z"
    },
    "run_control": {
     "marked": false
    }
   },
   "outputs": [
    {
     "name": "stdout",
     "output_type": "stream",
     "text": [
      "Here's a list of all keywords in Python Programming:...\n",
      "['False', 'None', 'True', 'and', 'as', 'assert', 'async', 'await', 'break', 'class', 'continue', 'def', 'del', 'elif', 'else', 'except', 'finally', 'for', 'from', 'global', 'if', 'import', 'in', 'is', 'lambda', 'nonlocal', 'not', 'or', 'pass', 'raise', 'return', 'try', 'while', 'with', 'yield']\n"
     ]
    }
   ],
   "source": [
    "# importing keyword library\n",
    "import keyword\n",
    "print(\"Here's a list of all keywords in Python Programming:...\")\n",
    "# Printing all keywords.\n",
    "print(keyword.kwlist)"
   ]
  },
  {
   "cell_type": "markdown",
   "id": "bc39c4f6",
   "metadata": {},
   "source": [
    "**Q.2. What are the rules to create variables in python?**\n",
    "\n",
    "**Answer:**Rules for Python variables:\n",
    "\n",
    "1.A variable name must start with a letter or the underscore character<br>\n",
    "2.A variable name cannot start with a number<br>\n",
    "3.A variable name can only contain alpha-numeric characters and underscores (A-z, 0-9, and _ )<br>\n",
    "4.Variable names are case-sensitive (age, Age and AGE are three different variables)<br>\n",
    "5.Do not allow Whitespaces between variable characters. \n",
    "6.We cannot use special symbols like !, @, #, $, and so on."
   ]
  },
  {
   "cell_type": "code",
   "execution_count": null,
   "id": "570d70e0",
   "metadata": {},
   "outputs": [],
   "source": [
    "#Legal variable names:\n",
    "myvar = \"Shiv\"\n",
    "my_var = \"Shiv\"\n",
    "_my_var = \"Shiv\"\n",
    "myVar = \"Shiv\"\n",
    "MYVAR = \"Shiv\"\n",
    "myvar2 = \"Shiv\"\n",
    "\n",
    "#Illegal variable names:\n",
    "2myvar = \"Priya\"\n",
    "my-var = \"Priya\"\n",
    "my var = \"Priya\""
   ]
  },
  {
   "cell_type": "markdown",
   "id": "c78cefa6",
   "metadata": {},
   "source": [
    "**Q.3. What are the standards and conventions followed for the nomenclature of variables in\n",
    "python to improve code readability and maintainability?**\n",
    "\n",
    "**Answer:** Coding standards are a set of guidelines to produce maintainable and scalable code to ensure code quality, readability, and re-usability.\n",
    "\n",
    "**Standards and convenstion of variable in python :<br>**\n",
    "**1.Naming conventions for local variables, global variables, constants and functions:**<br>\n",
    "Some of the variable naming conventions are given below:<br>\n",
    "1.Meaningful and understandable variables name helps anyone to understand the reason of using it.<br>\n",
    "2.Local variables should be named using camel case lettering starting with small letter (e.g. localData) whereas Global variables names should start with a capital letter (e.g. GlobalData). Constant names should be formed using capital letters only (e.g. CONSDATA).<br>\n",
    "3.It is better to avoid the use of digits in variable names.<br>\n",
    "4.The names of the function should be written in camel case starting with small letters.<br>\n",
    "5.The name of the function must describe the reason of using the function clearly and briefly.<br>\n",
    "\n",
    "**Some of the coding standards are given below:**<br>\n",
    "**1.Limited use of globals:**<br>\n",
    "These rules tell about which types of data that can be declared global and the data that can’t be.<br>\n",
    "\n",
    "**2.Standard headers for different modules:**<br>\n",
    "For better understanding and maintenance of the code, the header of different modules should follow some standard format and information. The header format must contain below things that is being used in various companies:<br>\n",
    "1.Name of the module<br>\n",
    "2.Date of module creation<br>\n",
    "3.Author of the module<br>\n",
    "4.Modification history<br>\n",
    "5.Synopsis of the module about what the module does<br>\n",
    "6.Different functions supported in the module along with their input output parameters<br>\n",
    "7.Global variables accessed or modified by the module<br>\n",
    "\n",
    "**3.Indentation:**<br>\n",
    "Proper indentation is very important to increase the readability of the code. For making the code readable, programmers should use White spaces properly. Some of the spacing conventions are given below:<br>\n",
    "1.There must be a space after giving a comma between two function arguments.<br>\n",
    "2.Each nested block should be properly indented and spaced.<br>\n",
    "3.Proper Indentation should be there at the beginning and at the end of each block in the program.<br>\n",
    "4.All braces should start from a new line and the code following the end of braces also start from a new line.<br>\n",
    "\n",
    "**4.Error return values and exception handling conventions:**<br>\n",
    "All functions that encountering an error condition should either return a 0 or 1 for simplifying the debugging.<br>\n",
    "\n",
    "On the other hand, Coding guidelines give some general suggestions regarding the coding style that to be followed for the betterment of understandability and readability of the code. Some of the coding guidelines are given below :<br>\n",
    "\n",
    "**1.Avoid using a coding style that is too difficult to understand:**<br>\n",
    "Code should be easily understandable. The complex code makes maintenance and debugging difficult and expensive.<br>\n",
    "\n",
    "\n",
    "**2.Avoid using an identifier for multiple purposes:**<br>\n",
    "Each variable should be given a descriptive and meaningful name indicating the reason behind using it. This is not possible if an identifier is used for multiple purposes and thus it can lead to confusion to the reader. Moreover, it leads to more difficulty during future enhancements.<br>\n",
    "\n",
    "\n",
    "**3.Code should be well documented:**<br>\n",
    "The code should be properly commented for understanding easily. Comments regarding the statements increase the understandability of the code.<br>\n",
    "\n",
    "\n",
    "**4.Length of functions should not be very large:**<br>\n",
    "Lengthy functions are very difficult to understand. That’s why functions should be small enough to carry out small work and lengthy functions should be broken into small ones for completing small tasks.<br>\n",
    "\n",
    "\n",
    "**5.Try not to use GOTO statement:**<br>\n",
    "GOTO statement makes the program unstructured, thus it reduces the understandability of the program and also debugging becomes difficult.\n"
   ]
  },
  {
   "cell_type": "markdown",
   "id": "8a4a42f1",
   "metadata": {},
   "source": [
    "**Q.4. What will happen if a keyword is used as a variable name?**\n",
    "\n",
    "**Answer:**\n",
    "There are two main reasons:\n",
    "\n",
    "It makes the developer's life hard; and It makes the compiler's life hard.\n",
    "\n",
    "If keywords were allowed as variable names, it would be very hard to tell (for the developers and the compilers) whether something was a variable or a keyword. For example, what does the following mean?\n",
    "\n",
    "if(x == 10)\n",
    "\n",
    "Is it an if-statement, or calling a function called if?\n",
    "\n",
    "Neither the developer nor the compiler would be able to tell.\n"
   ]
  },
  {
   "cell_type": "markdown",
   "id": "57b8472d",
   "metadata": {},
   "source": [
    "**Q.5. For what purpose def keyword is used?**\n",
    "\n",
    "**Answer:** Python def keyword is used to define a function, it is placed before a function name that is provided by the user to create a user-defined function.<br>\n",
    "**There are two types of function in Python programming:**<br>\n",
    "**Standard library functions** - These are built-in functions in Python that are available to use.<br>\n",
    "**User-defined functions** - We can create our own functions based on our requirements."
   ]
  },
  {
   "cell_type": "code",
   "execution_count": null,
   "id": "72ee39a6",
   "metadata": {},
   "outputs": [],
   "source": [
    "def function_name(arguments):\n",
    "    # function body \n",
    "\n",
    "    return"
   ]
  },
  {
   "cell_type": "markdown",
   "id": "215e5e64",
   "metadata": {},
   "source": [
    "Here,<br>\n",
    "**def **- keyword used to declare a function<br>\n",
    "**function_name** - any name given to the function<br>\n",
    "**arguments** - any value passed to function<br>\n",
    "**return (optional)** - returns value from a function<br>\n",
    "\n",
    "**Example:**"
   ]
  },
  {
   "cell_type": "code",
   "execution_count": 3,
   "id": "ba78dd94",
   "metadata": {
    "ExecuteTime": {
     "end_time": "2023-06-20T16:37:05.230301Z",
     "start_time": "2023-06-20T16:37:05.146751Z"
    }
   },
   "outputs": [
    {
     "name": "stdout",
     "output_type": "stream",
     "text": [
      "Sum:  9\n"
     ]
    }
   ],
   "source": [
    "# function with two arguments\n",
    "def add_numbers(num1, num2):\n",
    "    sum = num1 + num2\n",
    "    print(\"Sum: \",sum)\n",
    "\n",
    "# function call with two values\n",
    "add_numbers(5, 4)"
   ]
  },
  {
   "cell_type": "code",
   "execution_count": 4,
   "id": "44170ac4",
   "metadata": {
    "ExecuteTime": {
     "end_time": "2023-06-20T16:37:09.225849Z",
     "start_time": "2023-06-20T16:37:09.210889Z"
    }
   },
   "outputs": [
    {
     "name": "stdout",
     "output_type": "stream",
     "text": [
      "Square: 9\n"
     ]
    }
   ],
   "source": [
    "# function definition\n",
    "def find_square(num):\n",
    "    result = num * num\n",
    "    return result\n",
    "\n",
    "# function call\n",
    "square = find_square(3)\n",
    "\n",
    "print('Square:',square)"
   ]
  },
  {
   "cell_type": "markdown",
   "id": "b5f263a3",
   "metadata": {},
   "source": [
    "**Q.6. What is the operation of this special character ‘\\’?**\n",
    "\n",
    "**Answer:** In Python strings, the backslash \" \\ \" is a special character, also called the \"escape\" character. It is used in representing **certain whitespace** characters: \"\\t\" is a tab, \"\\n\" is a newline, and \"\\r\" is a carriage return."
   ]
  },
  {
   "cell_type": "markdown",
   "id": "d4c2ab1a",
   "metadata": {},
   "source": [
    "**Q.7. Give an example of the following conditions:**<br>\n",
    "**(i) Homogeneous list**<br>\n",
    "**(ii) Heterogeneous set**<br>\n",
    "**(iii) Homogeneous tuple**<br>\n",
    "\n",
    "**Answer:**"
   ]
  },
  {
   "cell_type": "code",
   "execution_count": 10,
   "id": "0edf03fb",
   "metadata": {
    "ExecuteTime": {
     "end_time": "2023-06-22T06:08:10.141023Z",
     "start_time": "2023-06-22T06:08:10.119106Z"
    }
   },
   "outputs": [
    {
     "name": "stdout",
     "output_type": "stream",
     "text": [
      "list of integer:  [1, 2, 3, 8, 33]\n",
      "list of animal:  ['dog', 'cat', 'goat']\n",
      "list of name:  ['John', 'Travis', 'Sheila']\n",
      "list of floating numbers:  [2.2, 4.5, 9.8, 10.4]\n"
     ]
    }
   ],
   "source": [
    "# 1.Examples of Homogeneous lists include:\n",
    "list = [1, 2, 3, 8, 33]\n",
    "print(\"list of integer: \",list)\n",
    "\n",
    "list1 = ['dog', 'cat', 'goat']\n",
    "print(\"list of animal: \",list1)\n",
    "\n",
    "list2 = ['John', 'Travis', 'Sheila']\n",
    "print(\"list of name: \",list2)\n",
    "\n",
    "list3 = [2.2, 4.5, 9.8, 10.4]\n",
    "print(\"list of floating numbers: \",list3)"
   ]
  },
  {
   "cell_type": "code",
   "execution_count": 12,
   "id": "4abdb063",
   "metadata": {
    "ExecuteTime": {
     "end_time": "2023-06-22T06:18:57.792100Z",
     "start_time": "2023-06-22T06:18:57.774738Z"
    }
   },
   "outputs": [
    {
     "name": "stdout",
     "output_type": "stream",
     "text": [
      "List of Heterogeneous:  [2, 'cat', 34.33, 'Travis']\n",
      "List of Heterogeneous:  [2.22, 33, 'pen']\n"
     ]
    }
   ],
   "source": [
    "# 2.Examples of Heterogeneous lists include:\n",
    "list1 = [2, 'cat', 34.33, 'Travis']\n",
    "print(\"List of Heterogeneous: \",list1)\n",
    "\n",
    "list2 = [2.22, 33, 'pen']\n",
    "print(\"List of Heterogeneous: \",list2)"
   ]
  },
  {
   "cell_type": "code",
   "execution_count": 13,
   "id": "bd65a2fe",
   "metadata": {
    "ExecuteTime": {
     "end_time": "2023-06-22T06:28:32.616040Z",
     "start_time": "2023-06-22T06:28:32.597999Z"
    }
   },
   "outputs": [
    {
     "name": "stdout",
     "output_type": "stream",
     "text": [
      "()\n",
      "(1, 2, 3)\n",
      "(1, 'Hello', 3.4)\n",
      "('mouse', [8, 4, 6], (1, 2, 3))\n"
     ]
    }
   ],
   "source": [
    "# 3.Examples of Homogeneous tuple include:\n",
    "# Different types of tuples\n",
    "\n",
    "# Empty tuple\n",
    "my_tuple = ()\n",
    "print(my_tuple)\n",
    "\n",
    "# Tuple having integers\n",
    "# Homogeneous tuple\n",
    "my_tuple = (1, 2, 3)\n",
    "print(my_tuple)\n",
    "\n",
    "# tuple with mixed datatypes\n",
    "my_tuple = (1, \"Hello\", 3.4)\n",
    "print(my_tuple)\n",
    "\n",
    "# nested tuple\n",
    "my_tuple = (\"mouse\", [8, 4, 6], (1, 2, 3))\n",
    "print(my_tuple)"
   ]
  },
  {
   "cell_type": "markdown",
   "id": "104d915a",
   "metadata": {},
   "source": [
    "**Q.8. Explain the mutable and immutable data types with proper explanation & examples.**\n",
    "\n",
    "**Answer:**\n",
    "\n",
    "|Mutable|Immutable|\n",
    "|-------|---------|\n",
    "|1.A mutable object can be changed after it is created. | 1.An immutable object cannot be changed after it is created.|\n",
    "|2.Examples : List, Set, Dictionary.| 2.Exg: tuples, int, float, bool, frozenset. |\n",
    "|3.Mutable objects are not considered as thread-safe in nature. |3.Immutable objects are regarded as thread-safe innature.|\n",
    "|4.Mutable Objects are slower to access, as compared to immutable objects. | 4.Immutable objects are faster to access when compared to mutable objects. |\n",
    "|5.Mutable objects are useful when we need to change the size or contents of our object. | 5.Immutable objects are best suitable when we are sure that we don't need to change them at any point in time. |<br>\n",
    "\n",
    "\n",
    "**Mutable Data Types in Python:**<br>\n",
    "\n",
    "There are basically 3 mutable data types in Python:\n",
    "\n",
    "**1.List**<br>\n",
    "**2.Dictionary**<br>\n",
    "**3.Set**<br>\n",
    "\n",
    "**1.List:** A list data structure is a ordered sequence of elements in Python, that is mutable, or changeable. This is because we can change the value of a list in Python by assigning a new value to our already existing list. We need not create any separate (or new) copy of the list to perform these operations. A few examples for the same are given below."
   ]
  },
  {
   "cell_type": "code",
   "execution_count": 14,
   "id": "c726664d",
   "metadata": {
    "ExecuteTime": {
     "end_time": "2023-06-22T08:18:14.811978Z",
     "start_time": "2023-06-22T08:18:14.701313Z"
    }
   },
   "outputs": [
    {
     "name": "stdout",
     "output_type": "stream",
     "text": [
      "List after appending a value =  [1, 2, 3, 4, 5, 10]\n",
      "List after extending a list =  [1, 2, 3, 4, 5, 10, 6, 11, 23]\n",
      "List after removing a value =  [1, 2, 4, 5, 10, 6, 11, 23]\n"
     ]
    }
   ],
   "source": [
    "# example to demonstrate list is a mutable data type in python\n",
    "\n",
    "# our current list\n",
    "my_list = [1,2,3,4,5]\n",
    "\n",
    "# using append operation in our list\n",
    "my_list.append(10)\n",
    "# printing our list after the operation\n",
    "print(\"List after appending a value = \",my_list)\n",
    "\n",
    "# using extend operation in our list\n",
    "my_list.extend([6,11,23])\n",
    "# printing our list after the operation\n",
    "print(\"List after extending a list = \",my_list)\n",
    "\n",
    "# after removing a value from our list\n",
    "my_list.remove(3)\n",
    "# printing our list after the operation\n",
    "print(\"List after removing a value = \",my_list)"
   ]
  },
  {
   "cell_type": "markdown",
   "id": "4ddf2715",
   "metadata": {},
   "source": [
    "**Explanation:** In the above list, we have performed multiple operations to demonstrate that we can change the value of an already existing list\n",
    "\n",
    "1.Initially we created a dummy list.<br>\n",
    "2.Then appended a value to our list, and printed the updated list where our added value was reflected.<br>\n",
    "3.We also performed operations like extending values and removing values from our original list.<br>\n",
    "4.As an output, all the performed changes were reflected.<br>\n",
    "5.Hence, we may conclude that lists in Python are mutable.<br>\n",
    "\n",
    "\n",
    "\n",
    "**2.Dictionary:** Dictionary in Python is an unordered collection of items. Each item of a dictionary has a key/value pair, using which we can access a particular key or value of a dictionary. Keys in dictionaries are unique in nature.<br>\n",
    "\n",
    "Dictionary is a mutable data type in Python. That means, we can modify, remove or add values of existing items in a dictionary using the assignment operator.<br>\n",
    "\n",
    "The addition of items can be performed by using the keys of the dictionary. If the item is already present, then simply the value gets updated. Removing elements in a dictionary can be done simply using pop(), popitem(), clear() or del() in Python.<br>"
   ]
  },
  {
   "cell_type": "code",
   "execution_count": 15,
   "id": "014c421e",
   "metadata": {
    "ExecuteTime": {
     "end_time": "2023-06-22T08:26:15.396688Z",
     "start_time": "2023-06-22T08:26:15.054100Z"
    }
   },
   "outputs": [
    {
     "name": "stdout",
     "output_type": "stream",
     "text": [
      "Dictionary after adding a new key-value pair =  {'state': 'WB', 'Capital': 'Kolkata', 'Country': 'India'}\n",
      "Dictionary after updating an existing key value pair =  {'state': 'West Bengal', 'Capital': 'Kolkata', 'Country': 'India'}\n",
      "Dictionary after popping out a key value pair =  {'state': 'West Bengal', 'Country': 'India'}\n",
      "After clearing the whole dictionary =  {}\n"
     ]
    }
   ],
   "source": [
    "# example to demonstrate dictionary is a mutable data type in python\n",
    "\n",
    "# our current dictionary\n",
    "my_dict = {\"state\":\"WB\", \"Capital\":\"Kolkata\"}\n",
    "\n",
    "# adding new key-value pair to our dictionary\n",
    "my_dict['Country'] = \"India\"\n",
    "# printing our dictionary after the operation\n",
    "print(\"Dictionary after adding a new key-value pair = \",my_dict)\n",
    "\n",
    "# updating key-value pair in our dictionary\n",
    "my_dict['state'] = \"West Bengal\"\n",
    "# printing our dictionary after the operation\n",
    "print(\"Dictionary after updating an existing key value pair = \",my_dict)\n",
    "\n",
    "# removing key-value pair in our dictionary\n",
    "my_dict.pop('Capital')\n",
    "# printing our dictionary after the operation\n",
    "print(\"Dictionary after popping out a key value pair = \",my_dict)\n",
    "\n",
    "# removing key-value pair in our dictionary\n",
    "my_dict.clear()\n",
    "print(\"After clearing the whole dictionary = \",my_dict)"
   ]
  },
  {
   "cell_type": "markdown",
   "id": "e369b123",
   "metadata": {},
   "source": [
    "**Explanation:** In the above example, we performed operations like adding, updating, and removing elements from our dictionary. This proves that dictionary is a mutable data type in Python.\n",
    "\n",
    "\n",
    "**3.Set:**\n",
    "A set is an unordered collection of items in Python. All the elements of the set are unique in nature, that is, there are no duplicates in a set. Also, the elements of the set are immutable in nature, that is, they cannot be changed.However, a set itself is mutable in Python. That means, we can add or remove elements from a set in Python. Hence, we can perform operations in a set that can modify the overall set.<br>\n",
    "\n",
    "A few notable points regarding the mutability of sets in Python are:<br>\n",
    "1.Since sets are unordered in nature, we cannot apply indexing to them.<br>\n",
    "2.We cannot use indexing or slicing to fetch (access) or change the elements of a set. In fact, the set data type itself does not support these operations.<br>\n",
    "3.However, we may add, update or remove any element from the set. The addition of elements can be performed using the add() method in Python. And, updating operations can be performed using the update() method. We can use the remove() in Python to remove elements from a set."
   ]
  },
  {
   "cell_type": "code",
   "execution_count": 16,
   "id": "d19878b0",
   "metadata": {
    "ExecuteTime": {
     "end_time": "2023-06-22T08:36:52.483772Z",
     "start_time": "2023-06-22T08:36:52.475838Z"
    }
   },
   "outputs": [
    {
     "name": "stdout",
     "output_type": "stream",
     "text": [
      "Set after adding a value :  {1, 2, 5, 6, 7, 11, 16}\n",
      "Set after updating some values :  {1, 2, 100, 5, 6, 7, 9, 11, 78, 16}\n",
      "Set after removing a value :  {1, 100, 5, 6, 7, 9, 11, 78, 16}\n"
     ]
    }
   ],
   "source": [
    "# example to demonstrate \n",
    "# set is a mutable data type in python\n",
    "\n",
    "# our current set\n",
    "my_set = {1,2,6,5,7,11}\n",
    "\n",
    "# adding an element in our set\n",
    "my_set.add(16)\n",
    "# printing our set after the operation\n",
    "print(\"Set after adding a value : \",my_set)\n",
    "\n",
    "# adding multiple elements in our set\n",
    "# multiple elements (such as a list) can be added using update\n",
    "my_set.update([9,78,100])\n",
    "# printing our set after the operation\n",
    "print(\"Set after updating some values : \",my_set)\n",
    "\n",
    "# removing element from our set\n",
    "my_set.remove(2)\n",
    "# printing our set after the operation\n",
    "print(\"Set after removing a value : \",my_set)"
   ]
  },
  {
   "cell_type": "markdown",
   "id": "c0baa578",
   "metadata": {},
   "source": [
    "**Immutable Data Types in Python:**\n",
    "\n",
    "There are basically 3 Immutable data types in Python:\n",
    "\n",
    "**1.Numbers.**<br>\n",
    "**2.Strings.**<br>\n",
    "**3.Tuples.**<br>\n",
    "\n",
    "**1.Numbers:** Numbers are the first and most common example of immutable built-in types in Python. You’ll have no way to access the interior of a numeric value. Because of this limitation, you won’t be able to mutate its value without altering its identity. This is true for all the built-in numeric types—int, float, and complex—as you already learned.\n",
    "\n",
    "In Python, when you want to use a given object throughout your code, you typically assign that object to a variable and then reuse that variable whenever you need to. Now consider the following example of a variable that points to a numeric value:"
   ]
  },
  {
   "cell_type": "code",
   "execution_count": 19,
   "id": "cf47cc95",
   "metadata": {
    "ExecuteTime": {
     "end_time": "2023-06-22T08:50:26.248996Z",
     "start_time": "2023-06-22T08:50:26.235034Z"
    }
   },
   "outputs": [
    {
     "data": {
      "text/plain": [
       "314"
      ]
     },
     "execution_count": 19,
     "metadata": {},
     "output_type": "execute_result"
    }
   ],
   "source": [
    "number = 314\n",
    "number"
   ]
  },
  {
   "cell_type": "code",
   "execution_count": 20,
   "id": "0fe40837",
   "metadata": {
    "ExecuteTime": {
     "end_time": "2023-06-22T08:50:37.426570Z",
     "start_time": "2023-06-22T08:50:37.420553Z"
    }
   },
   "outputs": [
    {
     "data": {
      "text/plain": [
       "1716174281520"
      ]
     },
     "execution_count": 20,
     "metadata": {},
     "output_type": "execute_result"
    }
   ],
   "source": [
    "id(number)"
   ]
  },
  {
   "cell_type": "markdown",
   "id": "b075b6d7",
   "metadata": {},
   "source": [
    "In above example, you use an assignment statement to create a new variable that holds a reference to an integer number. The id() function returns the number’s identity.\n",
    "\n",
    "Now say that you don’t know how Python variables work and you think I can probably change the value of this integer variable using another assignment:"
   ]
  },
  {
   "cell_type": "code",
   "execution_count": 21,
   "id": "72e87860",
   "metadata": {
    "ExecuteTime": {
     "end_time": "2023-06-22T08:53:56.933081Z",
     "start_time": "2023-06-22T08:53:56.927095Z"
    }
   },
   "outputs": [
    {
     "data": {
      "text/plain": [
       "7"
      ]
     },
     "execution_count": 21,
     "metadata": {},
     "output_type": "execute_result"
    }
   ],
   "source": [
    "number = 7\n",
    "number"
   ]
  },
  {
   "cell_type": "code",
   "execution_count": 22,
   "id": "2c2974ef",
   "metadata": {
    "ExecuteTime": {
     "end_time": "2023-06-22T08:54:06.303389Z",
     "start_time": "2023-06-22T08:54:06.292381Z"
    }
   },
   "outputs": [
    {
     "data": {
      "text/plain": [
       "140703707375584"
      ]
     },
     "execution_count": 22,
     "metadata": {},
     "output_type": "execute_result"
    }
   ],
   "source": [
    "id(number)"
   ]
  },
  {
   "cell_type": "markdown",
   "id": "93a0652b",
   "metadata": {},
   "source": [
    "If you compare the return value of id() in this example with the value you got in the previous example, then you’ll note that they’re different. So, instead of updating the value of number, you’ve created a completely new value and made your variable refer to it.<br>\n",
    "\n",
    "Once you’ve changed number to refer to 7, then the old 314 gets garbage-collected, which frees up the memory assigned to storing the object.<br>\n",
    "\n",
    "When it comes to numbers, Python just allows you to reassign the variable name to point to a new numeric value that lives at a completely different memory address. It doesn’t allow you to change the value stored at the original memory address. That’s why 314 has the identity 1716174281520, and 7 has the identity 140703707375584. This behavior is the base of immutability in numeric types.<br>"
   ]
  },
  {
   "cell_type": "markdown",
   "id": "eb543c4e",
   "metadata": {},
   "source": [
    "**2.Strings:**\n",
    "Python strings are sequences of individual characters. Because they’re sequences, you can efficiently access any individual character in a given string using the indexing operator ([]) and a zero-based integer index:"
   ]
  },
  {
   "cell_type": "code",
   "execution_count": 25,
   "id": "97186ba3",
   "metadata": {
    "ExecuteTime": {
     "end_time": "2023-06-22T09:15:17.293496Z",
     "start_time": "2023-06-22T09:15:17.280533Z"
    }
   },
   "outputs": [],
   "source": [
    "greeting = \"Hello!\""
   ]
  },
  {
   "cell_type": "code",
   "execution_count": 26,
   "id": "9061109d",
   "metadata": {
    "ExecuteTime": {
     "end_time": "2023-06-22T09:15:24.852527Z",
     "start_time": "2023-06-22T09:15:24.837446Z"
    }
   },
   "outputs": [
    {
     "data": {
      "text/plain": [
       "'H'"
      ]
     },
     "execution_count": 26,
     "metadata": {},
     "output_type": "execute_result"
    }
   ],
   "source": [
    "greeting[0]"
   ]
  },
  {
   "cell_type": "code",
   "execution_count": 27,
   "id": "2bf0a295",
   "metadata": {
    "ExecuteTime": {
     "end_time": "2023-06-22T09:15:36.938546Z",
     "start_time": "2023-06-22T09:15:36.931529Z"
    }
   },
   "outputs": [
    {
     "data": {
      "text/plain": [
       "'e'"
      ]
     },
     "execution_count": 27,
     "metadata": {},
     "output_type": "execute_result"
    }
   ],
   "source": [
    "greeting[1]"
   ]
  },
  {
   "cell_type": "code",
   "execution_count": 28,
   "id": "0da8a3ce",
   "metadata": {
    "ExecuteTime": {
     "end_time": "2023-06-22T09:15:48.636274Z",
     "start_time": "2023-06-22T09:15:48.630314Z"
    }
   },
   "outputs": [
    {
     "data": {
      "text/plain": [
       "'l'"
      ]
     },
     "execution_count": 28,
     "metadata": {},
     "output_type": "execute_result"
    }
   ],
   "source": [
    "greeting[2]"
   ]
  },
  {
   "cell_type": "markdown",
   "id": "eece0a67",
   "metadata": {},
   "source": [
    "In these examples, you use indexing on a string object to access individual characters. Because you can access characters this way, you can also use id() to learn the identity of each character:"
   ]
  },
  {
   "cell_type": "code",
   "execution_count": 29,
   "id": "a2357e81",
   "metadata": {
    "ExecuteTime": {
     "end_time": "2023-06-22T09:16:41.764837Z",
     "start_time": "2023-06-22T09:16:41.754815Z"
    }
   },
   "outputs": [
    {
     "data": {
      "text/plain": [
       "1716104964976"
      ]
     },
     "execution_count": 29,
     "metadata": {},
     "output_type": "execute_result"
    }
   ],
   "source": [
    "id(greeting[0])"
   ]
  },
  {
   "cell_type": "code",
   "execution_count": 30,
   "id": "6e9fab42",
   "metadata": {
    "ExecuteTime": {
     "end_time": "2023-06-22T09:16:59.294407Z",
     "start_time": "2023-06-22T09:16:59.285431Z"
    }
   },
   "outputs": [
    {
     "data": {
      "text/plain": [
       "1716096247408"
      ]
     },
     "execution_count": 30,
     "metadata": {},
     "output_type": "execute_result"
    }
   ],
   "source": [
    "id(greeting[1])"
   ]
  },
  {
   "cell_type": "code",
   "execution_count": 31,
   "id": "114029b0",
   "metadata": {
    "ExecuteTime": {
     "end_time": "2023-06-22T09:17:11.780422Z",
     "start_time": "2023-06-22T09:17:11.766443Z"
    }
   },
   "outputs": [
    {
     "data": {
      "text/plain": [
       "1716096351984"
      ]
     },
     "execution_count": 31,
     "metadata": {},
     "output_type": "execute_result"
    }
   ],
   "source": [
    "id(greeting[2])"
   ]
  },
  {
   "cell_type": "markdown",
   "id": "01c8c123",
   "metadata": {},
   "source": [
    "As you can see in these examples, every unique character in a string has its own identity, which is completely independent of the identity of the string object itself:"
   ]
  },
  {
   "cell_type": "code",
   "execution_count": 32,
   "id": "a48f49eb",
   "metadata": {
    "ExecuteTime": {
     "end_time": "2023-06-22T09:18:18.840167Z",
     "start_time": "2023-06-22T09:18:18.827545Z"
    }
   },
   "outputs": [
    {
     "data": {
      "text/plain": [
       "1716175420400"
      ]
     },
     "execution_count": 32,
     "metadata": {},
     "output_type": "execute_result"
    }
   ],
   "source": [
    "id(greeting)"
   ]
  },
  {
   "cell_type": "markdown",
   "id": "524dd2c2",
   "metadata": {},
   "source": [
    "With this result, it may seem like Python strings can be mutated in place. However, they can’t. Strings are immutable objects in Python."
   ]
  },
  {
   "cell_type": "markdown",
   "id": "46698f6a",
   "metadata": {},
   "source": [
    "**3.Tuples:**\n",
    "Python’s tuples are another example of an immutable collection of data. You can’t modify them once created. Like strings, tuples are sequences. However, unlike strings, tuples allow you to store any type of object rather than just characters. To create a tuple object, you can use a literal that consists of a comma-separated series of values:"
   ]
  },
  {
   "cell_type": "code",
   "execution_count": 33,
   "id": "4a032f25",
   "metadata": {
    "ExecuteTime": {
     "end_time": "2023-06-22T09:22:50.289737Z",
     "start_time": "2023-06-22T09:22:50.270747Z"
    }
   },
   "outputs": [
    {
     "data": {
      "text/plain": [
       "tuple"
      ]
     },
     "execution_count": 33,
     "metadata": {},
     "output_type": "execute_result"
    }
   ],
   "source": [
    "letters = (\"a\", \"b\", \"c\", \"d\")\n",
    "type(letters)"
   ]
  },
  {
   "cell_type": "markdown",
   "id": "f1476bd8",
   "metadata": {},
   "source": [
    "In this example, you create a letters tuple using a literal. This specific tuple holds string objects. Note how the type() function says that your letters variable refers to an instance of the tuple class.\n",
    "\n",
    "Like with strings and other sequences, you can use the indexing operator to access individual items from an existing tuple. However, you can’t use indexing on the left side of an assignment because tuples are immutable:"
   ]
  },
  {
   "cell_type": "code",
   "execution_count": 34,
   "id": "1571389a",
   "metadata": {
    "ExecuteTime": {
     "end_time": "2023-06-22T09:27:32.472066Z",
     "start_time": "2023-06-22T09:27:32.456108Z"
    }
   },
   "outputs": [
    {
     "data": {
      "text/plain": [
       "'a'"
      ]
     },
     "execution_count": 34,
     "metadata": {},
     "output_type": "execute_result"
    }
   ],
   "source": [
    "letters[0]"
   ]
  },
  {
   "cell_type": "code",
   "execution_count": 35,
   "id": "148c0152",
   "metadata": {
    "ExecuteTime": {
     "end_time": "2023-06-22T09:27:43.252268Z",
     "start_time": "2023-06-22T09:27:43.236608Z"
    }
   },
   "outputs": [
    {
     "data": {
      "text/plain": [
       "'b'"
      ]
     },
     "execution_count": 35,
     "metadata": {},
     "output_type": "execute_result"
    }
   ],
   "source": [
    "letters[1]"
   ]
  },
  {
   "cell_type": "code",
   "execution_count": 36,
   "id": "9f783a37",
   "metadata": {
    "ExecuteTime": {
     "end_time": "2023-06-22T09:27:56.877311Z",
     "start_time": "2023-06-22T09:27:56.863350Z"
    }
   },
   "outputs": [
    {
     "data": {
      "text/plain": [
       "'c'"
      ]
     },
     "execution_count": 36,
     "metadata": {},
     "output_type": "execute_result"
    }
   ],
   "source": [
    " letters[2]"
   ]
  },
  {
   "cell_type": "code",
   "execution_count": 38,
   "id": "e84a322f",
   "metadata": {
    "ExecuteTime": {
     "end_time": "2023-06-22T09:28:10.465820Z",
     "start_time": "2023-06-22T09:28:10.348047Z"
    }
   },
   "outputs": [
    {
     "ename": "TypeError",
     "evalue": "'tuple' object does not support item assignment",
     "output_type": "error",
     "traceback": [
      "\u001b[1;31m---------------------------------------------------------------------------\u001b[0m",
      "\u001b[1;31mTypeError\u001b[0m                                 Traceback (most recent call last)",
      "\u001b[1;32m<ipython-input-38-13fe14767e5e>\u001b[0m in \u001b[0;36m<module>\u001b[1;34m\u001b[0m\n\u001b[1;32m----> 1\u001b[1;33m \u001b[0mletters\u001b[0m\u001b[1;33m[\u001b[0m\u001b[1;36m0\u001b[0m\u001b[1;33m]\u001b[0m \u001b[1;33m=\u001b[0m \u001b[1;34m\"A\"\u001b[0m\u001b[1;33m\u001b[0m\u001b[1;33m\u001b[0m\u001b[0m\n\u001b[0m",
      "\u001b[1;31mTypeError\u001b[0m: 'tuple' object does not support item assignment"
     ]
    }
   ],
   "source": [
    "letters[0] = \"A\""
   ]
  },
  {
   "cell_type": "markdown",
   "id": "120b4c96",
   "metadata": {},
   "source": [
    "In these examples, note that you can access the items of a tuple object using integer indices that start from 0. However, you can’t use this syntax to change the value of a particular item in the underlying tuple. This operation is forbidden and raises a TypeError."
   ]
  },
  {
   "cell_type": "markdown",
   "id": "80ebb6fc",
   "metadata": {},
   "source": [
    "**Q.9. Write a code to create the given structure using only for loop.**"
   ]
  },
  {
   "cell_type": "code",
   "execution_count": 46,
   "id": "6cee3c3c",
   "metadata": {
    "ExecuteTime": {
     "end_time": "2023-06-22T09:59:09.145684Z",
     "start_time": "2023-06-22T09:59:09.135749Z"
    }
   },
   "outputs": [
    {
     "name": "stdout",
     "output_type": "stream",
     "text": [
      "    *\n",
      "\n",
      "   ***\n",
      "\n",
      "  *****\n",
      "\n",
      " *******\n",
      "\n",
      "*********\n",
      "\n"
     ]
    }
   ],
   "source": [
    "for i in range(1,6):\n",
    "    for k in range(1,6-i):\n",
    "        print(\" \",end=\"\")\n",
    "    for j in range(1,(2*i-1)+1):\n",
    "        print(\"*\",end=\"\")\n",
    "    print(\"\\n\")"
   ]
  },
  {
   "cell_type": "code",
   "execution_count": 50,
   "id": "7a61bb34",
   "metadata": {
    "ExecuteTime": {
     "end_time": "2023-06-22T10:15:15.433542Z",
     "start_time": "2023-06-22T10:15:09.941721Z"
    }
   },
   "outputs": [
    {
     "name": "stdout",
     "output_type": "stream",
     "text": [
      "enter the number of row: 5\n",
      "|||||||||\n",
      " |||||||\n",
      "  |||||\n",
      "   |||\n",
      "    |\n"
     ]
    }
   ],
   "source": [
    "n = int(input(\"enter the number of row: \"))\n",
    "for i in range(n):\n",
    "    for j in range(i):\n",
    "        print(\" \",end=\"\")\n",
    "    for j in range(2*(n-i)-1):\n",
    "        print(\"|\",end=\"\")\n",
    "    print()"
   ]
  },
  {
   "cell_type": "markdown",
   "id": "8efee5f1",
   "metadata": {},
   "source": [
    "**Q.10. Write a code to create the given structure using while loop.**"
   ]
  },
  {
   "cell_type": "code",
   "execution_count": null,
   "id": "d0f7a4e2",
   "metadata": {},
   "outputs": [],
   "source": [
    "|||||||||\n",
    " |||||||\n",
    "  |||||\n",
    "   |||\n",
    "    |\n"
   ]
  },
  {
   "cell_type": "code",
   "execution_count": 1,
   "id": "acf6459a",
   "metadata": {
    "ExecuteTime": {
     "end_time": "2023-06-22T14:26:04.314686Z",
     "start_time": "2023-06-22T14:26:00.415607Z"
    }
   },
   "outputs": [
    {
     "name": "stdout",
     "output_type": "stream",
     "text": [
      "Enter number of row: 9\n",
      "|||||||||\n",
      " |||||||\n",
      "  |||||\n",
      "   |||\n",
      "    |\n"
     ]
    }
   ],
   "source": [
    "a = int(input(\"Enter number of row: \"))\n",
    "row = 0\n",
    "while row < a:\n",
    "    space=0\n",
    "    \n",
    "    while space<row:\n",
    "        print(\" \",end=\"\")\n",
    "        space = space + 1\n",
    "    star = 0\n",
    "    \n",
    "    while star < (a-row):\n",
    "        print(\"|\", end = \"\")\n",
    "        star=star+1\n",
    "        \n",
    "    row=row+1\n",
    "    a=a-1\n",
    "    \n",
    "    \n",
    "    print()"
   ]
  },
  {
   "cell_type": "code",
   "execution_count": null,
   "id": "50e6cd03",
   "metadata": {},
   "outputs": [],
   "source": [
    "n= int(input(\"Enter Number of Row: \"))\n",
    "i = 1\n",
    "while(n>0):\n",
    "    b=1\n",
    "    while(b<i):\n",
    "        print(\" \",end=\"\")\n",
    "        b=b+1\n",
    "    j=1\n",
    "    while(j<=(n*2)-i):\n",
    "        print(\"|\",end=\"\")\n",
    "    print()\n",
    "    n=n-1\n",
    "    i=i+1\n",
    "    \n",
    "#  In above progream get error"
   ]
  },
  {
   "cell_type": "code",
   "execution_count": 55,
   "id": "365922e0",
   "metadata": {
    "ExecuteTime": {
     "end_time": "2023-06-22T11:02:19.164344Z",
     "start_time": "2023-06-22T11:02:16.984830Z"
    }
   },
   "outputs": [
    {
     "name": "stdout",
     "output_type": "stream",
     "text": [
      "Enter the number of rows: 5\n",
      "| | | | | \n",
      " | | | | \n",
      "  | | | \n",
      "   | | \n",
      "    | \n"
     ]
    }
   ],
   "source": [
    "def pattern(n):\n",
    "    i = n\n",
    "    while i>=1:\n",
    "        print(\" \"*(n-i) + \"| \" * i)\n",
    "        i-=1\n",
    "\n",
    "n= int(input(\"Enter the number of rows: \"))\n",
    "\n",
    "pattern(n)"
   ]
  }
 ],
 "metadata": {
  "hide_input": false,
  "kernelspec": {
   "display_name": "Python 3",
   "language": "python",
   "name": "python3"
  },
  "language_info": {
   "codemirror_mode": {
    "name": "ipython",
    "version": 3
   },
   "file_extension": ".py",
   "mimetype": "text/x-python",
   "name": "python",
   "nbconvert_exporter": "python",
   "pygments_lexer": "ipython3",
   "version": "3.8.5"
  },
  "latex_envs": {
   "LaTeX_envs_menu_present": true,
   "autoclose": false,
   "autocomplete": true,
   "bibliofile": "biblio.bib",
   "cite_by": "apalike",
   "current_citInitial": 1,
   "eqLabelWithNumbers": true,
   "eqNumInitial": 1,
   "hotkeys": {
    "equation": "Ctrl-E",
    "itemize": "Ctrl-I"
   },
   "labels_anchors": false,
   "latex_user_defs": false,
   "report_style_numbering": false,
   "user_envs_cfg": false
  },
  "nbTranslate": {
   "displayLangs": [
    "*"
   ],
   "hotkey": "alt-t",
   "langInMainMenu": true,
   "sourceLang": "en",
   "targetLang": "fr",
   "useGoogleTranslate": true
  },
  "varInspector": {
   "cols": {
    "lenName": 16,
    "lenType": 16,
    "lenVar": 40
   },
   "kernels_config": {
    "python": {
     "delete_cmd_postfix": "",
     "delete_cmd_prefix": "del ",
     "library": "var_list.py",
     "varRefreshCmd": "print(var_dic_list())"
    },
    "r": {
     "delete_cmd_postfix": ") ",
     "delete_cmd_prefix": "rm(",
     "library": "var_list.r",
     "varRefreshCmd": "cat(var_dic_list()) "
    }
   },
   "types_to_exclude": [
    "module",
    "function",
    "builtin_function_or_method",
    "instance",
    "_Feature"
   ],
   "window_display": false
  }
 },
 "nbformat": 4,
 "nbformat_minor": 5
}
