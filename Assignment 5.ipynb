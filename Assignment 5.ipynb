{
 "cells": [
  {
   "cell_type": "markdown",
   "id": "1696dc48",
   "metadata": {},
   "source": [
    "# Assignment 5"
   ]
  },
  {
   "cell_type": "markdown",
   "id": "d417d05e",
   "metadata": {},
   "source": [
    "**1. What does an empty dictionary's code look like?**\n",
    "\n",
    "**Answer:**"
   ]
  },
  {
   "cell_type": "code",
   "execution_count": 1,
   "id": "87da8a17",
   "metadata": {
    "ExecuteTime": {
     "end_time": "2023-06-14T04:59:33.599537Z",
     "start_time": "2023-06-14T04:59:33.563354Z"
    }
   },
   "outputs": [
    {
     "data": {
      "text/plain": [
       "dict"
      ]
     },
     "execution_count": 1,
     "metadata": {},
     "output_type": "execute_result"
    }
   ],
   "source": [
    "dict = {}\n",
    "type(dict)"
   ]
  },
  {
   "cell_type": "markdown",
   "id": "14889ae4",
   "metadata": {},
   "source": [
    "**2. What is the value of a dictionary value with the key 'foo' and the value 42?**\n",
    "\n",
    "**Answer:**"
   ]
  },
  {
   "cell_type": "code",
   "execution_count": 3,
   "id": "591f4950",
   "metadata": {
    "ExecuteTime": {
     "end_time": "2023-06-14T05:03:17.627375Z",
     "start_time": "2023-06-14T05:03:17.608944Z"
    }
   },
   "outputs": [
    {
     "data": {
      "text/plain": [
       "{'foo': 42}"
      ]
     },
     "execution_count": 3,
     "metadata": {},
     "output_type": "execute_result"
    }
   ],
   "source": [
    "dict = {'foo':42}\n",
    "dict"
   ]
  },
  {
   "cell_type": "markdown",
   "id": "5b41af82",
   "metadata": {},
   "source": [
    "**3. What is the most significant distinction between a dictionary and a list?**\n",
    "\n",
    "**Answer:**\n",
    "\n",
    "| **Parameters** | **Dictionary** | **List** |\n",
    "|------------|------------|------|\n",
    "|**1.Basics**|A dictionary refers to a hashed structure of various pairs of keys and values.|A list refers to a collection of various index value pairs like that in the case of an array in C++.|\n",
    "|**2.Creation**|We can create a dictionary by placing all the available elements into a { } in the form of a key : value. Here, we have to separate each pair of available key-values using the “,” commas.|We can create a list by placing all the available elements into a [ ] and separating them using “,” commas.|\n",
    "|**3.Data Type**|The keys present in a dictionary can easily be of any given data type.|The indices in the case of a list are basically integers that start from the value 0.|\n",
    "|**4.Mode of Accessing**|We can access the elements present in a dictionary using the key-values.|We can access the elements in a key using indices.|\n",
    "|**5.Order of Elements**|We don’t have any guarantee of maintaining the order of the available elements.|The entered order of elements is always maintained.\n",
    "\n",
    "**Most significant difference:**<br>\n",
    "1.List - items in list are Ordered.<br>\n",
    "2.Dictionary : iten in dictionary are unordered."
   ]
  },
  {
   "cell_type": "markdown",
   "id": "ce118963",
   "metadata": {},
   "source": [
    "**4. What happens if you try to access spam['foo'] if spam is {'bar': 100}?**\n",
    "\n",
    "**Answer:**"
   ]
  },
  {
   "cell_type": "code",
   "execution_count": 4,
   "id": "7017aa89",
   "metadata": {
    "ExecuteTime": {
     "end_time": "2023-06-14T05:34:28.360370Z",
     "start_time": "2023-06-14T05:34:28.043522Z"
    }
   },
   "outputs": [
    {
     "ename": "KeyError",
     "evalue": "'foo'",
     "output_type": "error",
     "traceback": [
      "\u001b[1;31m---------------------------------------------------------------------------\u001b[0m",
      "\u001b[1;31mKeyError\u001b[0m                                  Traceback (most recent call last)",
      "\u001b[1;32m<ipython-input-4-e1fc52df6d0c>\u001b[0m in \u001b[0;36m<module>\u001b[1;34m\u001b[0m\n\u001b[0;32m      1\u001b[0m \u001b[0mspam\u001b[0m \u001b[1;33m=\u001b[0m \u001b[1;33m{\u001b[0m\u001b[1;34m'bar'\u001b[0m\u001b[1;33m:\u001b[0m\u001b[1;36m100\u001b[0m\u001b[1;33m}\u001b[0m\u001b[1;33m\u001b[0m\u001b[1;33m\u001b[0m\u001b[0m\n\u001b[1;32m----> 2\u001b[1;33m \u001b[0mspam\u001b[0m\u001b[1;33m[\u001b[0m\u001b[1;34m'foo'\u001b[0m\u001b[1;33m]\u001b[0m\u001b[1;33m\u001b[0m\u001b[1;33m\u001b[0m\u001b[0m\n\u001b[0m\u001b[0;32m      3\u001b[0m \u001b[1;31m# It gives a KeyError error.\u001b[0m\u001b[1;33m\u001b[0m\u001b[1;33m\u001b[0m\u001b[1;33m\u001b[0m\u001b[0m\n",
      "\u001b[1;31mKeyError\u001b[0m: 'foo'"
     ]
    }
   ],
   "source": [
    "spam = {'bar':100}\n",
    "spam['foo']\n",
    "# It gives a KeyError error."
   ]
  },
  {
   "cell_type": "markdown",
   "id": "d5e161ad",
   "metadata": {},
   "source": [
    "**5. If a dictionary is stored in spam, what is the difference between the expressions 'cat' in spam and 'cat' in spam.keys()?**\n",
    "\n",
    "**Answer:**"
   ]
  },
  {
   "cell_type": "code",
   "execution_count": 5,
   "id": "49c542e2",
   "metadata": {
    "ExecuteTime": {
     "end_time": "2023-06-14T05:38:15.376457Z",
     "start_time": "2023-06-14T05:38:15.363588Z"
    }
   },
   "outputs": [
    {
     "data": {
      "text/plain": [
       "True"
      ]
     },
     "execution_count": 5,
     "metadata": {},
     "output_type": "execute_result"
    }
   ],
   "source": [
    "sapm = {'cat': 20}\n",
    "'cat'in sapm"
   ]
  },
  {
   "cell_type": "code",
   "execution_count": 8,
   "id": "cc231c0b",
   "metadata": {
    "ExecuteTime": {
     "end_time": "2023-06-14T05:40:15.496147Z",
     "start_time": "2023-06-14T05:40:15.474782Z"
    }
   },
   "outputs": [
    {
     "data": {
      "text/plain": [
       "True"
      ]
     },
     "execution_count": 8,
     "metadata": {},
     "output_type": "execute_result"
    }
   ],
   "source": [
    "spam = {'cat': 20}\n",
    "'cat'in sapm.keys()"
   ]
  },
  {
   "cell_type": "markdown",
   "id": "30663d38",
   "metadata": {},
   "source": [
    "**6. If a dictionary is stored in spam, what is the difference between the expressions 'cat' in spam and 'cat' in spam.values()?**\n",
    "\n",
    "**Answer:**"
   ]
  },
  {
   "cell_type": "code",
   "execution_count": 9,
   "id": "007a52ba",
   "metadata": {
    "ExecuteTime": {
     "end_time": "2023-06-14T05:42:42.142191Z",
     "start_time": "2023-06-14T05:42:42.132601Z"
    }
   },
   "outputs": [
    {
     "data": {
      "text/plain": [
       "True"
      ]
     },
     "execution_count": 9,
     "metadata": {},
     "output_type": "execute_result"
    }
   ],
   "source": [
    "spam = {'cat':50}\n",
    "'cat' in spam "
   ]
  },
  {
   "cell_type": "code",
   "execution_count": 10,
   "id": "fc98728c",
   "metadata": {
    "ExecuteTime": {
     "end_time": "2023-06-14T05:43:25.876178Z",
     "start_time": "2023-06-14T05:43:25.868099Z"
    }
   },
   "outputs": [
    {
     "data": {
      "text/plain": [
       "False"
      ]
     },
     "execution_count": 10,
     "metadata": {},
     "output_type": "execute_result"
    }
   ],
   "source": [
    "spam = {'cat':50}\n",
    "'cat' in spam.values()"
   ]
  },
  {
   "cell_type": "markdown",
   "id": "a4cea985",
   "metadata": {},
   "source": [
    "**7. What is a shortcut for the following code?**\n",
    "\n",
    "**if 'color' not in spam:**\n",
    "\n",
    "**spam['color'] = 'black'**\n",
    "\n",
    "**Answer:**"
   ]
  },
  {
   "cell_type": "code",
   "execution_count": 11,
   "id": "d8e44901",
   "metadata": {
    "ExecuteTime": {
     "end_time": "2023-06-14T05:50:49.856645Z",
     "start_time": "2023-06-14T05:50:49.847610Z"
    }
   },
   "outputs": [
    {
     "data": {
      "text/plain": [
       "'black'"
      ]
     },
     "execution_count": 11,
     "metadata": {},
     "output_type": "execute_result"
    }
   ],
   "source": [
    "spam.setdefault('color','black')"
   ]
  },
  {
   "cell_type": "markdown",
   "id": "e42fe8eb",
   "metadata": {},
   "source": [
    "**8. How do you \"pretty print\" dictionary values using which module and function?**\n",
    "\n",
    "**Answer:**\n",
    "\n",
    "\"Prettyprint” is defined as a process where the source code or any other item is displayed in an attractively presentable way. We can use pretty print dict Python by importing the 'pprint' module in Python which gives the capability to “pretty-print” random data structures in a much more presentable form. "
   ]
  },
  {
   "cell_type": "code",
   "execution_count": 13,
   "id": "67e54bb6",
   "metadata": {
    "ExecuteTime": {
     "end_time": "2023-06-14T05:58:56.656356Z",
     "start_time": "2023-06-14T05:58:56.635495Z"
    }
   },
   "outputs": [
    {
     "name": "stdout",
     "output_type": "stream",
     "text": [
      "[{'Age': '32', 'Country': 'India', 'Name': 'Shivsagar'},\n",
      " {'Age': '31', 'Country': 'USA', 'Name': 'Priynka'},\n",
      " {'Age': '29', 'Country': 'UK', 'Name': 'Joe'},\n",
      " {'Age': '35', 'Country': 'Shrilanka', 'Name': 'Deepika'}]\n"
     ]
    }
   ],
   "source": [
    "# here I used pprint module:\n",
    "import pprint\n",
    "dct = [ {'Name': 'Shivsagar', 'Age': '32', 'Country': 'India'},\n",
    "  {'Name': 'Priynka', 'Age': '31', 'Country': 'USA'},\n",
    "  {'Name': 'Joe', 'Age': '29', 'Country': 'UK'},\n",
    "  {'Name': 'Deepika', 'Age': '35', 'Country': 'Shrilanka'}\n",
    "]\n",
    "# printing with pprint():\n",
    "pprint.pprint(dct)"
   ]
  },
  {
   "cell_type": "code",
   "execution_count": 15,
   "id": "276e9226",
   "metadata": {
    "ExecuteTime": {
     "end_time": "2023-06-14T06:00:16.873235Z",
     "start_time": "2023-06-14T06:00:16.861543Z"
    }
   },
   "outputs": [
    {
     "name": "stdout",
     "output_type": "stream",
     "text": [
      "[{'Name': 'Shivsagar', 'Age': '32', 'Country': 'India'}, {'Name': 'Priynka', 'Age': '31', 'Country': 'USA'}, {'Name': 'Joe', 'Age': '29', 'Country': 'UK'}, {'Name': 'Deepika', 'Age': '35', 'Country': 'Shrilanka'}]\n"
     ]
    }
   ],
   "source": [
    "# Printing with print() function:\n",
    "print(dct)"
   ]
  }
 ],
 "metadata": {
  "hide_input": false,
  "kernelspec": {
   "display_name": "Python 3",
   "language": "python",
   "name": "python3"
  },
  "language_info": {
   "codemirror_mode": {
    "name": "ipython",
    "version": 3
   },
   "file_extension": ".py",
   "mimetype": "text/x-python",
   "name": "python",
   "nbconvert_exporter": "python",
   "pygments_lexer": "ipython3",
   "version": "3.8.5"
  },
  "latex_envs": {
   "LaTeX_envs_menu_present": true,
   "autoclose": false,
   "autocomplete": true,
   "bibliofile": "biblio.bib",
   "cite_by": "apalike",
   "current_citInitial": 1,
   "eqLabelWithNumbers": true,
   "eqNumInitial": 1,
   "hotkeys": {
    "equation": "Ctrl-E",
    "itemize": "Ctrl-I"
   },
   "labels_anchors": false,
   "latex_user_defs": false,
   "report_style_numbering": false,
   "user_envs_cfg": false
  },
  "nbTranslate": {
   "displayLangs": [
    "*"
   ],
   "hotkey": "alt-t",
   "langInMainMenu": true,
   "sourceLang": "en",
   "targetLang": "fr",
   "useGoogleTranslate": true
  },
  "varInspector": {
   "cols": {
    "lenName": 16,
    "lenType": 16,
    "lenVar": 40
   },
   "kernels_config": {
    "python": {
     "delete_cmd_postfix": "",
     "delete_cmd_prefix": "del ",
     "library": "var_list.py",
     "varRefreshCmd": "print(var_dic_list())"
    },
    "r": {
     "delete_cmd_postfix": ") ",
     "delete_cmd_prefix": "rm(",
     "library": "var_list.r",
     "varRefreshCmd": "cat(var_dic_list()) "
    }
   },
   "types_to_exclude": [
    "module",
    "function",
    "builtin_function_or_method",
    "instance",
    "_Feature"
   ],
   "window_display": false
  }
 },
 "nbformat": 4,
 "nbformat_minor": 5
}
