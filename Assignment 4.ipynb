{
 "cells": [
  {
   "cell_type": "markdown",
   "id": "d5385e4d",
   "metadata": {},
   "source": [
    "# Assignment 4"
   ]
  },
  {
   "cell_type": "markdown",
   "id": "e1e0f046",
   "metadata": {},
   "source": [
    "**1. What exactly is []?**\n",
    "\n",
    "**Asnwer:** [] square bracket is the empty list value, which is a list value that contains no items. [] is empty list like a = [].\n"
   ]
  },
  {
   "cell_type": "markdown",
   "id": "3399d5f8",
   "metadata": {
    "ExecuteTime": {
     "end_time": "2023-06-13T15:00:51.481595Z",
     "start_time": "2023-06-13T15:00:51.466634Z"
    }
   },
   "source": [
    "**2. In a list of values stored in a variable called spam, how would you assign the value 'hello' as the third value? (Assume [2, 4, 6, 8, 10] are in spam.)**\n",
    "\n",
    "**Answer:**"
   ]
  },
  {
   "cell_type": "code",
   "execution_count": 1,
   "id": "f94256b3",
   "metadata": {
    "ExecuteTime": {
     "end_time": "2023-06-13T15:48:59.521830Z",
     "start_time": "2023-06-13T15:48:59.511816Z"
    }
   },
   "outputs": [
    {
     "data": {
      "text/plain": [
       "[2, 4, 'hello', 8, 10]"
      ]
     },
     "execution_count": 1,
     "metadata": {},
     "output_type": "execute_result"
    }
   ],
   "source": [
    "# changing the value of index 2.\n",
    "spam = [2, 4, 6, 8, 10]\n",
    "spam[2] = 'hello'\n",
    "spam"
   ]
  },
  {
   "cell_type": "markdown",
   "id": "270b4a47",
   "metadata": {},
   "source": [
    "**Let's pretend the spam includes the list ['a', 'b', 'c', 'd'] for the next three queries.**"
   ]
  },
  {
   "cell_type": "markdown",
   "id": "e3b4f459",
   "metadata": {},
   "source": [
    "**3. What is the value of spam[int(int('3' * 2) / 11)]?**\n",
    "\n",
    "**Answer:**"
   ]
  },
  {
   "cell_type": "code",
   "execution_count": 6,
   "id": "3a103680",
   "metadata": {
    "ExecuteTime": {
     "end_time": "2023-06-13T16:00:04.505965Z",
     "start_time": "2023-06-13T16:00:04.497948Z"
    }
   },
   "outputs": [
    {
     "data": {
      "text/plain": [
       "'d'"
      ]
     },
     "execution_count": 6,
     "metadata": {},
     "output_type": "execute_result"
    }
   ],
   "source": [
    "# Let's start from the middle of this expression. '3' * 2 evaluates to '33'. This is because multiplication of a str object by a int object results in concatenating string with itself n times (providing you are multiplying by n).\n",
    "\n",
    "# int('33') is just 33 as an integer. When you feed int class a string it will try to convert it to a number, and will raise ValueError if it cannot convert (like int('xfew')). int has an optional second argument base, that specifies the numeric base in with string is written. For instance int('ff', 16) returns 255. base is by default equal to 10.\n",
    "\n",
    "# Operator // is an operator of integer division. Therefore 33 // 11 is equal to 3. Note that 33 / 11 is equal to 3.0, a float. Of course after converting it to int this will also be just 3.\n",
    "\n",
    "# int(3) does really nothing. Just returns 3. Concluding spam[int(int('3' * 2) // 11)] evals to spam[3]:\n",
    "\n",
    "spam = ['a', 'b', 'c', 'd']\n",
    "spam[int(int('3'*2)/11)]"
   ]
  },
  {
   "cell_type": "markdown",
   "id": "a1b05ff2",
   "metadata": {},
   "source": [
    "**4. What is the value of spam[-1]?**\n",
    "\n",
    "**Answer:**"
   ]
  },
  {
   "cell_type": "code",
   "execution_count": 8,
   "id": "3d97a2f9",
   "metadata": {
    "ExecuteTime": {
     "end_time": "2023-06-13T16:13:37.898469Z",
     "start_time": "2023-06-13T16:13:37.892486Z"
    }
   },
   "outputs": [
    {
     "data": {
      "text/plain": [
       "'d'"
      ]
     },
     "execution_count": 8,
     "metadata": {},
     "output_type": "execute_result"
    }
   ],
   "source": [
    "spam = ['a', 'b', 'c', 'd']\n",
    "spam[-1]"
   ]
  },
  {
   "cell_type": "markdown",
   "id": "e203cef2",
   "metadata": {},
   "source": [
    "**5. What is the value of spam[:2]?**\n",
    "\n",
    "**Answer:**"
   ]
  },
  {
   "cell_type": "code",
   "execution_count": 10,
   "id": "848cfe44",
   "metadata": {
    "ExecuteTime": {
     "end_time": "2023-06-13T16:17:15.074122Z",
     "start_time": "2023-06-13T16:17:15.060172Z"
    }
   },
   "outputs": [
    {
     "data": {
      "text/plain": [
       "['a', 'b']"
      ]
     },
     "execution_count": 10,
     "metadata": {},
     "output_type": "execute_result"
    }
   ],
   "source": [
    "spam = ['a', 'b', 'c', 'd']\n",
    "spam[:2]"
   ]
  },
  {
   "cell_type": "markdown",
   "id": "3a5dd621",
   "metadata": {},
   "source": [
    "**Let's pretend bacon has the list [3.14, 'cat,' 11, 'cat,' True] for the next three questions.**\n",
    "\n",
    "**6. What is the value of bacon.index('cat')?**\n",
    "\n",
    "**Answer:**"
   ]
  },
  {
   "cell_type": "code",
   "execution_count": 11,
   "id": "130e32bd",
   "metadata": {
    "ExecuteTime": {
     "end_time": "2023-06-13T16:21:24.729218Z",
     "start_time": "2023-06-13T16:21:24.720285Z"
    }
   },
   "outputs": [
    {
     "data": {
      "text/plain": [
       "1"
      ]
     },
     "execution_count": 11,
     "metadata": {},
     "output_type": "execute_result"
    }
   ],
   "source": [
    "bacon = [3.14,'cat',11,'True']\n",
    "bacon.index('cat')"
   ]
  },
  {
   "cell_type": "markdown",
   "id": "c18db5ee",
   "metadata": {},
   "source": [
    "**7. How does bacon.append(99) change the look of the list value in bacon?**\n",
    "\n",
    "**Answer:**"
   ]
  },
  {
   "cell_type": "code",
   "execution_count": 13,
   "id": "1da712e2",
   "metadata": {
    "ExecuteTime": {
     "end_time": "2023-06-13T16:27:06.674473Z",
     "start_time": "2023-06-13T16:27:06.665458Z"
    }
   },
   "outputs": [
    {
     "data": {
      "text/plain": [
       "[3.14, 'cat', 11, 'True', 99]"
      ]
     },
     "execution_count": 13,
     "metadata": {},
     "output_type": "execute_result"
    }
   ],
   "source": [
    "bacon = [3.14,'cat',11,'True']\n",
    "bacon.append(99)\n",
    "bacon"
   ]
  },
  {
   "cell_type": "markdown",
   "id": "a630b375",
   "metadata": {},
   "source": [
    "**8. How does bacon.remove('cat') change the look of the list in bacon?**\n",
    "\n",
    "**Answer:**"
   ]
  },
  {
   "cell_type": "code",
   "execution_count": 14,
   "id": "8c267141",
   "metadata": {
    "ExecuteTime": {
     "end_time": "2023-06-13T16:28:43.820919Z",
     "start_time": "2023-06-13T16:28:43.800978Z"
    }
   },
   "outputs": [
    {
     "data": {
      "text/plain": [
       "[3.14, 11, 'True']"
      ]
     },
     "execution_count": 14,
     "metadata": {},
     "output_type": "execute_result"
    }
   ],
   "source": [
    "bacon = [3.14,'cat',11,'True']\n",
    "bacon.remove('cat')\n",
    "bacon"
   ]
  },
  {
   "cell_type": "markdown",
   "id": "c12be784",
   "metadata": {},
   "source": [
    "**9. What are the list concatenation and list replication operators?**\n",
    "\n",
    "**Answer:**  \" + \" is concatenation operator and \" * \" is replication operator."
   ]
  },
  {
   "cell_type": "code",
   "execution_count": 18,
   "id": "376cbf35",
   "metadata": {
    "ExecuteTime": {
     "end_time": "2023-06-13T16:45:42.249475Z",
     "start_time": "2023-06-13T16:45:42.232482Z"
    }
   },
   "outputs": [
    {
     "data": {
      "text/plain": [
       "[1, 2, 3, 4, 5, 6]"
      ]
     },
     "execution_count": 18,
     "metadata": {},
     "output_type": "execute_result"
    }
   ],
   "source": [
    "a = [1, 2, 3] \n",
    "b = [4, 5, 6] \n",
    "# If you need to concatenate them into a list, you could use the + operator. This will create a new list c:\n",
    "c = a + b\n",
    "c"
   ]
  },
  {
   "cell_type": "code",
   "execution_count": 19,
   "id": "2630b2e9",
   "metadata": {
    "ExecuteTime": {
     "end_time": "2023-06-13T16:46:10.335101Z",
     "start_time": "2023-06-13T16:46:10.323134Z"
    }
   },
   "outputs": [
    {
     "data": {
      "text/plain": [
       "[1, 2, 3, 4, 5, 6]"
      ]
     },
     "execution_count": 19,
     "metadata": {},
     "output_type": "execute_result"
    }
   ],
   "source": [
    "# You can also use the in-place version += which will effectively extend the list a with the contents of b:\n",
    "a = [1, 2, 3] \n",
    "b = [4, 5, 6]\n",
    "a+=b\n",
    "a"
   ]
  },
  {
   "cell_type": "code",
   "execution_count": 21,
   "id": "66b344ed",
   "metadata": {
    "ExecuteTime": {
     "end_time": "2023-06-13T16:47:53.063278Z",
     "start_time": "2023-06-13T16:47:53.048268Z"
    }
   },
   "outputs": [
    {
     "data": {
      "text/plain": [
       "[1, 2, 3, 4, 5, 6, 1, 2, 3, 4, 5, 6, 1, 2, 3, 4, 5, 6]"
      ]
     },
     "execution_count": 21,
     "metadata": {},
     "output_type": "execute_result"
    }
   ],
   "source": [
    "# If you need to replicate the list a say 3 times, you could use the * operator. This will create a new list d:\n",
    "d = a * 3 \n",
    "d "
   ]
  },
  {
   "cell_type": "markdown",
   "id": "7324861d",
   "metadata": {},
   "source": [
    "**10. What is difference between the list methods append() and insert()?**\n",
    "\n",
    "**Answer:**  **append()** adds an item to the end of a list, whereas. \n",
    "             **insert()** inserts and item in a specified position in the list."
   ]
  },
  {
   "cell_type": "code",
   "execution_count": 22,
   "id": "c9109350",
   "metadata": {
    "ExecuteTime": {
     "end_time": "2023-06-13T16:54:26.569209Z",
     "start_time": "2023-06-13T16:54:26.552261Z"
    }
   },
   "outputs": [
    {
     "data": {
      "text/plain": [
       "[3.14, 'cat', 11, 'cat', True, 99]"
      ]
     },
     "execution_count": 22,
     "metadata": {},
     "output_type": "execute_result"
    }
   ],
   "source": [
    "bacon = [3.14, 'cat', 11, 'cat', True]\n",
    "bacon.append(99) # append adds the item at the end of the list\n",
    "bacon"
   ]
  },
  {
   "cell_type": "code",
   "execution_count": null,
   "id": "050bb759",
   "metadata": {},
   "outputs": [],
   "source": [
    "# solution by inserting value in 3rd index\n",
    "spam = [2, 4, 6, 8, 10]\n",
    "spam.insert(2,'hello')\n",
    "spam"
   ]
  },
  {
   "cell_type": "markdown",
   "id": "8016452e",
   "metadata": {},
   "source": [
    "**11. What are the two methods for removing items from a list?**\n",
    "\n",
    "**Answer:**"
   ]
  },
  {
   "cell_type": "code",
   "execution_count": 25,
   "id": "07776341",
   "metadata": {
    "ExecuteTime": {
     "end_time": "2023-06-13T17:03:18.102309Z",
     "start_time": "2023-06-13T17:03:18.092368Z"
    }
   },
   "outputs": [
    {
     "name": "stdout",
     "output_type": "stream",
     "text": [
      "['apple', 'cherry']\n"
     ]
    }
   ],
   "source": [
    "# The remove() method removes the specified item.\n",
    "list = [\"apple\", \"banana\", \"cherry\"]\n",
    "list.remove(\"banana\")\n",
    "print(list)"
   ]
  },
  {
   "cell_type": "code",
   "execution_count": 26,
   "id": "8aa1ac1a",
   "metadata": {
    "ExecuteTime": {
     "end_time": "2023-06-13T17:04:16.389642Z",
     "start_time": "2023-06-13T17:04:16.380639Z"
    }
   },
   "outputs": [
    {
     "name": "stdout",
     "output_type": "stream",
     "text": [
      "['apple', 'cherry']\n"
     ]
    }
   ],
   "source": [
    "# The pop() method removes the specified index.\n",
    "list = [\"apple\", \"banana\", \"cherry\"]\n",
    "list.pop(1)\n",
    "print(list)"
   ]
  },
  {
   "cell_type": "code",
   "execution_count": 27,
   "id": "a4f9ceb9",
   "metadata": {
    "ExecuteTime": {
     "end_time": "2023-06-13T17:05:43.867102Z",
     "start_time": "2023-06-13T17:05:43.858126Z"
    }
   },
   "outputs": [
    {
     "name": "stdout",
     "output_type": "stream",
     "text": [
      "['banana', 'cherry']\n"
     ]
    }
   ],
   "source": [
    "# The del keyword also removes the specified index:\n",
    "list = [\"apple\", \"banana\", \"cherry\"]\n",
    "del list[0]\n",
    "print(list)"
   ]
  },
  {
   "cell_type": "markdown",
   "id": "9e139cdb",
   "metadata": {},
   "source": [
    "**12. Describe how list values and string values are identical.**\n",
    "\n",
    "**Answer:**\n",
    "\n",
    "1.Both lists and strings can be passed to len().\n",
    "\n",
    "2.Have indexes and slices.\n",
    "\n",
    "3.Can be used in for loops.\n",
    "\n",
    "4.Can be concatenated or replicated.\n",
    "\n",
    "5.Can be used with the in and not in operators."
   ]
  },
  {
   "cell_type": "markdown",
   "id": "172e2cba",
   "metadata": {},
   "source": [
    "**13. What's the difference between tuples and lists?**\n",
    "\n",
    "**Answer:** \n",
    "\n",
    "**Lists :** are mutable - they can have values added, removed, or changed. lists use the square brackets, [ and ]\n",
    "\n",
    "**Tuples :** are immutable; they cannot be changed at all. Tuples are written using parentheses, ( and )"
   ]
  },
  {
   "cell_type": "markdown",
   "id": "779d93d8",
   "metadata": {},
   "source": [
    "**14. How do you type a tuple value that only contains the integer 42?**\n",
    "\n",
    "**Answer:**"
   ]
  },
  {
   "cell_type": "code",
   "execution_count": 41,
   "id": "82800423",
   "metadata": {
    "ExecuteTime": {
     "end_time": "2023-06-13T17:53:13.644038Z",
     "start_time": "2023-06-13T17:53:13.624093Z"
    }
   },
   "outputs": [
    {
     "data": {
      "text/plain": [
       "(42,)"
      ]
     },
     "execution_count": 41,
     "metadata": {},
     "output_type": "execute_result"
    }
   ],
   "source": [
    "tuple = (42,)\n",
    "tuple"
   ]
  },
  {
   "cell_type": "markdown",
   "id": "07cdf7f7",
   "metadata": {},
   "source": [
    "**15. How do you get a list value's tuple form? How do you get a tuple value's list form?**\n",
    "\n",
    "**Answer:**"
   ]
  },
  {
   "cell_type": "code",
   "execution_count": null,
   "id": "c5d02987",
   "metadata": {},
   "outputs": [],
   "source": [
    "l1 = [2,3]\n",
    "l = tuple(l1)\n",
    "l"
   ]
  },
  {
   "cell_type": "code",
   "execution_count": null,
   "id": "f3986479",
   "metadata": {},
   "outputs": [],
   "source": [
    "t1 = (3,4)\n",
    "t = list(t1)\n",
    "t"
   ]
  },
  {
   "cell_type": "markdown",
   "id": "0ecb7052",
   "metadata": {},
   "source": [
    "**16. Variables that \"contain\" list values are not necessarily lists themselves. Instead, what do they contain?**\n",
    "\n",
    "**Answer:** They contain references to list values."
   ]
  },
  {
   "cell_type": "markdown",
   "id": "24a0d3c4",
   "metadata": {},
   "source": [
    "**17. How do you distinguish between copy.copy() and copy.deepcopy()?**\n",
    "\n",
    "**Answer:** The copy.copy() function will do a shallow copy of a list,\n",
    "The copy.deepcopy() function will do a deep copy of a list. only copy.deepcopy() will duplicate any lists inside the list."
   ]
  }
 ],
 "metadata": {
  "hide_input": false,
  "kernelspec": {
   "display_name": "Python 3",
   "language": "python",
   "name": "python3"
  },
  "language_info": {
   "codemirror_mode": {
    "name": "ipython",
    "version": 3
   },
   "file_extension": ".py",
   "mimetype": "text/x-python",
   "name": "python",
   "nbconvert_exporter": "python",
   "pygments_lexer": "ipython3",
   "version": "3.8.5"
  },
  "latex_envs": {
   "LaTeX_envs_menu_present": true,
   "autoclose": false,
   "autocomplete": true,
   "bibliofile": "biblio.bib",
   "cite_by": "apalike",
   "current_citInitial": 1,
   "eqLabelWithNumbers": true,
   "eqNumInitial": 1,
   "hotkeys": {
    "equation": "Ctrl-E",
    "itemize": "Ctrl-I"
   },
   "labels_anchors": false,
   "latex_user_defs": false,
   "report_style_numbering": false,
   "user_envs_cfg": false
  },
  "nbTranslate": {
   "displayLangs": [
    "*"
   ],
   "hotkey": "alt-t",
   "langInMainMenu": true,
   "sourceLang": "en",
   "targetLang": "fr",
   "useGoogleTranslate": true
  },
  "varInspector": {
   "cols": {
    "lenName": 16,
    "lenType": 16,
    "lenVar": 40
   },
   "kernels_config": {
    "python": {
     "delete_cmd_postfix": "",
     "delete_cmd_prefix": "del ",
     "library": "var_list.py",
     "varRefreshCmd": "print(var_dic_list())"
    },
    "r": {
     "delete_cmd_postfix": ") ",
     "delete_cmd_prefix": "rm(",
     "library": "var_list.r",
     "varRefreshCmd": "cat(var_dic_list()) "
    }
   },
   "types_to_exclude": [
    "module",
    "function",
    "builtin_function_or_method",
    "instance",
    "_Feature"
   ],
   "window_display": false
  }
 },
 "nbformat": 4,
 "nbformat_minor": 5
}
