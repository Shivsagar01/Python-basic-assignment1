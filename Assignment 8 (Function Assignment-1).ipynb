{
 "cells": [
  {
   "cell_type": "markdown",
   "id": "8101e469",
   "metadata": {},
   "source": [
    "# Assignment 8 ( Function Ass.)-1"
   ]
  },
  {
   "cell_type": "markdown",
   "id": "8cfbc7e8",
   "metadata": {},
   "source": [
    "**Q.1. In Python, what is the difference between a built-in function and a user-defined function? Provide an\n",
    "example of each.**\n",
    "\n",
    "**Answer:** Functions are the basic building block of any Python program, defined as the organized block of reusable code, which can be called whenever required. There are two types of functions in python:\n",
    "\n",
    "**1.Built-in Function:**<br>\n",
    "**2.User-defined Function**\n",
    "\n",
    "**1.Built-in Function:** Built-in functions are already defined in python. A user has to remember the name and parameters of a particular function. Since these functions are pre-defined, there is no need to define them again. Example:"
   ]
  },
  {
   "cell_type": "code",
   "execution_count": 1,
   "id": "0c1c00c8",
   "metadata": {
    "ExecuteTime": {
     "end_time": "2023-06-26T17:08:33.481851Z",
     "start_time": "2023-06-26T17:08:33.474874Z"
    }
   },
   "outputs": [
    {
     "name": "stdout",
     "output_type": "stream",
     "text": [
      "Length of string is 5\n",
      "Maximum number in list is  43\n",
      "Type is <class 'list'>\n",
      "Minimum numberin list is  2\n",
      "Sum of the element is  76\n"
     ]
    }
   ],
   "source": [
    "list1 = [2, 5, 19, 7, 43]\n",
    "\n",
    "print(\"Length of string is\",len(list1))\n",
    "print(\"Maximum number in list is \",max(list1))\n",
    "print(\"Type is\",type(list1))\n",
    "print(\"Minimum numberin list is \",min(list1))\n",
    "print(\"Sum of the element is \",sum(list1))"
   ]
  },
  {
   "cell_type": "markdown",
   "id": "8507d2bd",
   "metadata": {},
   "source": [
    "Here, above we created a list and stored a few numbers in it, then called various in-built functions on the list and displayed the output."
   ]
  },
  {
   "cell_type": "markdown",
   "id": "ff8bd9ce",
   "metadata": {},
   "source": [
    "**2.User-defined Function:** These functions are defined by a programmer to perform any specific task or to reduce the complexity of big problems and use that function according to their need. Example:"
   ]
  },
  {
   "cell_type": "code",
   "execution_count": 2,
   "id": "0d93637e",
   "metadata": {
    "ExecuteTime": {
     "end_time": "2023-06-26T17:10:27.545756Z",
     "start_time": "2023-06-26T17:10:27.537741Z"
    }
   },
   "outputs": [
    {
     "name": "stdout",
     "output_type": "stream",
     "text": [
      "3\n"
     ]
    }
   ],
   "source": [
    "def sub(x, y):\n",
    "    return x-y\n",
    "\n",
    "print(sub(5,2))"
   ]
  },
  {
   "cell_type": "markdown",
   "id": "d429f513",
   "metadata": {},
   "source": [
    "In the above program, we have created our program that subtracts two numbers passed as arguments and displays the result. Such types of functions are known as user-defined functions."
   ]
  },
  {
   "cell_type": "code",
   "execution_count": 3,
   "id": "0782cd03",
   "metadata": {
    "ExecuteTime": {
     "end_time": "2023-06-26T17:11:45.059903Z",
     "start_time": "2023-06-26T17:11:45.053920Z"
    }
   },
   "outputs": [
    {
     "name": "stdout",
     "output_type": "stream",
     "text": [
      " Average of  5  and  10  is  7.5\n"
     ]
    }
   ],
   "source": [
    "def avg_numbers(x,y):\n",
    "    print(\" Average of \", x ,\" and \", y , \" is \",(x+y)/2)\n",
    "avg_numbers(5,10)"
   ]
  },
  {
   "cell_type": "code",
   "execution_count": 4,
   "id": "e7dd95d0",
   "metadata": {
    "ExecuteTime": {
     "end_time": "2023-06-26T17:14:25.676436Z",
     "start_time": "2023-06-26T17:14:25.672406Z"
    }
   },
   "outputs": [
    {
     "name": "stdout",
     "output_type": "stream",
     "text": [
      "odd\n",
      "even\n"
     ]
    }
   ],
   "source": [
    "list1 = [1,2,3,4,5,6,7,8,9,10]\n",
    "def evenOdd( list1 ):\n",
    "    if (list1 % 2 == 0):\n",
    "        print(\"even\")\n",
    "    else:\n",
    "        print(\"odd\")\n",
    "   \n",
    "# Driver code\n",
    "evenOdd(5)\n",
    "evenOdd(2)"
   ]
  },
  {
   "cell_type": "markdown",
   "id": "b2e47b53",
   "metadata": {},
   "source": [
    "**Q.2. How can you pass arguments to a function in Python? Explain the difference between positional\n",
    "arguments and keyword arguments.**\n",
    "\n",
    "**Answer:** Arguments are specified after the function name, inside the parentheses. You can add as many arguments as you want, just separate them with a comma.Example : **def avg_numbers(x,y):**\n",
    "\n",
    "The difference between positional arguments and keyword arguments is:\n",
    "\n",
    "|Positional Arguments|Keyword Arguments|\n",
    "|--------------------|-----------------|\n",
    "|1.Arguments are passed in the order of parameters. The order defined in the order function declaration.|1.Parameter Names are used to pass the argument during the function call.|\n",
    "|2.Order of values cannot be changed to avoid the unexpected output.|2.Order of parameter Names can be changed to pass the argument(or values).|\n",
    "|3.Syntax :-FunctionName(value1, value2, value3,....)|3.Syntax : – FunctionName(paramName = value, ...)|\n",
    "\n",
    "If you consider the below example.<br>\n",
    "def fn (a, b, c = 1): # a/b required, c optional.<br>\n",
    "return a * b + c<br>\n",
    "Now, the above function can be called in the below ways.<br>\n",
    "print fn (1, 2) # returns 3,<br>\n",
    "here arguments(1,2) are positional and we did not give the third argument, so it is defaulted to value 1. print fn (1, 2, 3) # returns 5, here the arguments(1,2,3) are positional.<br>\n",
    "print fn (c = 5, b = 2, a = 2) # returns 9,<br>\n",
    "here the arguments(c = 5, b = 2, a = 2) are keyword arguments or named arguments.\n",
    "print fn (b = 2, a = 2) # returns 5,<br>\n",
    "here the arguments(b = 2, a = 2) are keyword or named arugments and c is defaulted to value 1 .<br>\n",
    "print fn (5, c = 2, b = 1) # returns 7,<br>\n",
    "here 5 is positional argument and c = 2, b = 1 are named or keyword arguments.<br>\n",
    "print fn (8, b = 0) # returns 1,<br>\n",
    "here 8 is positional, b=0 is named and c is defaulted to value 1."
   ]
  },
  {
   "cell_type": "markdown",
   "id": "e56086b8",
   "metadata": {},
   "source": [
    "**Q.3. What is the purpose of the return statement in a function? Can a function have multiple return\n",
    "statements? Explain with an example.**\n",
    "\n",
    "**Answer:**\n",
    "\n",
    "**The purpose of the return statement in a function:**<br>\n",
    "The python return statement is used to return the output from a function. A return statement is used to end the execution of the function call and “returns” the result (value of the expression following the return keyword) to the caller. The statements after the return statements are not executed. If the return statement is without any expression, then the special value None is returned. A return statement is overall used to invoke a function so that the passed statements can be executed."
   ]
  },
  {
   "cell_type": "code",
   "execution_count": null,
   "id": "a46ec1e3",
   "metadata": {},
   "outputs": [],
   "source": [
    "Syntax: \n",
    "\n",
    "def fun():\n",
    "    statements\n",
    "    .\n",
    "    .\n",
    "    return [expression]"
   ]
  },
  {
   "cell_type": "code",
   "execution_count": 5,
   "id": "17c60867",
   "metadata": {
    "ExecuteTime": {
     "end_time": "2023-06-26T17:17:31.373097Z",
     "start_time": "2023-06-26T17:17:31.363122Z"
    }
   },
   "outputs": [
    {
     "name": "stdout",
     "output_type": "stream",
     "text": [
      "4\n"
     ]
    }
   ],
   "source": [
    "def A_function (x):\n",
    "\n",
    "    return x + 2\n",
    "print(A_function (2))"
   ]
  },
  {
   "cell_type": "markdown",
   "id": "53db6fea",
   "metadata": {},
   "source": [
    "**Can a function have multiple return statements? Explain with an example.**\n",
    "\n",
    "**Answer:** Yes, function have multiple return statement and there is multipal way to tackal this situation:"
   ]
  },
  {
   "cell_type": "code",
   "execution_count": 6,
   "id": "5234a53f",
   "metadata": {
    "ExecuteTime": {
     "end_time": "2023-06-26T17:19:10.184231Z",
     "start_time": "2023-06-26T17:19:10.166240Z"
    }
   },
   "outputs": [
    {
     "name": "stdout",
     "output_type": "stream",
     "text": [
      "Yes,You will authorised to Vote\n"
     ]
    }
   ],
   "source": [
    "# Using if...else statement\n",
    "def canVote(age):\n",
    "    if age>=18:\n",
    "        return \"Yes,You will authorised to Vote\"\n",
    "\n",
    "          \n",
    "    else:\n",
    "        return \"No, You can't authorised to Vote\"\n",
    "\n",
    "result = canVote(25) \n",
    "print(result)"
   ]
  },
  {
   "cell_type": "code",
   "execution_count": 14,
   "id": "ff5eb12f",
   "metadata": {
    "ExecuteTime": {
     "end_time": "2023-06-26T17:27:12.885745Z",
     "start_time": "2023-06-26T17:27:12.870786Z"
    }
   },
   "outputs": [],
   "source": [
    "# only using if statement\n",
    "def canVote(age):\n",
    "    if age>=18:\n",
    "        return \"Yes,You will authorised to Vote\"\n",
    "    \n",
    "    \n",
    "    return \"No, You can't authorised to Vote\"\n"
   ]
  },
  {
   "cell_type": "code",
   "execution_count": 10,
   "id": "86b4252b",
   "metadata": {
    "ExecuteTime": {
     "end_time": "2023-06-26T17:23:24.009819Z",
     "start_time": "2023-06-26T17:23:23.990827Z"
    }
   },
   "outputs": [
    {
     "name": "stdout",
     "output_type": "stream",
     "text": [
      "Yes\n"
     ]
    }
   ],
   "source": [
    "# in some scenario, yo can use single return statement\n",
    "def canVote(age):\n",
    "    return \"Yes\" if age>=18 else \"No\"\n",
    "\n",
    "result = canVote(25) \n",
    "print(result)"
   ]
  },
  {
   "cell_type": "code",
   "execution_count": 11,
   "id": "6b95dd2f",
   "metadata": {
    "ExecuteTime": {
     "end_time": "2023-06-26T17:24:13.125929Z",
     "start_time": "2023-06-26T17:24:13.109973Z"
    }
   },
   "outputs": [
    {
     "name": "stdout",
     "output_type": "stream",
     "text": [
      "Name: Priyanka\n",
      "Age: 35\n",
      "Country: UK\n"
     ]
    }
   ],
   "source": [
    "# As you already know a function can return a single variable, but it can also return multiple variables.\n",
    "def getPerson():\n",
    "    name = \"Priyanka\"\n",
    "    age = 35\n",
    "    country = \"UK\"\n",
    "    return name,age,country\n",
    "\n",
    "name,age,country = getPerson()\n",
    "print(\"Name:\", name)\n",
    "print(\"Age:\", age)\n",
    "print(\"Country:\", country)"
   ]
  },
  {
   "cell_type": "markdown",
   "id": "d08e0810",
   "metadata": {},
   "source": [
    "**Q.4. What are lambda functions in Python? How are they different from regular functions? Provide an\n",
    "example where a lambda function can be useful.**\n",
    "\n",
    "**Answer:** Lambda functions are similar to user-defined functions but without a name. They're commonly referred to as anonymous functions.\n",
    "\n",
    "Lambda functions are efficient whenever you want to create a function that will only contain simple expressions – that is, expressions that are usually a single line of a statement. They're also useful when you want to use the function once.\n",
    "\n",
    "You can define a lambda function like this:\n",
    "\n",
    "Syntax: **lambda argument(s) : expression**<br>\n",
    "**lambda** is a keyword in Python for defining the anonymous function.<br>\n",
    "**argument(s)** is a placeholder, that is a variable that will be used to hold the value you want to pass into the function expression. A lambda function can have multiple variables depending on what you want to achieve.<br>\n",
    "**expression** is the code you want to execute in the lambda function.<br>\n",
    "\n",
    "**How are different from regular function:**<br>\n",
    "Notice that the anonymous function does not have a return keyword. This is because the anonymous function will automatically return the result of the expression in the function once it is executed.\n",
    "\n",
    "Let's look at an example of a lambda function to see how it works. We'll compare it to a regular user-defined function.\n",
    "\n",
    "Assume I want to write a function that returns twice the number I pass it. We can define a user-defined function as follows:"
   ]
  },
  {
   "cell_type": "code",
   "execution_count": 12,
   "id": "922db964",
   "metadata": {
    "ExecuteTime": {
     "end_time": "2023-06-26T17:25:28.018594Z",
     "start_time": "2023-06-26T17:25:28.004590Z"
    }
   },
   "outputs": [
    {
     "data": {
      "text/plain": [
       "6"
      ]
     },
     "execution_count": 12,
     "metadata": {},
     "output_type": "execute_result"
    }
   ],
   "source": [
    "def f(x):\n",
    "  return x * 2\n",
    "\n",
    "f(3)"
   ]
  },
  {
   "cell_type": "markdown",
   "id": "d92d13f8",
   "metadata": {},
   "source": [
    "Now for a lambda function. We'll create it like this:"
   ]
  },
  {
   "cell_type": "code",
   "execution_count": null,
   "id": "dd7e2d30",
   "metadata": {},
   "outputs": [],
   "source": [
    "lambda x: x * 3 "
   ]
  },
  {
   "cell_type": "markdown",
   "id": "933a64d1",
   "metadata": {},
   "source": [
    "As I explained above, the lambda function does not have a return keyword. As a result, it will return the result of the expression on its own. The x in it also serves as a placeholder for the value to be passed into the expression. You can change it to whatever you want.\n",
    "\n",
    "Now if  you want to call a lambda function, you will use an approach known as immediately invoking the function. That looks like this:"
   ]
  },
  {
   "cell_type": "code",
   "execution_count": 13,
   "id": "256a9376",
   "metadata": {
    "ExecuteTime": {
     "end_time": "2023-06-26T17:26:58.498336Z",
     "start_time": "2023-06-26T17:26:58.482340Z"
    }
   },
   "outputs": [
    {
     "data": {
      "text/plain": [
       "6"
      ]
     },
     "execution_count": 13,
     "metadata": {},
     "output_type": "execute_result"
    }
   ],
   "source": [
    "(lambda x : x * 2)(3)"
   ]
  },
  {
   "cell_type": "markdown",
   "id": "e3682de5",
   "metadata": {},
   "source": [
    "he reason for this is that since the lambda function does not have a name you can invoke (it's anonymous), you need to enclose the entire statement when you want to call it."
   ]
  },
  {
   "cell_type": "markdown",
   "id": "b2ca404a",
   "metadata": {},
   "source": [
    "**where a lambda function can be useful.**<br>\n",
    "You should use the lambda function to create simple expressions. For example, expressions that do not include complex structures such as if-else, for-loops, and so on.<br>\n",
    "Common Use Cases for Lambda Functions:<br>\n",
    "How to Use a Lambda Function with Iterables<br>\n",
    "An iterable is essentially anything that consists of a series of values, such as characters, numbers, and so on.<br>\n",
    "In Python, iterables include strings, lists, dictionaries, ranges, tuples, and so on. When working with iterables, you can use lambda functions in conjunction with two common functions: filter() and map().\n",
    "\n",
    "**Filter()**<br>\n",
    "When you want to focus on specific values in an iterable, you can use the filter function. The following is the syntax of a filter function:"
   ]
  },
  {
   "cell_type": "code",
   "execution_count": null,
   "id": "a85bcbc9",
   "metadata": {},
   "outputs": [],
   "source": [
    "filter(function, iterable)"
   ]
  },
  {
   "cell_type": "markdown",
   "id": "f95e0bad",
   "metadata": {},
   "source": [
    "As you can see, a filter function requires another function that contains the expression or operations that will be performed on the iterable.<br>\n",
    "\n",
    "For example, say I have a list such as [1, 2, 3, 4, 5, 6, 7, 8, 9, 10]. Now let's say that I’m only interested in those values in that list that have a remainder of 0 when divided by 2. I can make use of filter() and a lambda function.<br>\n",
    "\n",
    "Firstly I will use the lambda function to create the expression I want to derive like this:"
   ]
  },
  {
   "cell_type": "code",
   "execution_count": null,
   "id": "61a6c065",
   "metadata": {},
   "outputs": [],
   "source": [
    "lambda x: x % 2 == 0"
   ]
  },
  {
   "cell_type": "markdown",
   "id": "91b9aa4a",
   "metadata": {},
   "source": [
    "Then I will insert it into the filter function like this:"
   ]
  },
  {
   "cell_type": "code",
   "execution_count": 15,
   "id": "889a497d",
   "metadata": {
    "ExecuteTime": {
     "end_time": "2023-06-26T17:32:51.965641Z",
     "start_time": "2023-06-26T17:32:51.950640Z"
    }
   },
   "outputs": [
    {
     "data": {
      "text/plain": [
       "<filter at 0x2420d1dfdf0>"
      ]
     },
     "execution_count": 15,
     "metadata": {},
     "output_type": "execute_result"
    }
   ],
   "source": [
    "list1 = [1, 2, 3, 4, 5, 6, 7, 8, 9, 10]\n",
    "filter(lambda x: x % 2 == 0, list1)"
   ]
  },
  {
   "cell_type": "code",
   "execution_count": 16,
   "id": "0c29feac",
   "metadata": {
    "ExecuteTime": {
     "end_time": "2023-06-26T17:33:06.417802Z",
     "start_time": "2023-06-26T17:33:06.407829Z"
    }
   },
   "outputs": [
    {
     "data": {
      "text/plain": [
       "[2, 4, 6, 8, 10]"
      ]
     },
     "execution_count": 16,
     "metadata": {},
     "output_type": "execute_result"
    }
   ],
   "source": [
    "list(filter(lambda x: x % 2 == 0, list1))"
   ]
  },
  {
   "cell_type": "markdown",
   "id": "aae292a2",
   "metadata": {},
   "source": [
    "**Map()**<br>\n",
    "You use the map() function whenever you want to modify every value in an iterable."
   ]
  },
  {
   "cell_type": "code",
   "execution_count": null,
   "id": "0124b7a4",
   "metadata": {},
   "outputs": [],
   "source": [
    "map(function, iterable)"
   ]
  },
  {
   "cell_type": "markdown",
   "id": "73d7b0fc",
   "metadata": {},
   "source": [
    "For example, let's say I want to raise all values in the below list to the power of 2. I can easily do that using the lambda and map functions like this:"
   ]
  },
  {
   "cell_type": "code",
   "execution_count": 17,
   "id": "fb28e102",
   "metadata": {
    "ExecuteTime": {
     "end_time": "2023-06-26T17:34:44.199622Z",
     "start_time": "2023-06-26T17:34:44.180635Z"
    }
   },
   "outputs": [
    {
     "data": {
      "text/plain": [
       "[4, 9, 16, 25]"
      ]
     },
     "execution_count": 17,
     "metadata": {},
     "output_type": "execute_result"
    }
   ],
   "source": [
    "list1 = [2, 3, 4, 5]\n",
    "\n",
    "list(map(lambda x: pow(x, 2), list1))"
   ]
  },
  {
   "cell_type": "markdown",
   "id": "9a7990ee",
   "metadata": {},
   "source": [
    "**reduce()**<br>\n",
    "The reduce function, like map(), is used to apply an operation to every element in a sequence. However, it differs from the map in its working. These are the steps followed by the reduce() function to compute an output:\n",
    "\n",
    "Step 1) Perform the defined operation on the first 2 elements of the sequence.\n",
    "\n",
    "Step 2) Save this result\n",
    "\n",
    "Step 3) Perform the operation with the saved result and the next element in the sequence.\n",
    "\n",
    "Step 4) Repeat until no more elements are left.\n",
    "\n",
    "It also takes two parameters:\n",
    "\n",
    "A function that defines the operation to be performed<br>\n",
    "A sequence (any iterator like lists, tuples, etc.)<br>\n",
    "For example, here is a program that returns the product of all elements in a list:<br>"
   ]
  },
  {
   "cell_type": "code",
   "execution_count": 18,
   "id": "8879ec49",
   "metadata": {
    "ExecuteTime": {
     "end_time": "2023-06-26T17:35:41.794116Z",
     "start_time": "2023-06-26T17:35:41.786137Z"
    }
   },
   "outputs": [
    {
     "name": "stdout",
     "output_type": "stream",
     "text": [
      "120\n"
     ]
    }
   ],
   "source": [
    "from functools import reduce\n",
    "sequences = [1,2,3,4,5]\n",
    "product = reduce (lambda x, y: x*y, sequences)\n",
    "print(product)"
   ]
  },
  {
   "cell_type": "markdown",
   "id": "c7afaad0",
   "metadata": {},
   "source": [
    "**Code Explanation:**<br>\n",
    "1.Import reduce from the functools module.<br>\n",
    "2.Here, we define a list called sequences which contains some numbers.<br>\n",
    "3.We declare a variable called product which will store the reduced value<br>\n",
    "4.A lambda function that runs on each element of the list. It will return the product of that number as per the previous result.<br>\n",
    "5.Print the result returned by the reduce function.<br>"
   ]
  },
  {
   "cell_type": "markdown",
   "id": "4d451d0c",
   "metadata": {},
   "source": [
    "**Lambdas v/s Regular Functions**\n",
    "\n",
    "Syntax:\n",
    "\n",
    "lambda x : x + x\n",
    "\n",
    "Syntax:\n",
    "\n",
    "def (x) :\n",
    "return x + x \n",
    "\n",
    "Lambda functions can only have one expression in their body.\n",
    "\n",
    "Regular functions can have multiple expressions and statements in their body.\n",
    "\n",
    "Lambdas do not have a name associated with them. That’s why they are also known as anonymous functions.\n",
    "\n",
    "Regular functions must have a name and signature.\n",
    "\n",
    "Lambdas do not contain a return statement because the body is automatically returned.\n",
    "\n",
    "Functions which need to return value should include a return statement.\n",
    "\n",
    "**Explanation of the differences?**\n",
    "\n",
    "The primary difference between a lambda and a regular function is that the lambda function evaluates only a single expression and yields a function object. Consequently, we can name the result of the lambda function and use it in our program as we did in the previous example.\n",
    "\n",
    "A regular function for the above example would look like this:\n",
    "\n",
    "def adder (x, y):<br>\n",
    "return x + y <br>\n",
    "print (adder (1, 2))<br>\n",
    "Here, we have to define a name for the function which returns the result when we call it. A lambda function doesn’t contain a return statement because it will have only a single expression which is always returned by default. You don’t even have to assign a lambda either as it can be immediately invoked (see the next section). As you will see in the following example, lambdas become particularly powerful when we use them with Python’s built-in functions.<br>\n",
    "\n",
    "However, you may still be wondering how lambdas are any different from a function that returns a single expression (like the one above). At the interpreter level, there is not much difference. It may sound surprising, but any lambda function that you define in Python is treated as a normal function by the interpreter.<br>\n",
    "\n",
    "As you can see in the diagram, the two definitions are handled in the same way by the python interpreter when converted to bytecode. Now, you cannot name a function lambda because it is reserved by Python, but any other function name will yield the same bytecode[KR6]."
   ]
  },
  {
   "cell_type": "markdown",
   "id": "28e02e47",
   "metadata": {},
   "source": [
    "**Q.5. How does the concept of \"scope\" apply to functions in Python? Explain the difference between local\n",
    "scope and global scope.**\n",
    "\n",
    "**Answer:**\n",
    "The scope defines the accessibility of the python object. To access the particular variable in the code, the scope must be defined as it cannot be accessed from anywhere in the program. The particular coding region where variables are visible is known as scope. Variables are not visible to the entire code; their visibility can be restricted. Scope verifies which variable can be ‘Seen’. The scope defines the set of rules which tell us how and where a variable can be searched. The variable is searched either to retrieve a value or for assigning value. The namespace is the unique identification of the variable or the method. Namespace tells the python interpreter about the name of the object and the location from where it is trying to access it.\n",
    "\n",
    "The Namespaces are searched for scope resolution according to the LEGB rule. The LEGB stands for: L: Local, E: Enclosed, G: Global, B: Built-in. The sequence of LEGB is important. The variable is first searched in Local, followed by Enclosed, then global and finally built-in.\n",
    "\n",
    "Following are the top 4 types of scope in python:<br>\n",
    "1.Local Scope.<br>\n",
    "2.Enclosed Scope.<br>\n",
    "3.Global Scope.<br>\n",
    "4.Buil-in Scope.<br>\n",
    "\n",
    "**Difference between local scope and global scope:**\n",
    "\n",
    "Before discussing the Difference Between Local and Global Variable in Python, let's see what the scope of variable really is:\n",
    "\n",
    "**Scope of Variable:**<br>\n",
    "A variable's scope is basically the lifespan of that variable. It is the section of code to which a variable is alive. Depending on their scope, variables are divided into:\n",
    "\n",
    "**1.Global variables**<br>\n",
    "**2.Local variables**<br>\n",
    "Local variables can only be accessed within the function or module in which they are defined, in contrast to global variables, which can be used throughout the entire program.\n",
    "\n",
    "In Python, Global variable can be defined using global Keyword, also we can make changes to the variable in local context.\n",
    "\n",
    "\n",
    "|Comparision Basis| local scope | global scope |\n",
    "|-----------------|-------------|--------------|\n",
    "|1.Definition|1.Local variables are declared within the functions.|1.Global variables are declared outside the functions.|\n",
    "|2.Lifetime|2.Local variables are created when the function starts its execution and are lost when the function ends.|2.Global variables are created as execution of the program begins and are lost when the program is ended.|\n",
    "|3.Data Sharing|3.Local Variables doesn't offers Data Sharing.|3.Global Variables Offers Data Sharing.|\n",
    "|4.Scope|4.Accessible inside the function.|4.Accessible throughout the code.|\n",
    "|5.Storage|5.Local variables are kept on the stack.|5.Global variables are kept in a fixed location selected by the compiler.|\n",
    "|6.Parameter Passing|6.For local variables, parameter passing is necessary.|6.For global variables, parameter passing is not necessary.|\n",
    "\n",
    "**Notes for meself:**\n",
    "\n",
    "**How to declare a variable and how to access its scope:**\n",
    "\n",
    "**1. Local Scope:**\n",
    "The Variables which are defined in the function are a local scope of the variable. These variables are defined in the function body. Let’s understand this concept with the help of an example. In this example 1, we have taken one variable num. Num = 0 is defined outside the function, so it is not a local variable. As per our definition, the variables which are declared inside the function body is a local variable. Here num=1 is a local variable that is declared and printed inside the function demo. If we run this code, the output is given below.\n",
    "\n",
    "Example:"
   ]
  },
  {
   "cell_type": "code",
   "execution_count": 19,
   "id": "f183c184",
   "metadata": {
    "ExecuteTime": {
     "end_time": "2023-06-26T17:39:08.439049Z",
     "start_time": "2023-06-26T17:39:08.433065Z"
    }
   },
   "outputs": [
    {
     "name": "stdout",
     "output_type": "stream",
     "text": [
      "The Number is: 1\n"
     ]
    }
   ],
   "source": [
    "num=0\n",
    "def demo():\n",
    "    #print(num)\n",
    "    num=1\n",
    "    print(\"The Number is:\",num)\n",
    "demo()"
   ]
  },
  {
   "cell_type": "markdown",
   "id": "7da21904",
   "metadata": {},
   "source": [
    "Num is local to the function. When we use the num variable value in the function before declaring it locally, it raises an error.\n",
    "\n",
    "Refer to Example 2: Here first print statement **raises a python error** as we are trying to access it before the assignment."
   ]
  },
  {
   "cell_type": "code",
   "execution_count": 20,
   "id": "ca5a0c5c",
   "metadata": {
    "ExecuteTime": {
     "end_time": "2023-06-26T17:40:33.631750Z",
     "start_time": "2023-06-26T17:40:33.616751Z"
    }
   },
   "outputs": [
    {
     "ename": "UnboundLocalError",
     "evalue": "local variable 'num' referenced before assignment",
     "output_type": "error",
     "traceback": [
      "\u001b[1;31m---------------------------------------------------------------------------\u001b[0m",
      "\u001b[1;31mUnboundLocalError\u001b[0m                         Traceback (most recent call last)",
      "\u001b[1;32m<ipython-input-20-45ca2a1d547e>\u001b[0m in \u001b[0;36m<module>\u001b[1;34m\u001b[0m\n\u001b[0;32m      4\u001b[0m     \u001b[0mnum\u001b[0m\u001b[1;33m=\u001b[0m\u001b[1;36m1\u001b[0m\u001b[1;33m\u001b[0m\u001b[1;33m\u001b[0m\u001b[0m\n\u001b[0;32m      5\u001b[0m     \u001b[0mprint\u001b[0m\u001b[1;33m(\u001b[0m\u001b[1;34m\"The Number is:\"\u001b[0m\u001b[1;33m,\u001b[0m\u001b[0mnum\u001b[0m\u001b[1;33m)\u001b[0m\u001b[1;33m\u001b[0m\u001b[1;33m\u001b[0m\u001b[0m\n\u001b[1;32m----> 6\u001b[1;33m \u001b[0mdemo\u001b[0m\u001b[1;33m(\u001b[0m\u001b[1;33m)\u001b[0m\u001b[1;33m\u001b[0m\u001b[1;33m\u001b[0m\u001b[0m\n\u001b[0m",
      "\u001b[1;32m<ipython-input-20-45ca2a1d547e>\u001b[0m in \u001b[0;36mdemo\u001b[1;34m()\u001b[0m\n\u001b[0;32m      1\u001b[0m \u001b[0mnum\u001b[0m\u001b[1;33m=\u001b[0m\u001b[1;36m0\u001b[0m\u001b[1;33m\u001b[0m\u001b[1;33m\u001b[0m\u001b[0m\n\u001b[0;32m      2\u001b[0m \u001b[1;32mdef\u001b[0m \u001b[0mdemo\u001b[0m\u001b[1;33m(\u001b[0m\u001b[1;33m)\u001b[0m\u001b[1;33m:\u001b[0m\u001b[1;33m\u001b[0m\u001b[1;33m\u001b[0m\u001b[0m\n\u001b[1;32m----> 3\u001b[1;33m     \u001b[0mprint\u001b[0m\u001b[1;33m(\u001b[0m\u001b[0mnum\u001b[0m\u001b[1;33m)\u001b[0m\u001b[1;33m\u001b[0m\u001b[1;33m\u001b[0m\u001b[0m\n\u001b[0m\u001b[0;32m      4\u001b[0m     \u001b[0mnum\u001b[0m\u001b[1;33m=\u001b[0m\u001b[1;36m1\u001b[0m\u001b[1;33m\u001b[0m\u001b[1;33m\u001b[0m\u001b[0m\n\u001b[0;32m      5\u001b[0m     \u001b[0mprint\u001b[0m\u001b[1;33m(\u001b[0m\u001b[1;34m\"The Number is:\"\u001b[0m\u001b[1;33m,\u001b[0m\u001b[0mnum\u001b[0m\u001b[1;33m)\u001b[0m\u001b[1;33m\u001b[0m\u001b[1;33m\u001b[0m\u001b[0m\n",
      "\u001b[1;31mUnboundLocalError\u001b[0m: local variable 'num' referenced before assignment"
     ]
    }
   ],
   "source": [
    "num=0\n",
    "def demo():\n",
    "    print(num)\n",
    "    num=1\n",
    "    print(\"The Number is:\",num)\n",
    "demo()"
   ]
  },
  {
   "cell_type": "markdown",
   "id": "40861eea",
   "metadata": {},
   "source": [
    "**2. Global Scope:**\n",
    "The Variable which can be read from anywhere in the program is known as a global scope. These variables can be accessed inside and outside the function. When we want to use the same variable in the rest of the program, we declare it as global.\n",
    "\n",
    "In the following Example 1, we have declared a variable Str, which is outside the function. The function demo is called, and it prints the value of variable Str. To use a global variable inside a function, there is no need to use the global keyword.<br>\n",
    "Example:"
   ]
  },
  {
   "cell_type": "code",
   "execution_count": 21,
   "id": "d3fc0f7c",
   "metadata": {
    "ExecuteTime": {
     "end_time": "2023-06-26T17:42:05.689910Z",
     "start_time": "2023-06-26T17:42:05.671960Z"
    }
   },
   "outputs": [
    {
     "name": "stdout",
     "output_type": "stream",
     "text": [
      "You are clever\n"
     ]
    }
   ],
   "source": [
    "def demo():\n",
    "    print(Str)\n",
    "# Global  \n",
    "Str = \"You are clever\"\n",
    "demo()"
   ]
  },
  {
   "cell_type": "markdown",
   "id": "96ad970e",
   "metadata": {},
   "source": [
    "In the Following Example, 2, We tried to change the value of the global variable Str inside the function; that’s why it raised an exception. If we modify or assign a new value to the variable inside the function, then we must write global. If you want to tell a python interpreter that you want to want to use a global variable, then the keyword “global” is used. If it has not been declared as global, then python treats that variable as local if it is created or modified inside the function. In this first line throws an exception because python assumes that we want assignment as a local variable due to assignment to str inside of function demo()."
   ]
  },
  {
   "cell_type": "code",
   "execution_count": 22,
   "id": "a43edea1",
   "metadata": {
    "ExecuteTime": {
     "end_time": "2023-06-26T17:42:58.704277Z",
     "start_time": "2023-06-26T17:42:58.687324Z"
    }
   },
   "outputs": [
    {
     "ename": "UnboundLocalError",
     "evalue": "local variable 'Str' referenced before assignment",
     "output_type": "error",
     "traceback": [
      "\u001b[1;31m---------------------------------------------------------------------------\u001b[0m",
      "\u001b[1;31mUnboundLocalError\u001b[0m                         Traceback (most recent call last)",
      "\u001b[1;32m<ipython-input-22-fcf3f33bd917>\u001b[0m in \u001b[0;36m<module>\u001b[1;34m\u001b[0m\n\u001b[0;32m      5\u001b[0m \u001b[1;31m# Global scope\u001b[0m\u001b[1;33m\u001b[0m\u001b[1;33m\u001b[0m\u001b[1;33m\u001b[0m\u001b[0m\n\u001b[0;32m      6\u001b[0m \u001b[0mStr\u001b[0m \u001b[1;33m=\u001b[0m \u001b[1;34m\"You are Clever\"\u001b[0m\u001b[1;33m\u001b[0m\u001b[1;33m\u001b[0m\u001b[0m\n\u001b[1;32m----> 7\u001b[1;33m \u001b[0mdemo\u001b[0m\u001b[1;33m(\u001b[0m\u001b[1;33m)\u001b[0m\u001b[1;33m\u001b[0m\u001b[1;33m\u001b[0m\u001b[0m\n\u001b[0m\u001b[0;32m      8\u001b[0m \u001b[0mprint\u001b[0m\u001b[1;33m(\u001b[0m\u001b[0mStr\u001b[0m\u001b[1;33m)\u001b[0m\u001b[1;33m\u001b[0m\u001b[1;33m\u001b[0m\u001b[0m\n",
      "\u001b[1;32m<ipython-input-22-fcf3f33bd917>\u001b[0m in \u001b[0;36mdemo\u001b[1;34m()\u001b[0m\n\u001b[0;32m      1\u001b[0m \u001b[1;32mdef\u001b[0m \u001b[0mdemo\u001b[0m\u001b[1;33m(\u001b[0m\u001b[1;33m)\u001b[0m\u001b[1;33m:\u001b[0m\u001b[1;33m\u001b[0m\u001b[1;33m\u001b[0m\u001b[0m\n\u001b[1;32m----> 2\u001b[1;33m     \u001b[0mprint\u001b[0m\u001b[1;33m(\u001b[0m\u001b[0mStr\u001b[0m\u001b[1;33m)\u001b[0m\u001b[1;33m\u001b[0m\u001b[1;33m\u001b[0m\u001b[0m\n\u001b[0m\u001b[0;32m      3\u001b[0m     \u001b[0mStr\u001b[0m \u001b[1;33m=\u001b[0m \u001b[1;34m\"You are smart\"\u001b[0m\u001b[1;33m\u001b[0m\u001b[1;33m\u001b[0m\u001b[0m\n\u001b[0;32m      4\u001b[0m     \u001b[0mprint\u001b[0m\u001b[1;33m(\u001b[0m\u001b[0mStr\u001b[0m\u001b[1;33m)\u001b[0m\u001b[1;33m\u001b[0m\u001b[1;33m\u001b[0m\u001b[0m\n\u001b[0;32m      5\u001b[0m \u001b[1;31m# Global scope\u001b[0m\u001b[1;33m\u001b[0m\u001b[1;33m\u001b[0m\u001b[1;33m\u001b[0m\u001b[0m\n",
      "\u001b[1;31mUnboundLocalError\u001b[0m: local variable 'Str' referenced before assignment"
     ]
    }
   ],
   "source": [
    "def demo():  \n",
    "    print(Str) \n",
    "    Str = \"You are smart\"\n",
    "    print(Str) \n",
    "# Global scope \n",
    "Str = \"You are Clever\" \n",
    "demo() \n",
    "print(Str) "
   ]
  },
  {
   "cell_type": "markdown",
   "id": "80589dd5",
   "metadata": {},
   "source": [
    "When we want to change the value of the global variable inside the function global keyword is used.<br>\n",
    "The following Example 3 solved the problem which is encountered above:"
   ]
  },
  {
   "cell_type": "code",
   "execution_count": 24,
   "id": "a813a96d",
   "metadata": {
    "ExecuteTime": {
     "end_time": "2023-06-26T17:44:02.560316Z",
     "start_time": "2023-06-26T17:44:02.544358Z"
    }
   },
   "outputs": [
    {
     "name": "stdout",
     "output_type": "stream",
     "text": [
      "You are smart\n",
      "You are Clever\n"
     ]
    }
   ],
   "source": [
    "def demo():  \n",
    "     \n",
    "    Str = \"You are smart\"\n",
    "    print(Str) \n",
    "# Global scope \n",
    "Str = \"You are Clever\" \n",
    "demo() \n",
    "print(Str) "
   ]
  },
  {
   "cell_type": "markdown",
   "id": "024907ef",
   "metadata": {},
   "source": [
    "**3.NonLocal or Enclosing Scope:**\n",
    "Nonlocal Variable is the variable that is defined in the nested function. It means the variable can be neither in the local scope nor in the global scope. To create a nonlocal variable nonlocal keyword is used.  In the following code, we created an outer function, and there is a nested function inner(). In the scope of outer() function inner() function is defined. If we change the nonlocal variable as defined in the inner() function, then changes are reflected in the outer function.<br>\n",
    "Example:"
   ]
  },
  {
   "cell_type": "code",
   "execution_count": 25,
   "id": "2ba48572",
   "metadata": {
    "ExecuteTime": {
     "end_time": "2023-06-26T17:44:55.810599Z",
     "start_time": "2023-06-26T17:44:55.802621Z"
    }
   },
   "outputs": [
    {
     "name": "stdout",
     "output_type": "stream",
     "text": [
      "inner: nonlocal\n",
      "outer: nonlocal\n"
     ]
    }
   ],
   "source": [
    "def func_outer():\n",
    "    x = \"local\"\n",
    "    def func_inner():\n",
    "        nonlocal x\n",
    "        x = \"nonlocal\"\n",
    "        print(\"inner:\", x)\n",
    "    func_inner()\n",
    "    print(\"outer:\", x)\n",
    "func_outer()"
   ]
  },
  {
   "cell_type": "markdown",
   "id": "7ddeeb2a",
   "metadata": {},
   "source": [
    "If we just want to use the outer function’s value and do not want to make any changes, then comment (nonlocal a) line.<br>\n",
    "Example:<br>"
   ]
  },
  {
   "cell_type": "code",
   "execution_count": 26,
   "id": "7543dba6",
   "metadata": {
    "ExecuteTime": {
     "end_time": "2023-06-26T17:46:04.712670Z",
     "start_time": "2023-06-26T17:46:04.695716Z"
    }
   },
   "outputs": [
    {
     "name": "stdout",
     "output_type": "stream",
     "text": [
      "inner: nonlocal\n",
      "outer: local\n"
     ]
    }
   ],
   "source": [
    "def func_outer():\n",
    "    a = \"local\"\n",
    "    def func_inner():\n",
    "        #nonlocal a\n",
    "        a = \"nonlocal\"\n",
    "        print(\"inner:\", a)\n",
    "    func_inner()\n",
    "    print(\"outer:\", a)\n",
    "func_outer()"
   ]
  },
  {
   "cell_type": "markdown",
   "id": "6700ea2b",
   "metadata": {},
   "source": [
    "**4. Built-in Scope:**\n",
    "If a Variable is not defined in local, Enclosed or global scope, then python looks for it in the built-in scope. In the Following Example, 1 from math module pi is imported, and the value of pi is not defined in global, local and enclosed. Python then looks for the pi value in the built-in scope and prints the value. Hence the name which is already present in the built-in scope should not be used as an identifier.<br>\n",
    "Example:"
   ]
  },
  {
   "cell_type": "code",
   "execution_count": 27,
   "id": "b0a6a3d8",
   "metadata": {
    "ExecuteTime": {
     "end_time": "2023-06-26T17:47:09.342869Z",
     "start_time": "2023-06-26T17:47:09.338921Z"
    }
   },
   "outputs": [
    {
     "name": "stdout",
     "output_type": "stream",
     "text": [
      "3.141592653589793\n"
     ]
    }
   ],
   "source": [
    "# Built-in Scope \n",
    "from math import pi \n",
    "# pi = 'Not defined in global pi'\n",
    "def func_outer(): \n",
    "    # pi = 'Not defined in outer pi' \n",
    "    def inner(): \n",
    "        # pi = 'not defined in inner pi' \n",
    "        print(pi) \n",
    "    inner() \n",
    "func_outer()"
   ]
  },
  {
   "cell_type": "markdown",
   "id": "291917fd",
   "metadata": {},
   "source": [
    "**Q.6. How can you use the \"return\" statement in a Python function to return multiple values?**\n",
    "\n",
    "**Answer:**"
   ]
  },
  {
   "cell_type": "code",
   "execution_count": 28,
   "id": "72f4a9cc",
   "metadata": {
    "ExecuteTime": {
     "end_time": "2023-06-26T17:48:19.552859Z",
     "start_time": "2023-06-26T17:48:19.545876Z"
    }
   },
   "outputs": [
    {
     "name": "stdout",
     "output_type": "stream",
     "text": [
      "1\n",
      "2\n",
      "3\n"
     ]
    }
   ],
   "source": [
    "def myfun():\n",
    "    return 1, 2, 3\n",
    "a, b, c = myfun()\n",
    "print(a)\n",
    "print(b)\n",
    "print(c)"
   ]
  },
  {
   "cell_type": "code",
   "execution_count": 29,
   "id": "53bbb0fe",
   "metadata": {
    "ExecuteTime": {
     "end_time": "2023-06-26T17:48:42.125359Z",
     "start_time": "2023-06-26T17:48:42.106455Z"
    }
   },
   "outputs": [
    {
     "name": "stdout",
     "output_type": "stream",
     "text": [
      "Leona\n",
      "35\n",
      "UK\n"
     ]
    }
   ],
   "source": [
    "def getPerson():\n",
    "    name = \"Leona\"\n",
    "    age = 35\n",
    "    country = \"UK\"\n",
    "    return name,age,country\n",
    "\n",
    "name,age,country = getPerson()\n",
    "print(name)\n",
    "print(age)\n",
    "print(country)"
   ]
  },
  {
   "cell_type": "markdown",
   "id": "eb611f46",
   "metadata": {},
   "source": [
    "**Q.7. What is the difference between the \"pass by value\" and \"pass by reference\" concepts when it\n",
    "comes to function arguments in Python?**\n",
    "\n",
    "**Answer:**"
   ]
  },
  {
   "cell_type": "markdown",
   "id": "c47dd1fa",
   "metadata": {},
   "source": [
    "So, Here let me clear out one thing in the starting itself. Python’s argument passing model is neither **“Pass by Value”** nor **“Pass by Reference”** but it is **“Pass by Object Reference”.** But before we dive into the above fact, let me go through the basic concept of these terms.\n",
    "\n",
    "**What is Pass by Reference?**<br>\n",
    "•\t**Pass means** to provide an argument to a function.<br>\n",
    "•\t**By reference means** that the argument you’re passing to the function is a reference to a variable that already exists in memory rather than an independent copy of that variable.<br>\n",
    "\n",
    "**Result:** All operations performed on this reference will directly affect the variable to which it refers.\n",
    "\n",
    "**Pass by Value:**<br>\n",
    "On the other hand, when you pass arguments by value, those arguments become independent copies of the original values.\n",
    "Let me rephrase it in a detailed manner. In pass-by-value, the function is provided with a copy of the argument object passed to it by the caller. That means the original object stays intact and all changes made are to a copy of the same and stored at different memory locations.\n",
    "\n",
    "**What’s Pass Object by Reference?**\n",
    "The functions in Python receive the reference of the same object in the memory as referred by the caller. However, the function does not receive the variable (the bucket) that the caller is storing the same object in; like in pass-by-value, the function provides its own bucket and creates an entirely new variable for itself.\n",
    "\n",
    "**Too complicated to understand? No worries! Let me explain in layman terms!**<br>\n",
    "1.In Python, variables are not passed by reference or by value.<br>\n",
    "2.Instead, the name (aka object reference) is passed if the underlying object is mutable, then modifications to the object will persist.<br>\n",
    "3.If the underlying object is immutable, then changes to the variable do not persist<br>"
   ]
  },
  {
   "cell_type": "markdown",
   "id": "b9c34790",
   "metadata": {},
   "source": [
    "**Python pass by reference example:**<br>\n",
    "When we pass something by reference any change we make to the variable inside the function then those changes are reflected to the outside value as well."
   ]
  },
  {
   "cell_type": "code",
   "execution_count": 1,
   "id": "6ca4dd64",
   "metadata": {
    "ExecuteTime": {
     "end_time": "2023-06-28T16:36:16.893585Z",
     "start_time": "2023-06-28T16:36:16.804595Z"
    }
   },
   "outputs": [
    {
     "name": "stdout",
     "output_type": "stream",
     "text": [
      "Inside the function {'Jim': 12, 'Anna': 14, 'Preet': 10, 'Sam': 20, 'Steve': 21}\n",
      "Outside the function: {'Jim': 12, 'Anna': 14, 'Preet': 10, 'Sam': 20, 'Steve': 21}\n"
     ]
    }
   ],
   "source": [
    "student = {'Jim': 12, 'Anna': 14, 'Preet': 10}\n",
    "def test(student):\n",
    "    new = {'Sam':20, 'Steve':21}\n",
    "    student.update(new)\n",
    "    print(\"Inside the function\", student)\n",
    "    return \n",
    "test(student)\n",
    "print(\"Outside the function:\", student)"
   ]
  },
  {
   "cell_type": "markdown",
   "id": "495427fe",
   "metadata": {},
   "source": [
    "After writing the above code, Once you will print “student” then the output will appear. Here, we created a dictionary called student, and test(student) is the function. Then two more students joined so we created the variable as “new” and the student.update(new) is used to update the dictionary, also the print will display the output."
   ]
  },
  {
   "cell_type": "markdown",
   "id": "ac33d103",
   "metadata": {},
   "source": [
    "**Python pass by value example:**\n",
    "When we pass something by value then the changes made to the function or copying of the variable are not reflected back to the calling function."
   ]
  },
  {
   "cell_type": "code",
   "execution_count": 2,
   "id": "471fb97a",
   "metadata": {
    "ExecuteTime": {
     "end_time": "2023-06-28T16:39:51.258782Z",
     "start_time": "2023-06-28T16:39:51.240629Z"
    }
   },
   "outputs": [
    {
     "name": "stdout",
     "output_type": "stream",
     "text": [
      "Inside the function {'Sam': 20, 'Steve': 21}\n",
      "Outside the function: {'Jim': 12, 'Anna': 14, 'Preet': 10}\n"
     ]
    }
   ],
   "source": [
    "student = {'Jim': 12, 'Anna': 14, 'Preet': 10}\n",
    "def test(student):\n",
    "    student = {'Sam':20, 'Steve':21}\n",
    "    print(\"Inside the function\", student)\n",
    "    return \n",
    "test(student)\n",
    "print(\"Outside the function:\", student)"
   ]
  },
  {
   "cell_type": "markdown",
   "id": "1995a1bb",
   "metadata": {},
   "source": [
    "After writing the above code, Once you will print “student” then the output will appear. Here, we created a dictionary called student, and test(student) is the function. Then two more students joined so we created the variable as “new” and the print will display the output. We can see that the inside and outside function remains the same."
   ]
  },
  {
   "cell_type": "markdown",
   "id": "90b8530b",
   "metadata": {},
   "source": [
    "**Q.8. Create a function that can intake integer or decimal value and do following operations:**<br>\n",
    "**a. Logarithmic function (log x)**<br>\n",
    "**b. Exponential function (exp(x))**<br>\n",
    "**c. Power function with base 2 (2^x)**<br>\n",
    "**d. Square root**<br>\n",
    "\n",
    "**Answer:**"
   ]
  },
  {
   "cell_type": "code",
   "execution_count": 1,
   "id": "232aee11",
   "metadata": {
    "ExecuteTime": {
     "end_time": "2023-06-29T07:41:45.331290Z",
     "start_time": "2023-06-29T07:41:40.423974Z"
    }
   },
   "outputs": [
    {
     "name": "stdout",
     "output_type": "stream",
     "text": [
      "Enter the value: 5\n",
      "Log value:  1.6094379124341003\n"
     ]
    }
   ],
   "source": [
    "# Logarithmic function(log x)\n",
    "import math\n",
    "x = int(input(\"Enter the value: \"))\n",
    "print(\"Log value: \",math.log(x))"
   ]
  },
  {
   "cell_type": "code",
   "execution_count": 4,
   "id": "9e5786f1",
   "metadata": {
    "ExecuteTime": {
     "end_time": "2023-06-29T07:54:19.095071Z",
     "start_time": "2023-06-29T07:54:12.377540Z"
    }
   },
   "outputs": [
    {
     "name": "stdout",
     "output_type": "stream",
     "text": [
      "Enter the int value: 2\n",
      "Enter the float value: 2.5\n",
      "Exponential int value:  7.38905609893065\n",
      "Exponential float value:  12.182493960703473\n"
     ]
    }
   ],
   "source": [
    "# Exponential function (exp(x))\n",
    "import math\n",
    "x = int(input(\"Enter the int value: \"))\n",
    "y = float(input(\"Enter the float value: \"))\n",
    "print(\"Exponential int value: \",math.exp(x))\n",
    "print(\"Exponential float value: \",math.exp(y))"
   ]
  },
  {
   "cell_type": "code",
   "execution_count": null,
   "id": "02980800",
   "metadata": {},
   "outputs": [],
   "source": [
    "# Power function with base 2 (2^x)"
   ]
  },
  {
   "cell_type": "code",
   "execution_count": 1,
   "id": "b5ef366b",
   "metadata": {
    "ExecuteTime": {
     "end_time": "2023-06-29T14:14:43.886674Z",
     "start_time": "2023-06-29T14:14:43.860767Z"
    }
   },
   "outputs": [
    {
     "name": "stdout",
     "output_type": "stream",
     "text": [
      "4.0\n"
     ]
    }
   ],
   "source": [
    "import math\n",
    "base = 2\n",
    "power = 2\n",
    "print(math.pow(base,power))"
   ]
  },
  {
   "cell_type": "code",
   "execution_count": 2,
   "id": "eceac9f4",
   "metadata": {
    "ExecuteTime": {
     "end_time": "2023-06-29T14:15:06.803286Z",
     "start_time": "2023-06-29T14:15:06.791927Z"
    }
   },
   "outputs": [
    {
     "name": "stdout",
     "output_type": "stream",
     "text": [
      "4\n"
     ]
    }
   ],
   "source": [
    "import numpy as np\n",
    "base = 2\n",
    "power = 2\n",
    "print(np.power(base,power))"
   ]
  },
  {
   "cell_type": "code",
   "execution_count": 5,
   "id": "c6c2dcfa",
   "metadata": {
    "ExecuteTime": {
     "end_time": "2023-06-29T14:18:21.348188Z",
     "start_time": "2023-06-29T14:18:21.335497Z"
    }
   },
   "outputs": [
    {
     "name": "stdout",
     "output_type": "stream",
     "text": [
      "2 raised to the power of -4 gives 0.0625\n"
     ]
    }
   ],
   "source": [
    "base = 2\n",
    "power = -4\n",
    "result = pow(base,power)\n",
    "print(base,\"raised to the power of\",power,\"gives\",result)"
   ]
  },
  {
   "cell_type": "markdown",
   "id": "03b48b73",
   "metadata": {},
   "source": [
    "**Q.9. Create a function that takes a full name as an argument and returns first name and last name.**\n",
    "\n",
    "**Answer:**"
   ]
  },
  {
   "cell_type": "code",
   "execution_count": 11,
   "id": "fcccc433",
   "metadata": {
    "ExecuteTime": {
     "end_time": "2023-06-30T08:01:14.033886Z",
     "start_time": "2023-06-30T08:01:14.018220Z"
    }
   },
   "outputs": [
    {
     "name": "stdout",
     "output_type": "stream",
     "text": [
      "Shivsagar Chavan\n"
     ]
    }
   ],
   "source": [
    "def info(phrase):\n",
    "    print(phrase)\n",
    "    \n",
    "info(\"Shivsagar Chavan\")"
   ]
  },
  {
   "cell_type": "code",
   "execution_count": 17,
   "id": "261a3f93",
   "metadata": {
    "ExecuteTime": {
     "end_time": "2023-06-30T09:01:04.208309Z",
     "start_time": "2023-06-30T09:01:04.188363Z"
    }
   },
   "outputs": [
    {
     "name": "stdout",
     "output_type": "stream",
     "text": [
      "first Name:  Shivsagar\n",
      "last name:  Chavan\n"
     ]
    }
   ],
   "source": [
    "full_name = \"Shivsagar Chavan\"\n",
    "names = full_name.split()\n",
    "\n",
    "if len(names)==2:\n",
    "    first_name = names[0]\n",
    "    last_name = names[1]\n",
    "    print(\"first Name: \",first_name)\n",
    "    print(\"last name: \",last_name)\n",
    "else:\n",
    "    print(\"Invalis name\")"
   ]
  },
  {
   "cell_type": "code",
   "execution_count": 16,
   "id": "71b462e3",
   "metadata": {
    "ExecuteTime": {
     "end_time": "2023-06-30T08:42:47.576364Z",
     "start_time": "2023-06-30T08:42:47.551568Z"
    }
   },
   "outputs": [
    {
     "name": "stdout",
     "output_type": "stream",
     "text": [
      "('Shivsagar', 'Chavan')\n"
     ]
    }
   ],
   "source": [
    "def split_full_name(full_name):\n",
    "    names = full_name.split()\n",
    "    first_name = names[0]\n",
    "    last_name = names[-1]\n",
    "    return first_name, last_name\n",
    "full_name = \"Shivsagar Chavan\"\n",
    "result = split_full_name(full_name)\n",
    "print(result)"
   ]
  },
  {
   "cell_type": "code",
   "execution_count": 14,
   "id": "87d903c0",
   "metadata": {
    "ExecuteTime": {
     "end_time": "2023-06-30T08:36:00.453588Z",
     "start_time": "2023-06-30T08:36:00.424693Z"
    }
   },
   "outputs": [
    {
     "name": "stdout",
     "output_type": "stream",
     "text": [
      "First name: Shivsagar, Last name: Chavan\n",
      "First name: Shivsagar, Last name: Chavan\n",
      "First name: Shivsagar, Last name: \n"
     ]
    }
   ],
   "source": [
    "def get_first_last_name(full_name):\n",
    "    # Split the full name into first and last names\n",
    "    names = full_name.split()\n",
    "    \n",
    "    # If there are at least two names, assume the first is the first name and the last is the last name\n",
    "    if len(names) >= 2:\n",
    "        first_name = names[0]\n",
    "        last_name = names[-1]\n",
    "    else:\n",
    "        # If there's only one name, assume it's the first name and leave last_name empty\n",
    "        first_name = full_name\n",
    "        last_name = \"\"\n",
    "    \n",
    "    return first_name, last_name\n",
    "\n",
    "# Test the function\n",
    "full_name1 = \"Shivsagar Chavan\"\n",
    "full_name2 = \"Shivsagar Sanjay Chavan\"\n",
    "full_name3 = \"Shivsagar\"\n",
    "first_name1, last_name1 = get_first_last_name(full_name1)\n",
    "first_name2, last_name2 = get_first_last_name(full_name2)\n",
    "first_name3, last_name3 = get_first_last_name(full_name3)\n",
    "\n",
    "print(f\"First name: {first_name1}, Last name: {last_name1}\")\n",
    "print(f\"First name: {first_name2}, Last name: {last_name2}\")\n",
    "print(f\"First name: {first_name3}, Last name: {last_name3}\")\n"
   ]
  }
 ],
 "metadata": {
  "hide_input": false,
  "kernelspec": {
   "display_name": "Python 3",
   "language": "python",
   "name": "python3"
  },
  "language_info": {
   "codemirror_mode": {
    "name": "ipython",
    "version": 3
   },
   "file_extension": ".py",
   "mimetype": "text/x-python",
   "name": "python",
   "nbconvert_exporter": "python",
   "pygments_lexer": "ipython3",
   "version": "3.8.5"
  },
  "latex_envs": {
   "LaTeX_envs_menu_present": true,
   "autoclose": false,
   "autocomplete": true,
   "bibliofile": "biblio.bib",
   "cite_by": "apalike",
   "current_citInitial": 1,
   "eqLabelWithNumbers": true,
   "eqNumInitial": 1,
   "hotkeys": {
    "equation": "Ctrl-E",
    "itemize": "Ctrl-I"
   },
   "labels_anchors": false,
   "latex_user_defs": false,
   "report_style_numbering": false,
   "user_envs_cfg": false
  },
  "nbTranslate": {
   "displayLangs": [
    "*"
   ],
   "hotkey": "alt-t",
   "langInMainMenu": true,
   "sourceLang": "en",
   "targetLang": "fr",
   "useGoogleTranslate": true
  },
  "varInspector": {
   "cols": {
    "lenName": 16,
    "lenType": 16,
    "lenVar": 40
   },
   "kernels_config": {
    "python": {
     "delete_cmd_postfix": "",
     "delete_cmd_prefix": "del ",
     "library": "var_list.py",
     "varRefreshCmd": "print(var_dic_list())"
    },
    "r": {
     "delete_cmd_postfix": ") ",
     "delete_cmd_prefix": "rm(",
     "library": "var_list.r",
     "varRefreshCmd": "cat(var_dic_list()) "
    }
   },
   "types_to_exclude": [
    "module",
    "function",
    "builtin_function_or_method",
    "instance",
    "_Feature"
   ],
   "window_display": false
  }
 },
 "nbformat": 4,
 "nbformat_minor": 5
}
