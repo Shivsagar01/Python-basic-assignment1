{
 "cells": [
  {
   "cell_type": "markdown",
   "id": "efc0e823",
   "metadata": {},
   "source": [
    "# Assignment 10"
   ]
  },
  {
   "cell_type": "markdown",
   "id": "f7f0df38",
   "metadata": {},
   "source": [
    "**Q.1.What is the role of try and exception block?**\n",
    "\n",
    "**Answer:**<br>\n",
    "The try and except block, also known as the try-catch block in some programming languages, is a mechanism used for exception handling in code. It allows you to write code that can handle potential errors or exceptions that may occur during the execution of a program.\n",
    "The basic structure of a try-except block is as follows:"
   ]
  },
  {
   "cell_type": "code",
   "execution_count": null,
   "id": "2c953d56",
   "metadata": {},
   "outputs": [],
   "source": [
    "try:\n",
    "    # code that may cause exception\n",
    "except:\n",
    "    # code to run when exception occurs"
   ]
  },
  {
   "cell_type": "markdown",
   "id": "ea74263e",
   "metadata": {},
   "source": [
    "**Here's how it works:**<br>\n",
    "1.The code within the try block is executed.<br>\n",
    "2.If an exception occurs during the execution of the try block, the code is immediately interrupted, and the program flow jumps to the corresponding except block.<br>\n",
    "3.The except block specifies the type of exception it can handle. If the exception type matches the raised exception, the code within the except block is executed to handle the exception.<br>\n",
    "4.After the execution of the except block, the program continues with the code that follows the try-except block.<br>\n",
    "\n",
    "The try-except block provides a way to gracefully handle exceptions and prevent the program from crashing. It allows you to catch and handle specific types of exceptions, perform error logging, display meaningful error messages to users, or take alternative actions to recover from exceptional situations. It helps in making the code more robust and fault-tolerant.<br>\n",
    "\n",
    "**Example: Exception Handling Using try...except**"
   ]
  },
  {
   "cell_type": "code",
   "execution_count": 1,
   "id": "9163371c",
   "metadata": {
    "ExecuteTime": {
     "end_time": "2023-07-03T14:29:54.376212Z",
     "start_time": "2023-07-03T14:29:54.060890Z"
    }
   },
   "outputs": [
    {
     "name": "stdout",
     "output_type": "stream",
     "text": [
      "Error: Denominator cannot be 0.\n"
     ]
    }
   ],
   "source": [
    "try:\n",
    "    numerator = 10\n",
    "    denominator = 0\n",
    "\n",
    "    result = numerator/denominator\n",
    "\n",
    "    print(result)\n",
    "except:\n",
    "    print(\"Error: Denominator cannot be 0.\")"
   ]
  },
  {
   "cell_type": "markdown",
   "id": "9f1ef3ea",
   "metadata": {},
   "source": [
    "**Explanation:**\n",
    "In above example, we are trying to divide a number by **0**. Here, this code generates an exception.\n",
    "\n",
    "To handle the exception, we have put the code, **result = numerator/denominator** inside the **try** block. Now when an exception occurs, the rest of the code inside the **try** block is skipped.\n",
    "\n",
    "The **except** block catches the exception and statements inside the **except** block are executed."
   ]
  },
  {
   "cell_type": "markdown",
   "id": "cb35bf0b",
   "metadata": {},
   "source": [
    "**-----------------------------------------------------------------------------------------------------------------------------------------------------------------------------------------------------------------**"
   ]
  },
  {
   "cell_type": "markdown",
   "id": "b3ab70bf",
   "metadata": {},
   "source": [
    "**Q.2. What is the syntax for a basic try-except block?**\n",
    "\n",
    "**Answer:**<br>\n",
    "The **try...except** block is used to handle exceptions in Python. Here's the syntax of try...except block:"
   ]
  },
  {
   "cell_type": "code",
   "execution_count": null,
   "id": "5922e5a1",
   "metadata": {},
   "outputs": [],
   "source": [
    "try:\n",
    "    # code that may cause exception\n",
    "except:\n",
    "    # code to run when exception occurs"
   ]
  },
  {
   "cell_type": "markdown",
   "id": "3fc5d355",
   "metadata": {},
   "source": [
    "Here, we have placed the code that might generate an exception inside the **try block**. Every **try block** is followed by an **except block**.  When an exception occurs, it is caught by the **except block**. The **except block** cannot be used without the try block."
   ]
  },
  {
   "cell_type": "markdown",
   "id": "f1ac63a7",
   "metadata": {},
   "source": [
    "**-----------------------------------------------------------------------------------------------------------------------------------------------------------------------------------------------------------------**"
   ]
  },
  {
   "cell_type": "markdown",
   "id": "e661cd88",
   "metadata": {},
   "source": [
    "**Q.3.What happens if an exception occurs inside a try block and there is no matching\n",
    "except block?**\n",
    "\n",
    "**Answer:**<br>\n",
    "If an exception occurs inside a try block and there is no matching except block to handle that specific exception type, the exception will propagate upwards through the call stack until it is caught by an appropriate except block or until it reaches the top-level of the program.\n",
    "\n",
    "If no matching except block is found, the program will terminate abruptly, and an error message called a **\"stack trace\"** will be displayed, indicating the type of exception, the line number where the exception occurred, and the sequence of function calls leading to the exception.\n",
    "\n",
    "Here's an example to demonstrate this behavior:"
   ]
  },
  {
   "cell_type": "code",
   "execution_count": 2,
   "id": "d4b696db",
   "metadata": {
    "ExecuteTime": {
     "end_time": "2023-07-03T14:45:05.654688Z",
     "start_time": "2023-07-03T14:45:02.501680Z"
    }
   },
   "outputs": [
    {
     "ename": "ZeroDivisionError",
     "evalue": "division by zero",
     "output_type": "error",
     "traceback": [
      "\u001b[1;31m---------------------------------------------------------------------------\u001b[0m",
      "\u001b[1;31mZeroDivisionError\u001b[0m                         Traceback (most recent call last)",
      "\u001b[1;32m<ipython-input-2-3163ed45c76d>\u001b[0m in \u001b[0;36m<module>\u001b[1;34m\u001b[0m\n\u001b[0;32m      2\u001b[0m     \u001b[0mnum1\u001b[0m \u001b[1;33m=\u001b[0m \u001b[1;36m10\u001b[0m\u001b[1;33m\u001b[0m\u001b[1;33m\u001b[0m\u001b[0m\n\u001b[0;32m      3\u001b[0m     \u001b[0mnum2\u001b[0m \u001b[1;33m=\u001b[0m \u001b[1;36m0\u001b[0m\u001b[1;33m\u001b[0m\u001b[1;33m\u001b[0m\u001b[0m\n\u001b[1;32m----> 4\u001b[1;33m     \u001b[0mresult\u001b[0m \u001b[1;33m=\u001b[0m \u001b[0mnum1\u001b[0m \u001b[1;33m/\u001b[0m \u001b[0mnum2\u001b[0m  \u001b[1;31m# Division by zero will raise a ZeroDivisionError\u001b[0m\u001b[1;33m\u001b[0m\u001b[1;33m\u001b[0m\u001b[0m\n\u001b[0m\u001b[0;32m      5\u001b[0m \u001b[1;32mexcept\u001b[0m \u001b[0mValueError\u001b[0m\u001b[1;33m:\u001b[0m\u001b[1;33m\u001b[0m\u001b[1;33m\u001b[0m\u001b[0m\n\u001b[0;32m      6\u001b[0m     \u001b[0mprint\u001b[0m\u001b[1;33m(\u001b[0m\u001b[1;34m\"Caught ValueError\"\u001b[0m\u001b[1;33m)\u001b[0m\u001b[1;33m\u001b[0m\u001b[1;33m\u001b[0m\u001b[0m\n",
      "\u001b[1;31mZeroDivisionError\u001b[0m: division by zero"
     ]
    }
   ],
   "source": [
    "try:\n",
    "    num1 = 10\n",
    "    num2 = 0\n",
    "    result = num1 / num2  # Division by zero will raise a ZeroDivisionError\n",
    "except ValueError:\n",
    "    print(\"Caught ValueError\")"
   ]
  },
  {
   "cell_type": "markdown",
   "id": "b68b9dff",
   "metadata": {},
   "source": [
    "In this example, we attempt to divide **num1** by **num2**, which results in a **ZeroDivisionError** because we are dividing by zero. However, **the except block only handles ValueError, not ZeroDivisionError**. Therefore, the exception will not be caught by the except block.<br>\n",
    "The stack trace indicates that the **exception occurred on line 4 of the code**, where the division by zero operation was attempted. Since there is no except block to handle ZeroDivisionError, the exception propagates up the call stack and terminates the program."
   ]
  },
  {
   "cell_type": "markdown",
   "id": "0ab0c625",
   "metadata": {},
   "source": [
    "**-----------------------------------------------------------------------------------------------------------------------------------------------------------------------------------------------------------------**"
   ]
  },
  {
   "cell_type": "markdown",
   "id": "b3312b4a",
   "metadata": {},
   "source": [
    "**Q.4. What is the difference between using a bare except block and specifying a specific\n",
    "exception type?**\n",
    "\n",
    "**Answer:**<br>\n",
    "The difference between using a bare except block and specifying a specific exception type lies in the level of control and specificity in exception handling.<br>\n",
    "**1.Bare except block:**"
   ]
  },
  {
   "cell_type": "code",
   "execution_count": 3,
   "id": "0cff919e",
   "metadata": {
    "ExecuteTime": {
     "end_time": "2023-07-03T16:20:34.406607Z",
     "start_time": "2023-07-03T16:20:34.394608Z"
    }
   },
   "outputs": [],
   "source": [
    "try:\n",
    "    # Code that may raise an exception\n",
    "    ...\n",
    "except:\n",
    "    # Code to handle any exception\n",
    "    ...\n",
    "    "
   ]
  },
  {
   "cell_type": "markdown",
   "id": "c237e7b4",
   "metadata": {},
   "source": [
    "When an exception occurs within the try block, a bare except block will catch and handle any exception that is raised, regardless of its type. It provides a general catch-all mechanism for handling exceptions. While it can be convenient to handle any exception in a single block, it can also make it more challenging to diagnose specific issues since the exact type of the caught exception is not known.<br>\n",
    "\n",
    "**2.Specific exception type:**"
   ]
  },
  {
   "cell_type": "code",
   "execution_count": null,
   "id": "481dee41",
   "metadata": {},
   "outputs": [],
   "source": [
    "try:\n",
    "    # Code that may raise an exception\n",
    "    ...\n",
    "except SpecificExceptionType:\n",
    "    # Code to handle SpecificExceptionType\n",
    "    ...\n"
   ]
  },
  {
   "cell_type": "markdown",
   "id": "750f111e",
   "metadata": {},
   "source": [
    "When using a specific exception type in the except block, only exceptions of that particular type (or its subclasses) will be caught and handled. This allows for more fine-grained control over exception handling. You can specify different except blocks for different exception types, enabling you to handle each type of exception in a customized manner.\n",
    "\n",
    "**The choice between a bare except block and specifying a specific exception type depends on the specific requirements of your code. Here are some considerations:**\n",
    "\n",
    "1.Bare except blocks should generally be avoided unless there is a compelling reason to handle all exceptions in the same way. It can make it harder to debug issues since the specific exception information is not available in the except block.\n",
    "\n",
    "2.Using specific exception types allows for targeted exception handling. It allows you to handle different exceptions differently based on the specific error condition, enabling you to provide more informative error messages or take appropriate recovery actions.\n",
    "\n",
    "3.If you are unsure about the potential exceptions that may occur, you can use a combination of specific exception types and a more general except block. This way, you can handle known exception types explicitly while still providing a catch-all mechanism for any unexpected exceptions.\n",
    "\n",
    "In general, it is considered good practice to handle exceptions as specifically as possible to ensure robust and reliable code.\n",
    "\n",
    "\n",
    "**Example to illustrate the difference between using a bare except block and specifying a specific exception type:**\n",
    "\n",
    "**Example 1: Using a Bare Except Block:**"
   ]
  },
  {
   "cell_type": "code",
   "execution_count": null,
   "id": "0b4312e1",
   "metadata": {},
   "outputs": [],
   "source": [
    "try:\n",
    "    x = 5 / 0  # Division by zero will raise a ZeroDivisionError\n",
    "except:\n",
    "    print(\"An error occurred\")"
   ]
  },
  {
   "cell_type": "markdown",
   "id": "fa65a4f5",
   "metadata": {},
   "source": [
    "In this example, we have a division operation 5 / 0, which raises a **ZeroDivisionError** due to division by zero. The except block does not specify any exception type and will catch any exception that occurs. When executed, the program will catch the ZeroDivisionError and display the generic error message **\"An error occurred.\"** However, this message does not provide specific information about the nature of the exception.\n",
    "\n",
    "**Example 2: Specifying a Specific Exception Type:**"
   ]
  },
  {
   "cell_type": "code",
   "execution_count": null,
   "id": "3b546c59",
   "metadata": {},
   "outputs": [],
   "source": [
    "try:\n",
    "    x = 5 / 0  # Division by zero will raise a ZeroDivisionError\n",
    "except ZeroDivisionError:\n",
    "    print(\"Cannot divide by zero\")"
   ]
  },
  {
   "cell_type": "markdown",
   "id": "bfecb0e4",
   "metadata": {},
   "source": [
    "In this example, we specify the exception type ZeroDivisionError in the except block. This means that only exceptions of the ZeroDivisionError type (or its subclasses) will be caught and handled. When executed, the program will catch the ZeroDivisionError and display the more specific error message \"Cannot divide by zero.\" This message provides clearer information about the cause of the exception.\n",
    "\n",
    "By using a specific exception type, you have more control over the exception handling process and can provide customized error messages or take appropriate actions based on the specific type of exception encountered.\n",
    "\n",
    "It is important to note that using a bare except block should generally be avoided, as it can catch and handle exceptions that you may not have anticipated, potentially hiding critical errors or making it difficult to diagnose and fix issues in your code. Instead, it is generally recommended to handle exceptions explicitly by specifying the relevant exception types in the except blocks."
   ]
  },
  {
   "cell_type": "markdown",
   "id": "c56f2ed4",
   "metadata": {},
   "source": [
    "**-----------------------------------------------------------------------------------------------------------------------------------------------------------------------------------------------------------------**"
   ]
  },
  {
   "cell_type": "markdown",
   "id": "78e80252",
   "metadata": {},
   "source": [
    "**Q.5. Can you have nested try-except blocks in Python? If yes, then give an example?**\n",
    "\n",
    "**Answer:**<br>\n",
    "Yes, nested try-except blocks can be used in Python. This allows for handling exceptions at different levels of code execution, providing a more granular approach to exception handling.<br>\n",
    "Here's an example demonstrating nested try-except blocks:"
   ]
  },
  {
   "cell_type": "code",
   "execution_count": 7,
   "id": "ff502e40",
   "metadata": {
    "ExecuteTime": {
     "end_time": "2023-07-03T16:26:58.752300Z",
     "start_time": "2023-07-03T16:26:50.448924Z"
    }
   },
   "outputs": [
    {
     "name": "stdout",
     "output_type": "stream",
     "text": [
      "Enter an outer number: 45\n",
      "Enter an inner number: 12.5\n",
      "Invalid input for inner number\n"
     ]
    }
   ],
   "source": [
    "try:\n",
    "    # Outer try block\n",
    "    outer_number = int(input(\"Enter an outer number: \"))\n",
    "    \n",
    "    try:\n",
    "        # Inner try block\n",
    "        inner_number = int(input(\"Enter an inner number: \"))\n",
    "        result = outer_number / inner_number\n",
    "        print(\"Result:\", result)\n",
    "    \n",
    "    except ValueError:\n",
    "        print(\"Invalid input for inner number\")\n",
    "    \n",
    "    except ZeroDivisionError:\n",
    "        print(\"Cannot divide by zero in the inner block\")\n",
    "\n",
    "except ValueError:\n",
    "    print(\"Invalid input for outer number\")"
   ]
  },
  {
   "cell_type": "markdown",
   "id": "1427f28c",
   "metadata": {},
   "source": [
    "In this example, we have an outer try-except block and an inner try-except block. The outer block handles exceptions related to the input of the outer number, while the inner block handles exceptions related to the input of the inner number and the division operation.\n",
    "\n",
    "If the user enters an invalid value for the outer number (e.g., a non-integer), the outer except block will be triggered, displaying the message \"Invalid input for outer number.\"\n",
    "\n",
    "If the outer number is valid, the program proceeds to the inner try block, where the user is prompted to enter an inner number. If the user enters an invalid value (e.g., a non-integer), the inner except block for ValueError will be triggered, displaying the message \"Invalid input for inner number.\"\n",
    "\n",
    "If the inner number is valid, the division operation is performed. If the inner number is zero, the inner except block for ZeroDivisionError will be triggered, displaying the message \"Cannot divide by zero in the inner block.\"\n",
    "\n",
    "By using nested try-except blocks, you can handle exceptions at different levels of your code, providing more specific error messages and handling different exception types separately as needed."
   ]
  },
  {
   "cell_type": "markdown",
   "id": "15932b53",
   "metadata": {},
   "source": [
    "**-----------------------------------------------------------------------------------------------------------------------------------------------------------------------------------------------------------------**"
   ]
  },
  {
   "cell_type": "markdown",
   "id": "5753937b",
   "metadata": {},
   "source": [
    "**Q.6. Can we use multiple exception blocks, if yes then give an example?**\n",
    "\n",
    "**Answer:**<br>\n",
    "Yes, you can use multiple except blocks within a try-except block to handle different types of exceptions separately. This allows you to provide specific error handling for each exception type.\n",
    "\n",
    "Here's an example demonstrating the use of multiple except blocks:"
   ]
  },
  {
   "cell_type": "code",
   "execution_count": 9,
   "id": "c4d42334",
   "metadata": {
    "ExecuteTime": {
     "end_time": "2023-07-03T16:32:09.537513Z",
     "start_time": "2023-07-03T16:32:06.156552Z"
    }
   },
   "outputs": [
    {
     "name": "stdout",
     "output_type": "stream",
     "text": [
      "Enter a number: 0\n",
      "Error: Cannot divide by zero.\n"
     ]
    }
   ],
   "source": [
    "try:\n",
    "    # Code that may raise exceptions\n",
    "    x = int(input(\"Enter a number: \"))\n",
    "    result = 10 / x\n",
    "    print(\"Result:\", result)\n",
    "\n",
    "except ValueError:\n",
    "    print(\"Invalid input: Please enter a valid integer.\")\n",
    "\n",
    "except ZeroDivisionError:\n",
    "    print(\"Error: Cannot divide by zero.\")"
   ]
  },
  {
   "cell_type": "markdown",
   "id": "7b1edd55",
   "metadata": {},
   "source": [
    "In this example, we have two except blocks after the try block. **The first except block** with ValueError handles invalid input cases where the user enters a non-integer value. If a ValueError exception is raised during the execution of the try block, the code within the corresponding except block will be executed, printing the message \"Invalid input: Please enter a valid integer.\"\n",
    "\n",
    "**The second except block** with ZeroDivisionError handles the specific case where the user enters a value of zero. If a ZeroDivisionError exception occurs, the code within the except block will be executed, printing the message \"Error: Cannot divide by zero.\"\n",
    "\n",
    "By **using multiple except blocks**, you can handle different types of exceptions separately, providing more specific and appropriate error handling based on the exception type. This helps in making your code more robust and ensures that different exceptional situations are handled appropriately."
   ]
  },
  {
   "cell_type": "markdown",
   "id": "e26299cb",
   "metadata": {},
   "source": [
    "**-----------------------------------------------------------------------------------------------------------------------------------------------------------------------------------------------------------------**"
   ]
  },
  {
   "cell_type": "markdown",
   "id": "ce98068d",
   "metadata": {},
   "source": [
    "**Q.7. Write the reason due to which following errors are raised:**<br>\n",
    "**a. EOFError**<br>\n",
    "**b. FloatingPointError**<br>\n",
    "**c. IndexError**<br>\n",
    "**d. MemoryError**<br>\n",
    "**e. OverflowError**<br>\n",
    "**f. TabError**<br>\n",
    "**g. ValueError**<br>\n",
    "\n",
    "**Answer:**<br>\n",
    "\n",
    "**a. EOFError:**<br>\n",
    "\n",
    "EOFError is raised when one of the built-in functions input() or raw_input() hits an end-of-file condition (EOF) without reading any data. This error is sometimes experienced while using online IDEs. This occurs when we have asked the user for input but have not provided any input in the input box. We can overcome this issue by using try and except keywords in Python.<br>\n",
    "\n",
    "**Here are a few scenarios where an EOFError can be raised:**<br>\n",
    "\n",
    "1.Pressing the end-of-file character (e.g., Ctrl+D in Unix/Linux or Ctrl+Z in Windows) before entering any input.<br>\n",
    "2.Pressing the end-of-file character after entering some input, but before pressing Enter to submit the input.<br>\n",
    "3.Closing the console or terminating the program abruptly while waiting for user input using input().<br>\n",
    "\n",
    "To handle an EOFError and provide appropriate error handling, you can include an except block specifically for this exception type within your code. For example:"
   ]
  },
  {
   "cell_type": "code",
   "execution_count": 13,
   "id": "09193823",
   "metadata": {
    "ExecuteTime": {
     "end_time": "2023-07-03T16:49:19.415056Z",
     "start_time": "2023-07-03T16:48:34.460902Z"
    }
   },
   "outputs": [
    {
     "name": "stdout",
     "output_type": "stream",
     "text": [
      "Enter your input: 45\n"
     ]
    }
   ],
   "source": [
    "try:\n",
    "    user_input = input(\"Enter your input: \")\n",
    "    # Process user input\n",
    "except EOFError:\n",
    "    print(\"Unexpected end of input. Please provide valid input.\")"
   ]
  },
  {
   "cell_type": "markdown",
   "id": "bc32bf02",
   "metadata": {},
   "source": [
    "**b. FloatingPointError:**<br>\n",
    "\n",
    "A **FloatingPointError** is not a commonly raised exception in Python. In fact, in Python, the **FloatingPointError** is not a built-in exception type.\n",
    "\n",
    "However, some programming languages, such as C, have a **FloatingPointError** exception that can occur during floating-point arithmetic operations. It is typically raised when there is an exceptional condition related to floating-point calculations, such as division by zero or an invalid mathematical operation.\n",
    "\n",
    "In Python, these exceptional conditions related to floating-point calculations are generally handled by specific built-in exceptions like **ZeroDivisionError** or **ValueError**. **Python uses the IEEE 754 floating-point standard**, which handles exceptional cases internally without explicitly raising a FloatingPointError exception.\n",
    "\n",
    "So, while FloatingPointError exists as a potential exception in other programming languages, it is not a typical exception in Python.\n",
    "\n",
    "\n",
    "**c. IndexError:**<br>\n",
    "\n",
    "An IndexError is raised when an index is used to access an element in a sequence (such as a list, tuple, or string) that is out of bounds. It occurs when an invalid index is provided, either a negative index or an index greater than or equal to the length of the sequence.\n",
    "\n",
    "**Here are a few scenarios where an IndexError can be raised:**\n",
    "\n",
    "**1.Accessing an element using a negative index:** Python allows negative indexing, where -1 refers to the last element, -2 refers to the second-to-last element, and so on. If a negative index exceeds the valid range of negative indices or is larger than the length of the sequence, an IndexError is raised."
   ]
  },
  {
   "cell_type": "code",
   "execution_count": 14,
   "id": "319a8600",
   "metadata": {
    "ExecuteTime": {
     "end_time": "2023-07-03T17:12:16.452165Z",
     "start_time": "2023-07-03T17:12:16.185429Z"
    }
   },
   "outputs": [
    {
     "ename": "IndexError",
     "evalue": "list index out of range",
     "output_type": "error",
     "traceback": [
      "\u001b[1;31m---------------------------------------------------------------------------\u001b[0m",
      "\u001b[1;31mIndexError\u001b[0m                                Traceback (most recent call last)",
      "\u001b[1;32m<ipython-input-14-3deda1b1a921>\u001b[0m in \u001b[0;36m<module>\u001b[1;34m\u001b[0m\n\u001b[0;32m      1\u001b[0m \u001b[0mmy_list\u001b[0m \u001b[1;33m=\u001b[0m \u001b[1;33m[\u001b[0m\u001b[1;36m1\u001b[0m\u001b[1;33m,\u001b[0m \u001b[1;36m2\u001b[0m\u001b[1;33m,\u001b[0m \u001b[1;36m3\u001b[0m\u001b[1;33m]\u001b[0m\u001b[1;33m\u001b[0m\u001b[1;33m\u001b[0m\u001b[0m\n\u001b[1;32m----> 2\u001b[1;33m \u001b[0mprint\u001b[0m\u001b[1;33m(\u001b[0m\u001b[0mmy_list\u001b[0m\u001b[1;33m[\u001b[0m\u001b[1;33m-\u001b[0m\u001b[1;36m4\u001b[0m\u001b[1;33m]\u001b[0m\u001b[1;33m)\u001b[0m  \u001b[1;31m# Raises IndexError: list index out of range\u001b[0m\u001b[1;33m\u001b[0m\u001b[1;33m\u001b[0m\u001b[0m\n\u001b[0m",
      "\u001b[1;31mIndexError\u001b[0m: list index out of range"
     ]
    }
   ],
   "source": [
    "my_list = [1, 2, 3]\n",
    "print(my_list[-4])  # Raises IndexError: list index out of range"
   ]
  },
  {
   "cell_type": "markdown",
   "id": "5e69ead3",
   "metadata": {},
   "source": [
    "**2.Accessing an element using an index greater than or equal to the length of the sequence:** If the index provided is equal to or greater than the length of the sequence, an IndexError is raised. Remember that indexing starts from 0 in Python, so the valid range of indices is from 0 to length - 1."
   ]
  },
  {
   "cell_type": "code",
   "execution_count": 15,
   "id": "92630448",
   "metadata": {
    "ExecuteTime": {
     "end_time": "2023-07-03T17:13:19.896073Z",
     "start_time": "2023-07-03T17:13:19.762550Z"
    }
   },
   "outputs": [
    {
     "ename": "IndexError",
     "evalue": "list index out of range",
     "output_type": "error",
     "traceback": [
      "\u001b[1;31m---------------------------------------------------------------------------\u001b[0m",
      "\u001b[1;31mIndexError\u001b[0m                                Traceback (most recent call last)",
      "\u001b[1;32m<ipython-input-15-ea88d0968128>\u001b[0m in \u001b[0;36m<module>\u001b[1;34m\u001b[0m\n\u001b[0;32m      1\u001b[0m \u001b[0mmy_list\u001b[0m \u001b[1;33m=\u001b[0m \u001b[1;33m[\u001b[0m\u001b[1;36m1\u001b[0m\u001b[1;33m,\u001b[0m \u001b[1;36m2\u001b[0m\u001b[1;33m,\u001b[0m \u001b[1;36m3\u001b[0m\u001b[1;33m]\u001b[0m\u001b[1;33m\u001b[0m\u001b[1;33m\u001b[0m\u001b[0m\n\u001b[1;32m----> 2\u001b[1;33m \u001b[0mprint\u001b[0m\u001b[1;33m(\u001b[0m\u001b[0mmy_list\u001b[0m\u001b[1;33m[\u001b[0m\u001b[1;36m3\u001b[0m\u001b[1;33m]\u001b[0m\u001b[1;33m)\u001b[0m  \u001b[1;31m# Raises IndexError: list index out of range\u001b[0m\u001b[1;33m\u001b[0m\u001b[1;33m\u001b[0m\u001b[0m\n\u001b[0m",
      "\u001b[1;31mIndexError\u001b[0m: list index out of range"
     ]
    }
   ],
   "source": [
    "my_list = [1, 2, 3]\n",
    "print(my_list[3])  # Raises IndexError: list index out of range"
   ]
  },
  {
   "cell_type": "markdown",
   "id": "49cd73ef",
   "metadata": {},
   "source": [
    "**3.Accessing an element in an empty sequence:** If you attempt to access an element in an empty sequence, an IndexError is raised since there are no elements to access."
   ]
  },
  {
   "cell_type": "code",
   "execution_count": 16,
   "id": "b6130ead",
   "metadata": {
    "ExecuteTime": {
     "end_time": "2023-07-03T17:14:16.095349Z",
     "start_time": "2023-07-03T17:14:16.003591Z"
    }
   },
   "outputs": [
    {
     "ename": "IndexError",
     "evalue": "list index out of range",
     "output_type": "error",
     "traceback": [
      "\u001b[1;31m---------------------------------------------------------------------------\u001b[0m",
      "\u001b[1;31mIndexError\u001b[0m                                Traceback (most recent call last)",
      "\u001b[1;32m<ipython-input-16-40a00b8cf4b4>\u001b[0m in \u001b[0;36m<module>\u001b[1;34m\u001b[0m\n\u001b[0;32m      1\u001b[0m \u001b[0mempty_list\u001b[0m \u001b[1;33m=\u001b[0m \u001b[1;33m[\u001b[0m\u001b[1;33m]\u001b[0m\u001b[1;33m\u001b[0m\u001b[1;33m\u001b[0m\u001b[0m\n\u001b[1;32m----> 2\u001b[1;33m \u001b[0mprint\u001b[0m\u001b[1;33m(\u001b[0m\u001b[0mempty_list\u001b[0m\u001b[1;33m[\u001b[0m\u001b[1;36m0\u001b[0m\u001b[1;33m]\u001b[0m\u001b[1;33m)\u001b[0m  \u001b[1;31m# Raises IndexError: list index out of range\u001b[0m\u001b[1;33m\u001b[0m\u001b[1;33m\u001b[0m\u001b[0m\n\u001b[0m",
      "\u001b[1;31mIndexError\u001b[0m: list index out of range"
     ]
    }
   ],
   "source": [
    "empty_list = []\n",
    "print(empty_list[0])  # Raises IndexError: list index out of range"
   ]
  },
  {
   "cell_type": "markdown",
   "id": "c4f320e9",
   "metadata": {},
   "source": [
    "To handle an IndexError and provide appropriate error handling, you can include an except block specifically for this exception type within your code. For example:"
   ]
  },
  {
   "cell_type": "code",
   "execution_count": 17,
   "id": "f3c49f58",
   "metadata": {
    "ExecuteTime": {
     "end_time": "2023-07-03T17:15:37.932271Z",
     "start_time": "2023-07-03T17:15:37.910374Z"
    }
   },
   "outputs": [
    {
     "name": "stdout",
     "output_type": "stream",
     "text": [
      "Invalid index: The index is out of range.\n"
     ]
    }
   ],
   "source": [
    "try:\n",
    "    my_list = [1, 2, 3]\n",
    "    index = 5\n",
    "    print(my_list[index])\n",
    "except IndexError:\n",
    "    print(\"Invalid index: The index is out of range.\")"
   ]
  },
  {
   "cell_type": "markdown",
   "id": "e6d6f4b2",
   "metadata": {},
   "source": [
    "**d. MemoryError:**<br>\n",
    "\n",
    "A MemoryError is raised when an operation cannot be completed due to insufficient memory resources. It occurs when the program attempts to allocate more memory than the system can provide, resulting in the inability to fulfill the memory request.\n",
    "\n",
    "**Here are a few scenarios where a MemoryError can be raised:**\n",
    "\n",
    "**1.Allocating a large amount of memory:** If your program attempts to allocate a significant amount of memory, such as creating a large list or array, and the system does not have enough available memory to fulfill the request, a MemoryError can be raised."
   ]
  },
  {
   "cell_type": "code",
   "execution_count": null,
   "id": "aa003226",
   "metadata": {},
   "outputs": [],
   "source": [
    "# Attempting to allocate a large list\n",
    "large_list = [0] * 10**9  # Raises MemoryError: Unable to allocate memory"
   ]
  },
  {
   "cell_type": "markdown",
   "id": "5e02d671",
   "metadata": {},
   "source": [
    "**2.Exhausting memory through resource-intensive operations:** Certain operations, such as loading and processing large datasets or performing computationally intensive tasks, can require substantial memory resources. If the memory consumption exceeds the available system memory, a MemoryError may be raised."
   ]
  },
  {
   "cell_type": "code",
   "execution_count": null,
   "id": "38082246",
   "metadata": {},
   "outputs": [],
   "source": [
    "# Reading a large file into memory\n",
    "with open('large_file.txt', 'r') as file:\n",
    "    data = file.read()  # Raises MemoryError: Unable to allocate memory"
   ]
  },
  {
   "cell_type": "markdown",
   "id": "88384a38",
   "metadata": {},
   "source": [
    "**3.Running out of memory due to a memory leak:** In some cases, inefficient memory management or a memory leak within your program can gradually consume available memory until there is no more memory left, resulting in a MemoryError."
   ]
  },
  {
   "cell_type": "code",
   "execution_count": null,
   "id": "ad9a7ac5",
   "metadata": {},
   "outputs": [],
   "source": [
    "# Simulating a memory leak\n",
    "my_list = []\n",
    "while True:\n",
    "    my_list.append([0] * 10**6)  # Continuously allocating memory"
   ]
  },
  {
   "cell_type": "markdown",
   "id": "f7111725",
   "metadata": {},
   "source": [
    "**Handling a MemoryError** can be challenging since it typically indicates a system-level limitation rather than an error in the code itself. It's crucial to review your code for any memory-intensive operations and ensure efficient memory management practices. Additionally, consider optimizing your code, using memory-efficient data structures, or processing data in smaller chunks to avoid exhausting system memory."
   ]
  },
  {
   "cell_type": "markdown",
   "id": "c947a40c",
   "metadata": {},
   "source": [
    "**e. OverflowError**<br>\n",
    "\n",
    "An OverflowError is raised when a mathematical operation exceeds the maximum representable value for a numeric type. It occurs when the result of a calculation is too large to be stored within the bounds of the numeric data type being used.\n",
    "\n",
    "**Here are a few scenarios where an OverflowError can be raised:**\n",
    "\n",
    "**1.Integer overflow:** If you perform an arithmetic operation that results in an integer value larger than the maximum value that can be represented by the data type (e.g., int), an OverflowError can be raised."
   ]
  },
  {
   "cell_type": "code",
   "execution_count": null,
   "id": "64d3319d",
   "metadata": {},
   "outputs": [],
   "source": [
    "result = 2 ** 1000  # Raises OverflowError: (integer) result too large"
   ]
  },
  {
   "cell_type": "markdown",
   "id": "fb33d48f",
   "metadata": {},
   "source": [
    "**2.Floating-point overflow:** When performing calculations with floating-point numbers, if the result is larger than the maximum finite value that can be represented by the floating-point data type (e.g., float), an OverflowError can occur."
   ]
  },
  {
   "cell_type": "code",
   "execution_count": null,
   "id": "37f6fd65",
   "metadata": {},
   "outputs": [],
   "source": [
    "result = 1e1000  # Raises OverflowError: (float) result too large"
   ]
  },
  {
   "cell_type": "markdown",
   "id": "f891e94e",
   "metadata": {},
   "source": [
    "**3.Numeric conversion overflow:** If you attempt to convert a value from one numeric type to another and the value is outside the range that can be represented by the target type, an OverflowError can be raised."
   ]
  },
  {
   "cell_type": "code",
   "execution_count": null,
   "id": "7e570260",
   "metadata": {},
   "outputs": [],
   "source": [
    "large_value = 2 ** 1000\n",
    "integer_value = int(large_value)  # Raises OverflowError: Python int too large to convert to C long"
   ]
  },
  {
   "cell_type": "markdown",
   "id": "ceeb28a8",
   "metadata": {},
   "source": [
    "**Handling an OverflowError** involves reviewing your calculations and ensuring that the results fall within the valid range for the chosen numeric data type. You may need to adjust your calculations, use a different data type with a wider range (e.g., float instead of int), or employ techniques like arbitrary-precision arithmetic libraries if you require calculations beyond the limitations of standard numeric types."
   ]
  },
  {
   "cell_type": "markdown",
   "id": "7f4dfbc1",
   "metadata": {},
   "source": [
    "**f. TabError**<br>\n",
    "\n",
    "A TabError is raised when there is an issue with the indentation of code involving tabs and spaces. It occurs when the Python interpreter detects inconsistencies or misuse of tabs and spaces within the indentation structure of the code.\n",
    "\n",
    "**Here are a few common scenarios where a TabError can be raised:**\n",
    "\n",
    "**1.Mixing tabs and spaces:** Python uses indentation to define the structure of code blocks, such as loops, conditionals, and functions. If you mix tabs and spaces inconsistently within the same code block, it can lead to a TabError."
   ]
  },
  {
   "cell_type": "code",
   "execution_count": null,
   "id": "fdccfe23",
   "metadata": {},
   "outputs": [],
   "source": [
    "if condition:\n",
    "\t# Indented with a tab\n",
    "\tdo_something()\n",
    "\t   # Indented with spaces (instead of a tab)\n",
    "\tdo_another_thing()"
   ]
  },
  {
   "cell_type": "markdown",
   "id": "a7515844",
   "metadata": {},
   "source": [
    "In this example, the inconsistent indentation style between tabs and spaces will result in a TabError since the interpreter expects consistent indentation.\n",
    "\n",
    "**2.Incorrect indentation level:** Python relies on consistent indentation to determine the hierarchical structure of the code. If you have inconsistent or incorrect indentation levels within a block of code, a TabError can be raised."
   ]
  },
  {
   "cell_type": "code",
   "execution_count": null,
   "id": "e72fd18c",
   "metadata": {},
   "outputs": [],
   "source": [
    "def my_function():\n",
    "\t# Incorrect indentation level\n",
    "\tdo_something()\n",
    "   # Indented correctly with four spaces\n",
    "\tdo_another_thing()"
   ]
  },
  {
   "cell_type": "markdown",
   "id": "59ac0149",
   "metadata": {},
   "source": [
    "In this example, the second line has an incorrect indentation level, resulting in a TabError because it deviates from the expected indentation structure.\n",
    "\n",
    "**3.Mixing tabs and spaces for alignment:** Python expects consistent use of either tabs or spaces for indentation. If you mix tabs and spaces for alignment purposes within the same line or block of code, a TabError can occur."
   ]
  },
  {
   "cell_type": "code",
   "execution_count": null,
   "id": "66991823",
   "metadata": {},
   "outputs": [],
   "source": [
    "my_list = [1,\n",
    "\t            2,\n",
    "\t             \t3]  # Mixing tabs and spaces for alignment\n"
   ]
  },
  {
   "cell_type": "markdown",
   "id": "df293f1f",
   "metadata": {},
   "source": [
    "In this example, the use of tabs and spaces for alignment within the list can lead to a TabError.\n",
    "\n",
    "**To resolve TabError issues**, ensure consistent use of either tabs or spaces for indentation throughout your codebase. It is recommended to follow the Python Style Guide (PEP 8) guidelines, which suggest using four spaces for indentation."
   ]
  },
  {
   "cell_type": "markdown",
   "id": "daf1935d",
   "metadata": {},
   "source": [
    "**g. ValueError**<br>\n",
    "\n",
    "A ValueError is raised when a function receives an argument of the correct type but with an inappropriate or invalid value. It occurs when a function or operation is unable to handle the provided value due to its nature or out-of-range characteristics.\n",
    "\n",
    "**Here are a few scenarios where a ValueError can be raised:**\n",
    "\n",
    "**1.Incorrect data type conversion:** When attempting to convert a value from one data type to another, if the value cannot be interpreted or converted to the desired type, a ValueError may be raised."
   ]
  },
  {
   "cell_type": "code",
   "execution_count": null,
   "id": "cbb041a8",
   "metadata": {},
   "outputs": [],
   "source": [
    "number = int(\"abc\")  # Raises ValueError: invalid literal for int() with base 10: 'abc'"
   ]
  },
  {
   "cell_type": "markdown",
   "id": "0731b3d3",
   "metadata": {},
   "source": [
    "In this example, the string \"abc\" cannot be converted to an integer, resulting in a ValueError due to an invalid literal for the int() function.\n",
    "\n",
    "**2.Invalid input or argument value:** When a function or operation expects a certain range or set of valid values, providing an input or argument that falls outside that range or set can trigger a ValueError."
   ]
  },
  {
   "cell_type": "code",
   "execution_count": null,
   "id": "303dddc2",
   "metadata": {},
   "outputs": [],
   "source": [
    "age = -5\n",
    "if age < 0:\n",
    "    raise ValueError(\"Invalid age: Age must be a non-negative value.\")"
   ]
  },
  {
   "cell_type": "markdown",
   "id": "da79ab75",
   "metadata": {},
   "source": [
    "In this example, a ValueError is raised explicitly because a negative age is not valid according to the program's requirements.\n",
    "\n",
    "**3.Out-of-range values:** Some functions or operations may have specific constraints on the range of acceptable values. If a value exceeds those constraints, a ValueError can be raised."
   ]
  },
  {
   "cell_type": "code",
   "execution_count": null,
   "id": "dde3f5f8",
   "metadata": {},
   "outputs": [],
   "source": [
    "hours = 30\n",
    "if hours > 24:\n",
    "    raise ValueError(\"Invalid value: Hours must be between 0 and 24.\")"
   ]
  },
  {
   "cell_type": "markdown",
   "id": "83d3fd93",
   "metadata": {},
   "source": [
    "Here, a ValueError is raised because the value of hours exceeds the valid range of 0 to 24.\n",
    "\n",
    "**To handle a ValueError**, you can include an except block specifically for this exception type within your code. By catching and handling the ValueError, you can provide custom error messages, perform alternative actions, or guide the user to provide appropriate input."
   ]
  },
  {
   "cell_type": "code",
   "execution_count": null,
   "id": "227a95a6",
   "metadata": {},
   "outputs": [],
   "source": [
    "try:\n",
    "    x = int(input(\"Enter a number: \"))\n",
    "    if x < 0:\n",
    "        raise ValueError(\"Invalid input: Number must be positive.\")\n",
    "except ValueError as e:\n",
    "    print(\"ValueError:\", str(e))"
   ]
  },
  {
   "cell_type": "markdown",
   "id": "3c9c7882",
   "metadata": {},
   "source": [
    "**-----------------------------------------------------------------------------------------------------------------------------------------------------------------------------------------------------------------**"
   ]
  },
  {
   "cell_type": "markdown",
   "id": "42e5b441",
   "metadata": {},
   "source": [
    "**Q.8. Write code for the following given scenario and add try-exception block to it.**<br>\n",
    "**a. Program to divide two numbers**<br>\n",
    "**b. Program to convert a string to an integer**<br>\n",
    "**c. Program to access an element in a list**<br>\n",
    "**d. Program to handle a specific exception**<br>\n",
    "**e. Program to handle any exception**<br>\n",
    "\n",
    "**Answer:**"
   ]
  },
  {
   "cell_type": "markdown",
   "id": "655ec41b",
   "metadata": {},
   "source": [
    "**a. Program to divide two numbers:**"
   ]
  },
  {
   "cell_type": "code",
   "execution_count": 20,
   "id": "119a648e",
   "metadata": {
    "ExecuteTime": {
     "end_time": "2023-07-03T18:07:57.128790Z",
     "start_time": "2023-07-03T18:07:50.966609Z"
    }
   },
   "outputs": [
    {
     "name": "stdout",
     "output_type": "stream",
     "text": [
      "Enter the dividend: 45\n",
      "Enter the divisor: 0\n",
      "Error: Cannot divide by zero.\n"
     ]
    }
   ],
   "source": [
    "try:\n",
    "    dividend = float(input(\"Enter the dividend: \"))\n",
    "    divisor = float(input(\"Enter the divisor: \"))\n",
    "\n",
    "    result = dividend / divisor\n",
    "    print(\"Result:\", result)\n",
    "except ZeroDivisionError:\n",
    "    print(\"Error: Cannot divide by zero.\")\n",
    "except ValueError:\n",
    "    print(\"Error: Invalid input. Please enter numeric values.\")"
   ]
  },
  {
   "cell_type": "markdown",
   "id": "51ef5d3d",
   "metadata": {},
   "source": [
    "**b. Program to convert a string to an integer:**"
   ]
  },
  {
   "cell_type": "code",
   "execution_count": 22,
   "id": "3ca0c946",
   "metadata": {
    "ExecuteTime": {
     "end_time": "2023-07-03T18:09:46.819238Z",
     "start_time": "2023-07-03T18:09:36.746957Z"
    }
   },
   "outputs": [
    {
     "name": "stdout",
     "output_type": "stream",
     "text": [
      "Enter a number: a\n",
      "Error: Invalid input. Please enter a valid integer.\n"
     ]
    }
   ],
   "source": [
    "try:\n",
    "    string_num = input(\"Enter a number: \")\n",
    "    integer_num = int(string_num)\n",
    "    print(\"Converted Integer:\", integer_num)\n",
    "except ValueError:\n",
    "    print(\"Error: Invalid input. Please enter a valid integer.\")"
   ]
  },
  {
   "cell_type": "markdown",
   "id": "8a6ebbcc",
   "metadata": {},
   "source": [
    "**c. Program to access an element in a list:**"
   ]
  },
  {
   "cell_type": "code",
   "execution_count": 23,
   "id": "69ad6d85",
   "metadata": {
    "ExecuteTime": {
     "end_time": "2023-07-03T18:11:43.627450Z",
     "start_time": "2023-07-03T18:11:35.202720Z"
    }
   },
   "outputs": [
    {
     "name": "stdout",
     "output_type": "stream",
     "text": [
      "Enter the index of the element to access: 2\n",
      "Element at index 2 is 3\n"
     ]
    }
   ],
   "source": [
    "my_list = [1, 2, 3, 4, 5]\n",
    "\n",
    "try:\n",
    "    index = int(input(\"Enter the index of the element to access: \"))\n",
    "    element = my_list[index]\n",
    "    print(\"Element at index\", index, \"is\", element)\n",
    "except IndexError:\n",
    "    print(\"Error: Index is out of range. Please enter a valid index.\")\n",
    "except ValueError:\n",
    "    print(\"Error: Invalid input. Please enter a valid integer index.\")"
   ]
  },
  {
   "cell_type": "markdown",
   "id": "86a4b64b",
   "metadata": {},
   "source": [
    "**d. Program to handle a specific exception:**"
   ]
  },
  {
   "cell_type": "code",
   "execution_count": 24,
   "id": "309c8aa9",
   "metadata": {
    "ExecuteTime": {
     "end_time": "2023-07-03T18:16:53.326347Z",
     "start_time": "2023-07-03T18:16:43.575319Z"
    }
   },
   "outputs": [
    {
     "name": "stdout",
     "output_type": "stream",
     "text": [
      "Enter a number: 0\n",
      "Error: Cannot divide by zero.\n"
     ]
    }
   ],
   "source": [
    "try:\n",
    "    x = int(input(\"Enter a number: \"))\n",
    "    result = 10 / x\n",
    "    print(\"Result:\", result)\n",
    "except ZeroDivisionError:\n",
    "    print(\"Error: Cannot divide by zero.\")"
   ]
  },
  {
   "cell_type": "markdown",
   "id": "edbc5ec4",
   "metadata": {
    "ExecuteTime": {
     "end_time": "2023-07-03T18:06:24.524843Z",
     "start_time": "2023-07-03T18:06:24.488061Z"
    }
   },
   "source": [
    "**e. Program to handle any exception:**"
   ]
  },
  {
   "cell_type": "code",
   "execution_count": 25,
   "id": "20f0f559",
   "metadata": {
    "ExecuteTime": {
     "end_time": "2023-07-03T18:18:56.161730Z",
     "start_time": "2023-07-03T18:18:52.430020Z"
    }
   },
   "outputs": [
    {
     "name": "stdout",
     "output_type": "stream",
     "text": [
      "Enter a number: d\n",
      "An error occurred: invalid literal for int() with base 10: 'd'\n"
     ]
    }
   ],
   "source": [
    "try:\n",
    "    x = int(input(\"Enter a number: \"))\n",
    "    result = 10 / x\n",
    "    print(\"Result:\", result)\n",
    "except Exception as e:\n",
    "    print(\"An error occurred:\", str(e))"
   ]
  },
  {
   "cell_type": "markdown",
   "id": "49478782",
   "metadata": {},
   "source": [
    "**Explanation:**\n",
    "In this code, the user is prompted to enter a number. The int() function is used to convert the input to an integer. Within the try block, a division operation is performed (10 / x) and the result is printed.\n",
    "\n",
    "The except block uses a generic Exception class to catch any type of exception that may occur during the execution of the try block. The exception object is assigned to the variable e, and a generic error message is printed, displaying the string representation of the exception (str(e)).\n",
    "\n",
    "By using the generic Exception class in the except block, we can handle any type of exception that may occur during the execution of the try block. "
   ]
  },
  {
   "cell_type": "markdown",
   "id": "59a90c82",
   "metadata": {},
   "source": [
    "**-----------------------------------------------------------------------------------------------------------------------------------------------------------------------------------------------------------------**"
   ]
  }
 ],
 "metadata": {
  "hide_input": false,
  "kernelspec": {
   "display_name": "Python 3",
   "language": "python",
   "name": "python3"
  },
  "language_info": {
   "codemirror_mode": {
    "name": "ipython",
    "version": 3
   },
   "file_extension": ".py",
   "mimetype": "text/x-python",
   "name": "python",
   "nbconvert_exporter": "python",
   "pygments_lexer": "ipython3",
   "version": "3.8.5"
  },
  "latex_envs": {
   "LaTeX_envs_menu_present": true,
   "autoclose": false,
   "autocomplete": true,
   "bibliofile": "biblio.bib",
   "cite_by": "apalike",
   "current_citInitial": 1,
   "eqLabelWithNumbers": true,
   "eqNumInitial": 1,
   "hotkeys": {
    "equation": "Ctrl-E",
    "itemize": "Ctrl-I"
   },
   "labels_anchors": false,
   "latex_user_defs": false,
   "report_style_numbering": false,
   "user_envs_cfg": false
  },
  "nbTranslate": {
   "displayLangs": [
    "*"
   ],
   "hotkey": "alt-t",
   "langInMainMenu": true,
   "sourceLang": "en",
   "targetLang": "fr",
   "useGoogleTranslate": true
  },
  "varInspector": {
   "cols": {
    "lenName": 16,
    "lenType": 16,
    "lenVar": 40
   },
   "kernels_config": {
    "python": {
     "delete_cmd_postfix": "",
     "delete_cmd_prefix": "del ",
     "library": "var_list.py",
     "varRefreshCmd": "print(var_dic_list())"
    },
    "r": {
     "delete_cmd_postfix": ") ",
     "delete_cmd_prefix": "rm(",
     "library": "var_list.r",
     "varRefreshCmd": "cat(var_dic_list()) "
    }
   },
   "types_to_exclude": [
    "module",
    "function",
    "builtin_function_or_method",
    "instance",
    "_Feature"
   ],
   "window_display": false
  }
 },
 "nbformat": 4,
 "nbformat_minor": 5
}
