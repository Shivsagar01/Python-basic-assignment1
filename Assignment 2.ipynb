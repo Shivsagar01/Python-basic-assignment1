{
 "cells": [
  {
   "cell_type": "markdown",
   "id": "8d0245f7",
   "metadata": {},
   "source": [
    "# Assignment 2\n",
    "\n",
    "**1. What are the two values of the Boolean data type? How do you write them?**\n",
    "\n",
    "**Answer:**\n",
    "\n",
    "There are two types of Booolen data type i.e. 'True' or 'False'.So the Boolean data type is used to store the values true and false. This data type may be used to store information that allows one of two states, on or off, to be stored. A true Boolean value might indicate that the object is valid (e.g. an email address has been typed correctly). A false Boolean value indicates that the object is invalid and has not been done correctly (e.g. you’ve forgotten to fill out a required field).\n",
    "    # how to write them:\n",
    "    They are written as such way: True and False.\n",
    "Examples:"
   ]
  },
  {
   "cell_type": "code",
   "execution_count": 21,
   "id": "478c52d9",
   "metadata": {
    "ExecuteTime": {
     "end_time": "2023-06-01T10:24:13.098570Z",
     "start_time": "2023-06-01T10:24:13.082612Z"
    }
   },
   "outputs": [
    {
     "data": {
      "text/plain": [
       "bool"
      ]
     },
     "execution_count": 21,
     "metadata": {},
     "output_type": "execute_result"
    }
   ],
   "source": [
    "a = True\n",
    "type(a)\n",
    "b = False\n",
    "type(b)"
   ]
  },
  {
   "cell_type": "code",
   "execution_count": 3,
   "id": "e9a0c6d1",
   "metadata": {
    "ExecuteTime": {
     "end_time": "2023-06-01T08:45:03.680351Z",
     "start_time": "2023-06-01T08:45:03.667387Z"
    }
   },
   "outputs": [
    {
     "name": "stdout",
     "output_type": "stream",
     "text": [
      "True\n"
     ]
    }
   ],
   "source": [
    "# Declaring variables\n",
    "a = 10\n",
    "b = 10\n",
    " \n",
    "# Comparing variables\n",
    "print(a == b)"
   ]
  },
  {
   "cell_type": "code",
   "execution_count": 4,
   "id": "12289ce4",
   "metadata": {
    "ExecuteTime": {
     "end_time": "2023-06-01T08:45:20.560442Z",
     "start_time": "2023-06-01T08:45:20.543455Z"
    }
   },
   "outputs": [
    {
     "name": "stdout",
     "output_type": "stream",
     "text": [
      "False\n"
     ]
    }
   ],
   "source": [
    "# Declaring variables\n",
    "a = 10\n",
    "b = 500\n",
    " \n",
    "# Comparing variables\n",
    "print(a == b)"
   ]
  },
  {
   "cell_type": "code",
   "execution_count": 5,
   "id": "f45c58cb",
   "metadata": {
    "ExecuteTime": {
     "end_time": "2023-06-01T08:50:29.205819Z",
     "start_time": "2023-06-01T08:50:29.118049Z"
    }
   },
   "outputs": [
    {
     "name": "stdout",
     "output_type": "stream",
     "text": [
      "False\n",
      "False\n",
      "False\n",
      "False\n",
      "False\n",
      "True\n"
     ]
    }
   ],
   "source": [
    "# built-in method bool()\n",
    " \n",
    "# Returns False as x is not equal to y\n",
    "x = 5\n",
    "y = 10\n",
    "print(bool(x==y))\n",
    " \n",
    "# Returns False as x is None\n",
    "x = None\n",
    "print(bool(x))\n",
    " \n",
    "# Returns False as x is an empty sequence\n",
    "x = ()\n",
    "print(bool(x))\n",
    " \n",
    "# Returns False as x is an empty mapping\n",
    "x = {}\n",
    "print(bool(x))\n",
    " \n",
    "# Returns False as x is 0\n",
    "x = 0.0\n",
    "print(bool(x))\n",
    " \n",
    "# Returns True as x is a non empty string\n",
    "x = 'ineuron'\n",
    "print(bool(x))"
   ]
  },
  {
   "cell_type": "code",
   "execution_count": 6,
   "id": "c94e0303",
   "metadata": {
    "ExecuteTime": {
     "end_time": "2023-06-01T08:55:17.486751Z",
     "start_time": "2023-06-01T08:55:17.340900Z"
    }
   },
   "outputs": [
    {
     "name": "stdout",
     "output_type": "stream",
     "text": [
      "False\n",
      "True\n",
      "True\n"
     ]
    }
   ],
   "source": [
    "# Integers and Floats as Booleans\n",
    "# Numbers can be used as bool values by using Python’s built-in bool() method.  \n",
    "# Any integer, floating-point number, or complex number having zero as a value is considered as False.\n",
    "# While if they are having value as any positive or negative number then it is considered as True.\n",
    "var1 = 0\n",
    "print(bool(var1))\n",
    " \n",
    "var2 = 1\n",
    "print(bool(var2))\n",
    " \n",
    "var3 = -9.7\n",
    "print(bool(var3))"
   ]
  },
  {
   "cell_type": "markdown",
   "id": "1f6e00d1",
   "metadata": {},
   "source": [
    "**2. What are the three different types of Boolean operators?**\n",
    "\n",
    "**Answer:** \n",
    "\n",
    "There are three main types of Boolean operators: AND, Or, NOT. In Boolean Operations are simple arithmetic of True and False values. These values can be manipulated by the use of boolean operators which include AND, Or, and NOT. Common boolean operations are –\n",
    "\n",
    "or\n",
    "\n",
    "and\n",
    "\n",
    "not\n",
    "\n",
    "== (equivalent)\n",
    "\n",
    "!= (not equivalent)"
   ]
  },
  {
   "cell_type": "markdown",
   "id": "c5e6500c",
   "metadata": {},
   "source": [
    "**3. Make a list of each Boolean operator's truth tables (i.e. every possible combination of Boolean values for the operator and what it evaluates).**\n",
    "\n",
    "**Answer:**\n",
    "\n",
    "**1.Boolean And Operator**\n",
    "\n",
    "The Boolean and operator returns False if any one of the inputs is False else returns True.\n",
    "\n",
    "True **and** True is **True**.\n",
    "\n",
    "True **and** False is **False**.\n",
    "\n",
    "False **and** True is **False**.\n",
    "\n",
    "False **and** False is **False**.\n",
    "\n",
    "Example:"
   ]
  },
  {
   "cell_type": "code",
   "execution_count": 8,
   "id": "82214365",
   "metadata": {
    "ExecuteTime": {
     "end_time": "2023-06-01T09:20:33.534335Z",
     "start_time": "2023-06-01T09:20:33.528350Z"
    }
   },
   "outputs": [
    {
     "name": "stdout",
     "output_type": "stream",
     "text": [
      "False\n",
      "All the numbers has boolean value as True\n"
     ]
    }
   ],
   "source": [
    "# and operator\n",
    " \n",
    "a = 10\n",
    "b = 20\n",
    "c = 40\n",
    " \n",
    "if a > b and b<c:\n",
    "    print(True)\n",
    "else:\n",
    "    print(False)\n",
    "     \n",
    "if a and b and c:\n",
    "    print(\"All the numbers has boolean value as True\")\n",
    "else:\n",
    "    print(\"Atleast one number has boolean value as False\")"
   ]
  },
  {
   "cell_type": "markdown",
   "id": "5b5e858e",
   "metadata": {},
   "source": [
    "**2.Boolean OR Operator**\n",
    "\n",
    "The Boolean or operator returns True if any one of the inputs is True else returns False.\n",
    "\n",
    "True **or** True is **True**.\n",
    "\n",
    "True **or** False is **True**.\n",
    "\n",
    "False **or** True is **True**.\n",
    "\n",
    "False **or** False is **False**.\n",
    "\n",
    "Example:"
   ]
  },
  {
   "cell_type": "code",
   "execution_count": 9,
   "id": "9db07d34",
   "metadata": {
    "ExecuteTime": {
     "end_time": "2023-06-01T09:33:57.643673Z",
     "start_time": "2023-06-01T09:33:57.626677Z"
    }
   },
   "outputs": [
    {
     "name": "stdout",
     "output_type": "stream",
     "text": [
      "True\n",
      "Atleast one number has boolean value as True\n"
     ]
    }
   ],
   "source": [
    "# or operator\n",
    " \n",
    "a = 10\n",
    "b = 20\n",
    "c = 40\n",
    " \n",
    "if a > b or b < c:\n",
    "    print(True)\n",
    "else:\n",
    "    print(False)\n",
    " \n",
    "if a or b or c:\n",
    "    print(\"Atleast one number has boolean value as True\")"
   ]
  },
  {
   "cell_type": "markdown",
   "id": "00b79481",
   "metadata": {},
   "source": [
    "**3.Boolean Not Operator**\n",
    "\n",
    "The Boolean Not operator only require one argument and returns the negation of the argument i.e. returns the True for False and False for True.\n",
    "\n",
    "**not** True is **False**.\n",
    "\n",
    "**not** False is **True**\n",
    "\n",
    "Example:"
   ]
  },
  {
   "cell_type": "code",
   "execution_count": 10,
   "id": "8ebab721",
   "metadata": {
    "ExecuteTime": {
     "end_time": "2023-06-01T09:38:01.115811Z",
     "start_time": "2023-06-01T09:38:01.098857Z"
    }
   },
   "outputs": [
    {
     "name": "stdout",
     "output_type": "stream",
     "text": [
      "Boolean value of a is False\n"
     ]
    }
   ],
   "source": [
    "# not operator\n",
    " \n",
    "a = 0\n",
    " \n",
    "if not a:\n",
    "    print(\"Boolean value of a is False\")"
   ]
  },
  {
   "cell_type": "markdown",
   "id": "09a2220b",
   "metadata": {
    "ExecuteTime": {
     "end_time": "2023-06-01T09:41:56.854878Z",
     "start_time": "2023-06-01T09:41:56.395802Z"
    }
   },
   "source": [
    "**True is 1 and False is 0**\n",
    "\n",
    "**#Truth Table for AND**\n",
    "\n",
    "**A**  **B**  **output**\n",
    "\n",
    "0  0   0\n",
    "\n",
    "0  1   0\n",
    "\n",
    "1  0   0\n",
    "\n",
    "1  1   1\n",
    "\n",
    "**#Truth Table for OR**\n",
    "\n",
    "**A** **B** **output**\n",
    "\n",
    "0 0 0\n",
    "\n",
    "0 1 1\n",
    "\n",
    "1 0 1\n",
    "\n",
    "1 1 1\n",
    "\n",
    "**#Truth Table for NOT**\n",
    "\n",
    "**A** **output**\n",
    "\n",
    "0 1\n",
    "\n",
    "1 0"
   ]
  },
  {
   "cell_type": "markdown",
   "id": "1b22de94",
   "metadata": {},
   "source": [
    "**Boolean == (equivalent) and != (not equivalent) Operator**\n",
    "\n",
    "Both the operators are used to compared two results. **==** (equivalent operator returns True if two results are equal) and \n",
    "**!=** (not equivalent operator returns True if the two results are not same.)\n",
    "\n",
    "Example:"
   ]
  },
  {
   "cell_type": "code",
   "execution_count": 12,
   "id": "b2673e3c",
   "metadata": {
    "ExecuteTime": {
     "end_time": "2023-06-01T09:53:16.695076Z",
     "start_time": "2023-06-01T09:53:16.660169Z"
    }
   },
   "outputs": [
    {
     "name": "stdout",
     "output_type": "stream",
     "text": [
      "True\n",
      "True\n"
     ]
    }
   ],
   "source": [
    "# equivalent and not equivalent operator:\n",
    " \n",
    "a = 0\n",
    "b = 1\n",
    " \n",
    "if a == 0:\n",
    "    print(True)\n",
    "     \n",
    "if a == b:\n",
    "    print(True)\n",
    "     \n",
    "if a != b:\n",
    "    print(True)"
   ]
  },
  {
   "cell_type": "markdown",
   "id": "28405351",
   "metadata": {},
   "source": [
    "#(Extra work)\n",
    "\n",
    "**is Operator** \n",
    "\n",
    "The **is** keyword is used to test whether two variables belong to the same object. The test will return True if the two objects are the same else it will return False even if the two objects are 100% equal.\n",
    "\n",
    "Example:"
   ]
  },
  {
   "cell_type": "code",
   "execution_count": 13,
   "id": "0638a0fd",
   "metadata": {
    "ExecuteTime": {
     "end_time": "2023-06-01T09:56:43.741336Z",
     "start_time": "2023-06-01T09:56:43.725418Z"
    }
   },
   "outputs": [
    {
     "name": "stdout",
     "output_type": "stream",
     "text": [
      "True\n",
      "False\n"
     ]
    }
   ],
   "source": [
    "# is keyword\n",
    " \n",
    "x = 10\n",
    "y = 10\n",
    " \n",
    "if x is y:\n",
    "    print(True)\n",
    "else:\n",
    "    print(False)\n",
    " \n",
    "x = [\"a\", \"b\", \"c\", \"d\"]\n",
    "y = [\"a\", \"b\", \"c\", \"d\"]\n",
    " \n",
    "print(x is y)"
   ]
  },
  {
   "cell_type": "markdown",
   "id": "ec6fce0c",
   "metadata": {},
   "source": [
    "**in Operator**\n",
    "\n",
    "**in** operator checks for the membership i.e. checks if the value is present in a list, tuple, range, string, etc.\n",
    "\n",
    "Example:"
   ]
  },
  {
   "cell_type": "code",
   "execution_count": 14,
   "id": "17363bef",
   "metadata": {
    "ExecuteTime": {
     "end_time": "2023-06-01T10:00:19.100921Z",
     "start_time": "2023-06-01T10:00:18.966938Z"
    }
   },
   "outputs": [
    {
     "name": "stdout",
     "output_type": "stream",
     "text": [
      "True\n"
     ]
    }
   ],
   "source": [
    "# in keyword \n",
    "# Create a list\n",
    "animals = [\"dog\", \"lion\", \"cat\"]\n",
    " \n",
    "# Check if lion in list or not\n",
    "if \"lion\" in animals:\n",
    "    print(True)"
   ]
  },
  {
   "cell_type": "markdown",
   "id": "b0d257f5",
   "metadata": {},
   "source": [
    "**4. What are the values of the following expressions?**\n",
    "\n",
    "**(5 > 4) and (3 == 5)**\n",
    "\n",
    "**not (5 > 4)**\n",
    "\n",
    "**(5 > 4) or (3 == 5)**\n",
    "\n",
    "**not ((5 > 4) or (3 == 5))**\n",
    "\n",
    "**(True and True) and (True == False)**\n",
    "\n",
    "**(not False) or (not True)**\n",
    "\n",
    "**Answer:**"
   ]
  },
  {
   "cell_type": "code",
   "execution_count": 20,
   "id": "0c66175c",
   "metadata": {
    "ExecuteTime": {
     "end_time": "2023-06-01T10:09:59.274291Z",
     "start_time": "2023-06-01T10:09:59.257296Z"
    }
   },
   "outputs": [
    {
     "name": "stdout",
     "output_type": "stream",
     "text": [
      "False\n",
      "False\n",
      "True\n",
      "False\n",
      "False\n",
      "True\n"
     ]
    }
   ],
   "source": [
    "print((5 > 4) and (3 == 5))\n",
    "print(not (5 > 4))\n",
    "print((5 > 4) or (3 == 5))\n",
    "print(not ((5 > 4) or (3 == 5)))\n",
    "print((True and True) and (True == False))\n",
    "print((not False) or (not True))"
   ]
  },
  {
   "cell_type": "markdown",
   "id": "27ebfd95",
   "metadata": {},
   "source": [
    "**5. What are the six comparison operators?**\n",
    "\n",
    "**Answer**\n",
    "\n",
    "**> , >= , < , <= , == , != ** \n",
    "\n",
    "Example:"
   ]
  },
  {
   "cell_type": "code",
   "execution_count": 1,
   "id": "5d3bcfba",
   "metadata": {
    "ExecuteTime": {
     "end_time": "2023-06-01T16:14:45.179120Z",
     "start_time": "2023-06-01T16:14:45.160175Z"
    }
   },
   "outputs": [
    {
     "name": "stdout",
     "output_type": "stream",
     "text": [
      "True\n",
      "True\n",
      "False\n",
      "False\n",
      "False\n",
      "True\n"
     ]
    }
   ],
   "source": [
    "a = 9\n",
    "b = 5\n",
    "print(a > b)\n",
    "print(a >= b)\n",
    "print(a < b)\n",
    "print(a <= b)\n",
    "print(a == b)\n",
    "print(a != b)"
   ]
  },
  {
   "cell_type": "markdown",
   "id": "18c3edbd",
   "metadata": {},
   "source": [
    "**6. How do you tell the difference between the equal to and assignment operators? Describe a condition and when you would use one ?**\n",
    "\n",
    "**Answer:**\n",
    "\n",
    "**=**: It is an Assignment Operator,It is used for assigning the value to a variable. Constant term cannot be placed on left hand side. Example: 1=x; is invalid.\n",
    "\n",
    "**==**: It is the Eual to or a relational or comparison operator. It is used for comparing two values. It returns 1 if both the values are equal otherwise returns 0. Constant term can be placed in the left hand side. Example: 1==1 is valid and returns 1. \n",
    "\n",
    "Example:"
   ]
  },
  {
   "cell_type": "code",
   "execution_count": 4,
   "id": "aaf3b5c5",
   "metadata": {
    "ExecuteTime": {
     "end_time": "2023-06-01T16:53:58.328621Z",
     "start_time": "2023-06-01T16:53:58.313331Z"
    }
   },
   "outputs": [
    {
     "name": "stdout",
     "output_type": "stream",
     "text": [
      "False\n",
      "10\n"
     ]
    }
   ],
   "source": [
    "# Eualto or Relational or Comparison operator:\n",
    "if(20==30):\n",
    "    print('True')\n",
    "else:\n",
    "    print('False')\n",
    "\n",
    "# Assignment Operator:\n",
    "a=10\n",
    "print(a)"
   ]
  },
  {
   "cell_type": "markdown",
   "id": "f2aae76b",
   "metadata": {},
   "source": [
    "**7. Identify the three blocks in this code:**\n",
    "\n",
    "spam = 0\n",
    "\n",
    "if spam == 10:\n",
    "\n",
    "print('eggs')\n",
    "\n",
    "if spam > 5:\n",
    "\n",
    "print('bacon')\n",
    "\n",
    "else:\n",
    "\n",
    "print('ham')\n",
    "\n",
    "print('spam')\n",
    "\n",
    "print('spam')\n",
    "\n",
    "**Answer:**"
   ]
  },
  {
   "cell_type": "code",
   "execution_count": 5,
   "id": "1302a13f",
   "metadata": {
    "ExecuteTime": {
     "end_time": "2023-06-01T16:59:24.543924Z",
     "start_time": "2023-06-01T16:59:24.517189Z"
    }
   },
   "outputs": [
    {
     "name": "stdout",
     "output_type": "stream",
     "text": [
      "ham\n",
      "spam\n",
      "spam\n"
     ]
    }
   ],
   "source": [
    "spam = 0\n",
    "if spam == 10:\n",
    "     print('eggs')  # 1st Block \n",
    "if spam > 5:\n",
    "    print('bacon')  # 2nd Block\n",
    "else:\n",
    "    print('ham')\n",
    "    print('spam')   # 3rd Block\n",
    "    print('spam')"
   ]
  },
  {
   "cell_type": "markdown",
   "id": "bef89924",
   "metadata": {},
   "source": [
    "**8. Write code that prints Hello if 1 is stored in spam, prints Howdy if 2 is stored in spam, and prints Greetings! if anything else is stored in spam.**\n",
    "\n",
    "**Answer:**"
   ]
  },
  {
   "cell_type": "code",
   "execution_count": 15,
   "id": "75d5b3aa",
   "metadata": {
    "ExecuteTime": {
     "end_time": "2023-06-01T17:37:45.633560Z",
     "start_time": "2023-06-01T17:37:43.767772Z"
    }
   },
   "outputs": [
    {
     "name": "stdout",
     "output_type": "stream",
     "text": [
      "45\n",
      "Greetings....!\n"
     ]
    }
   ],
   "source": [
    "spam = int(input())\n",
    "if spam==1:\n",
    "    print(\"Hello\")\n",
    "    \n",
    "elif spam ==2:\n",
    "    print(\"Howdy\")\n",
    "else:\n",
    "    print(\"Greetings....!\")     "
   ]
  },
  {
   "cell_type": "markdown",
   "id": "1b7aff06",
   "metadata": {},
   "source": [
    "**9.If your program is stuck in an endless loop, what keys you’ll press?**\n",
    "\n",
    "**Answer:**\n",
    "Press CTRL-C to stop a program stuck in an infinite loop."
   ]
  },
  {
   "cell_type": "markdown",
   "id": "6a8f543a",
   "metadata": {},
   "source": [
    "**10. How can you tell the difference between break and continue?**\n",
    "\n",
    "**Answer:** \n",
    "\n",
    "The break statement will move the execution outside and just after a loop.\n",
    "\n",
    "The continue statement will move the execution to the start of the loop."
   ]
  },
  {
   "cell_type": "code",
   "execution_count": 18,
   "id": "dcf7010a",
   "metadata": {
    "ExecuteTime": {
     "end_time": "2023-06-01T17:47:44.865485Z",
     "start_time": "2023-06-01T17:47:44.848482Z"
    }
   },
   "outputs": [
    {
     "name": "stdout",
     "output_type": "stream",
     "text": [
      "0\n",
      "1\n",
      "2\n",
      "Breaked\n",
      "0\n",
      "1\n",
      "3\n",
      "4\n"
     ]
    }
   ],
   "source": [
    "# Break\n",
    "for i in range(5):\n",
    "    if(i==3):\n",
    "        break\n",
    "    print(i)\n",
    "print('Breaked')\n",
    "\n",
    "#use of  continue\n",
    "for i in range(5):\n",
    "    if(i==2):\n",
    "        continue\n",
    "    print(i)"
   ]
  },
  {
   "cell_type": "markdown",
   "id": "d47f3712",
   "metadata": {},
   "source": [
    "**11. In a for loop, what is the difference between range(10), range(0, 10), and range(0, 10, 1)?**\n",
    "\n",
    "**Answer:**\n",
    "\n",
    "The range() function in python useful to provide a squence of numbers.\n",
    "\n",
    "range(n) gives numbers from 0 to n-1.\n",
    "For example: if range(10), it will return numbers from 0 to 9. \n",
    "\n",
    "We can also mension the starting number, ending number.\n",
    "as: range(0,10). In this case, it will give numbers from 0 to 9.\n",
    "\n",
    "We can also specify the step size. The step size represents the increment in the value of the variable at each step.\n",
    "For example: range(0,10,1) will give numbers from 0 to 9 in steps of 1.\n",
    "\n",
    "**Example in Practical manner**"
   ]
  },
  {
   "cell_type": "code",
   "execution_count": 23,
   "id": "3d8dd586",
   "metadata": {
    "ExecuteTime": {
     "end_time": "2023-06-01T18:15:41.809614Z",
     "start_time": "2023-06-01T18:15:41.793895Z"
    }
   },
   "outputs": [
    {
     "name": "stdout",
     "output_type": "stream",
     "text": [
      "0\n",
      "1\n",
      "2\n",
      "3\n",
      "4\n",
      "5\n",
      "6\n",
      "7\n",
      "8\n",
      "9\n",
      "*************\n",
      "0\n",
      "1\n",
      "2\n",
      "3\n",
      "4\n",
      "5\n",
      "6\n",
      "7\n",
      "8\n",
      "9\n",
      "#############\n",
      "0\n",
      "1\n",
      "2\n",
      "3\n",
      "4\n",
      "5\n",
      "6\n",
      "7\n",
      "8\n",
      "9\n",
      "$$$$$$$$$$$$$\n"
     ]
    }
   ],
   "source": [
    "for i in range(10):\n",
    "    print(i)\n",
    "    \n",
    "print(\"*************\") # Here Asterisk pattern given because to understand the output sequence.\n",
    "    \n",
    "for i in range(0,10):\n",
    "    print(i)\n",
    "    \n",
    "print(\"#############\") # Here Hash pattern given because to understand the output sequence.\n",
    "    \n",
    "for i in range(0,10,1):\n",
    "    print(i)\n",
    "    \n",
    "print(\"$$$$$$$$$$$$$\") # Here Dollar sign pattern given because to understand the output sequence."
   ]
  },
  {
   "cell_type": "markdown",
   "id": "556bbc0f",
   "metadata": {},
   "source": [
    "**12. Write a short12. Write a short program that prints the numbers 1 to 10 using a for loop. Then write an equivalent program that prints the numbers 1 to 10 using a while loop. Then write an equivalent program that prints the numbers 1 to 10 using a while loop.**\n",
    "\n",
    "**Answer:**"
   ]
  },
  {
   "cell_type": "code",
   "execution_count": 28,
   "id": "cbf5f5b2",
   "metadata": {
    "ExecuteTime": {
     "end_time": "2023-06-01T18:24:38.985476Z",
     "start_time": "2023-06-01T18:24:38.978235Z"
    }
   },
   "outputs": [
    {
     "name": "stdout",
     "output_type": "stream",
     "text": [
      "1\n",
      "2\n",
      "3\n",
      "4\n",
      "5\n",
      "6\n",
      "7\n",
      "8\n",
      "9\n",
      "10\n",
      "End\n",
      "1\n",
      "2\n",
      "3\n",
      "4\n",
      "5\n",
      "6\n",
      "7\n",
      "8\n",
      "9\n",
      "10\n",
      "End\n"
     ]
    }
   ],
   "source": [
    "# short program that prints the numbers 1 to 10 using a for loop\n",
    "for i in range(1,11):\n",
    "    print(i)\n",
    "    \n",
    "print(\"End\")\n",
    "\n",
    "x = 1\n",
    "while x<= 10:\n",
    "    print(x)\n",
    "    x+=1\n",
    "print(\"End\")"
   ]
  },
  {
   "cell_type": "markdown",
   "id": "75fc23f8",
   "metadata": {},
   "source": [
    "**13. If you had a function named bacon() inside a module named spam, how would you call it after importing spam?**\n",
    "\n",
    "**Answer:** function called with spam.bacon()"
   ]
  }
 ],
 "metadata": {
  "hide_input": false,
  "kernelspec": {
   "display_name": "Python 3",
   "language": "python",
   "name": "python3"
  },
  "language_info": {
   "codemirror_mode": {
    "name": "ipython",
    "version": 3
   },
   "file_extension": ".py",
   "mimetype": "text/x-python",
   "name": "python",
   "nbconvert_exporter": "python",
   "pygments_lexer": "ipython3",
   "version": "3.8.5"
  },
  "latex_envs": {
   "LaTeX_envs_menu_present": true,
   "autoclose": false,
   "autocomplete": true,
   "bibliofile": "biblio.bib",
   "cite_by": "apalike",
   "current_citInitial": 1,
   "eqLabelWithNumbers": true,
   "eqNumInitial": 1,
   "hotkeys": {
    "equation": "Ctrl-E",
    "itemize": "Ctrl-I"
   },
   "labels_anchors": false,
   "latex_user_defs": false,
   "report_style_numbering": false,
   "user_envs_cfg": false
  },
  "nbTranslate": {
   "displayLangs": [
    "*"
   ],
   "hotkey": "alt-t",
   "langInMainMenu": true,
   "sourceLang": "en",
   "targetLang": "fr",
   "useGoogleTranslate": true
  },
  "varInspector": {
   "cols": {
    "lenName": 16,
    "lenType": 16,
    "lenVar": 40
   },
   "kernels_config": {
    "python": {
     "delete_cmd_postfix": "",
     "delete_cmd_prefix": "del ",
     "library": "var_list.py",
     "varRefreshCmd": "print(var_dic_list())"
    },
    "r": {
     "delete_cmd_postfix": ") ",
     "delete_cmd_prefix": "rm(",
     "library": "var_list.r",
     "varRefreshCmd": "cat(var_dic_list()) "
    }
   },
   "types_to_exclude": [
    "module",
    "function",
    "builtin_function_or_method",
    "instance",
    "_Feature"
   ],
   "window_display": false
  }
 },
 "nbformat": 4,
 "nbformat_minor": 5
}
